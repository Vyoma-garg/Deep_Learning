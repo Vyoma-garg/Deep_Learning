{
  "nbformat": 4,
  "nbformat_minor": 0,
  "metadata": {
    "colab": {
      "name": "0_sequential_regression_NN.ipynb",
      "provenance": [],
      "authorship_tag": "ABX9TyNBgAQ/Ka+p0GqZsgDZxkwm",
      "include_colab_link": true
    },
    "kernelspec": {
      "name": "python3",
      "display_name": "Python 3"
    },
    "language_info": {
      "name": "python"
    }
  },
  "cells": [
    {
      "cell_type": "markdown",
      "metadata": {
        "id": "view-in-github",
        "colab_type": "text"
      },
      "source": [
        "<a href=\"https://colab.research.google.com/github/Vyoma-garg/Deep_Learning/blob/main/0_sequential_regression_NN.ipynb\" target=\"_parent\"><img src=\"https://colab.research.google.com/assets/colab-badge.svg\" alt=\"Open In Colab\"/></a>"
      ]
    },
    {
      "cell_type": "markdown",
      "source": [
        "# Sequential Regression Model in Neural Networks"
      ],
      "metadata": {
        "id": "ZQ_ML8XY9JLn"
      }
    },
    {
      "cell_type": "code",
      "source": [
        "from sklearn.model_selection import train_test_split\n",
        "import keras\n",
        "from keras.models import Sequential\n",
        "from keras.layers import Dense\n",
        "import numpy as np\n",
        "import pandas as pd\n",
        "from keras import optimizer_v2"
      ],
      "metadata": {
        "id": "LEx8F8tB4Qrd"
      },
      "execution_count": 12,
      "outputs": []
    },
    {
      "cell_type": "code",
      "execution_count": 4,
      "metadata": {
        "id": "m7n_hptn2y3C",
        "colab": {
          "base_uri": "https://localhost:8080/",
          "height": 424
        },
        "outputId": "26b563b6-08ff-47b8-fe80-5229992db35e"
      },
      "outputs": [
        {
          "output_type": "execute_result",
          "data": {
            "text/html": [
              "\n",
              "  <div id=\"df-90a4cce3-1fc7-4793-a54e-b372d131b2ba\">\n",
              "    <div class=\"colab-df-container\">\n",
              "      <div>\n",
              "<style scoped>\n",
              "    .dataframe tbody tr th:only-of-type {\n",
              "        vertical-align: middle;\n",
              "    }\n",
              "\n",
              "    .dataframe tbody tr th {\n",
              "        vertical-align: top;\n",
              "    }\n",
              "\n",
              "    .dataframe thead th {\n",
              "        text-align: right;\n",
              "    }\n",
              "</style>\n",
              "<table border=\"1\" class=\"dataframe\">\n",
              "  <thead>\n",
              "    <tr style=\"text-align: right;\">\n",
              "      <th></th>\n",
              "      <th>x</th>\n",
              "      <th>y</th>\n",
              "    </tr>\n",
              "  </thead>\n",
              "  <tbody>\n",
              "    <tr>\n",
              "      <th>0</th>\n",
              "      <td>77</td>\n",
              "      <td>79.775152</td>\n",
              "    </tr>\n",
              "    <tr>\n",
              "      <th>1</th>\n",
              "      <td>21</td>\n",
              "      <td>23.177279</td>\n",
              "    </tr>\n",
              "    <tr>\n",
              "      <th>2</th>\n",
              "      <td>22</td>\n",
              "      <td>25.609262</td>\n",
              "    </tr>\n",
              "    <tr>\n",
              "      <th>3</th>\n",
              "      <td>20</td>\n",
              "      <td>17.857388</td>\n",
              "    </tr>\n",
              "    <tr>\n",
              "      <th>4</th>\n",
              "      <td>36</td>\n",
              "      <td>41.849864</td>\n",
              "    </tr>\n",
              "    <tr>\n",
              "      <th>...</th>\n",
              "      <td>...</td>\n",
              "      <td>...</td>\n",
              "    </tr>\n",
              "    <tr>\n",
              "      <th>295</th>\n",
              "      <td>71</td>\n",
              "      <td>68.545888</td>\n",
              "    </tr>\n",
              "    <tr>\n",
              "      <th>296</th>\n",
              "      <td>46</td>\n",
              "      <td>47.334876</td>\n",
              "    </tr>\n",
              "    <tr>\n",
              "      <th>297</th>\n",
              "      <td>55</td>\n",
              "      <td>54.090637</td>\n",
              "    </tr>\n",
              "    <tr>\n",
              "      <th>298</th>\n",
              "      <td>62</td>\n",
              "      <td>63.297171</td>\n",
              "    </tr>\n",
              "    <tr>\n",
              "      <th>299</th>\n",
              "      <td>47</td>\n",
              "      <td>52.459467</td>\n",
              "    </tr>\n",
              "  </tbody>\n",
              "</table>\n",
              "<p>300 rows × 2 columns</p>\n",
              "</div>\n",
              "      <button class=\"colab-df-convert\" onclick=\"convertToInteractive('df-90a4cce3-1fc7-4793-a54e-b372d131b2ba')\"\n",
              "              title=\"Convert this dataframe to an interactive table.\"\n",
              "              style=\"display:none;\">\n",
              "        \n",
              "  <svg xmlns=\"http://www.w3.org/2000/svg\" height=\"24px\"viewBox=\"0 0 24 24\"\n",
              "       width=\"24px\">\n",
              "    <path d=\"M0 0h24v24H0V0z\" fill=\"none\"/>\n",
              "    <path d=\"M18.56 5.44l.94 2.06.94-2.06 2.06-.94-2.06-.94-.94-2.06-.94 2.06-2.06.94zm-11 1L8.5 8.5l.94-2.06 2.06-.94-2.06-.94L8.5 2.5l-.94 2.06-2.06.94zm10 10l.94 2.06.94-2.06 2.06-.94-2.06-.94-.94-2.06-.94 2.06-2.06.94z\"/><path d=\"M17.41 7.96l-1.37-1.37c-.4-.4-.92-.59-1.43-.59-.52 0-1.04.2-1.43.59L10.3 9.45l-7.72 7.72c-.78.78-.78 2.05 0 2.83L4 21.41c.39.39.9.59 1.41.59.51 0 1.02-.2 1.41-.59l7.78-7.78 2.81-2.81c.8-.78.8-2.07 0-2.86zM5.41 20L4 18.59l7.72-7.72 1.47 1.35L5.41 20z\"/>\n",
              "  </svg>\n",
              "      </button>\n",
              "      \n",
              "  <style>\n",
              "    .colab-df-container {\n",
              "      display:flex;\n",
              "      flex-wrap:wrap;\n",
              "      gap: 12px;\n",
              "    }\n",
              "\n",
              "    .colab-df-convert {\n",
              "      background-color: #E8F0FE;\n",
              "      border: none;\n",
              "      border-radius: 50%;\n",
              "      cursor: pointer;\n",
              "      display: none;\n",
              "      fill: #1967D2;\n",
              "      height: 32px;\n",
              "      padding: 0 0 0 0;\n",
              "      width: 32px;\n",
              "    }\n",
              "\n",
              "    .colab-df-convert:hover {\n",
              "      background-color: #E2EBFA;\n",
              "      box-shadow: 0px 1px 2px rgba(60, 64, 67, 0.3), 0px 1px 3px 1px rgba(60, 64, 67, 0.15);\n",
              "      fill: #174EA6;\n",
              "    }\n",
              "\n",
              "    [theme=dark] .colab-df-convert {\n",
              "      background-color: #3B4455;\n",
              "      fill: #D2E3FC;\n",
              "    }\n",
              "\n",
              "    [theme=dark] .colab-df-convert:hover {\n",
              "      background-color: #434B5C;\n",
              "      box-shadow: 0px 1px 3px 1px rgba(0, 0, 0, 0.15);\n",
              "      filter: drop-shadow(0px 1px 2px rgba(0, 0, 0, 0.3));\n",
              "      fill: #FFFFFF;\n",
              "    }\n",
              "  </style>\n",
              "\n",
              "      <script>\n",
              "        const buttonEl =\n",
              "          document.querySelector('#df-90a4cce3-1fc7-4793-a54e-b372d131b2ba button.colab-df-convert');\n",
              "        buttonEl.style.display =\n",
              "          google.colab.kernel.accessAllowed ? 'block' : 'none';\n",
              "\n",
              "        async function convertToInteractive(key) {\n",
              "          const element = document.querySelector('#df-90a4cce3-1fc7-4793-a54e-b372d131b2ba');\n",
              "          const dataTable =\n",
              "            await google.colab.kernel.invokeFunction('convertToInteractive',\n",
              "                                                     [key], {});\n",
              "          if (!dataTable) return;\n",
              "\n",
              "          const docLinkHtml = 'Like what you see? Visit the ' +\n",
              "            '<a target=\"_blank\" href=https://colab.research.google.com/notebooks/data_table.ipynb>data table notebook</a>'\n",
              "            + ' to learn more about interactive tables.';\n",
              "          element.innerHTML = '';\n",
              "          dataTable['output_type'] = 'display_data';\n",
              "          await google.colab.output.renderOutput(dataTable, element);\n",
              "          const docLink = document.createElement('div');\n",
              "          docLink.innerHTML = docLinkHtml;\n",
              "          element.appendChild(docLink);\n",
              "        }\n",
              "      </script>\n",
              "    </div>\n",
              "  </div>\n",
              "  "
            ],
            "text/plain": [
              "      x          y\n",
              "0    77  79.775152\n",
              "1    21  23.177279\n",
              "2    22  25.609262\n",
              "3    20  17.857388\n",
              "4    36  41.849864\n",
              "..   ..        ...\n",
              "295  71  68.545888\n",
              "296  46  47.334876\n",
              "297  55  54.090637\n",
              "298  62  63.297171\n",
              "299  47  52.459467\n",
              "\n",
              "[300 rows x 2 columns]"
            ]
          },
          "metadata": {},
          "execution_count": 4
        }
      ],
      "source": [
        "url='https://raw.githubusercontent.com/ShantanuVidwans/sequential_regression_model/master/data.csv'\n",
        "df=pd.read_csv(url)\n",
        "df"
      ]
    },
    {
      "cell_type": "code",
      "source": [
        "#change dataframe to numpy array\n",
        "x=df.iloc[:,0:1].values\n",
        "y=df.iloc[:,1:2].values\n",
        "\n",
        "x_train,x_test,y_train,y_test= train_test_split(x,y,test_size=0.15, random_state=1)\n",
        "x_train.shape"
      ],
      "metadata": {
        "colab": {
          "base_uri": "https://localhost:8080/"
        },
        "id": "pBtIEtpE3hhz",
        "outputId": "128f60f8-52c8-428f-827f-554fec85356d"
      },
      "execution_count": 19,
      "outputs": [
        {
          "output_type": "execute_result",
          "data": {
            "text/plain": [
              "(255, 1)"
            ]
          },
          "metadata": {},
          "execution_count": 19
        }
      ]
    },
    {
      "cell_type": "code",
      "source": [
        "model= Sequential()\n",
        "model.add(Dense(200,input_dim=1,activation='relu'))\n",
        "model.add(Dense(200,input_dim=200,activation='relu'))\n",
        "model.add(Dense(200,input_dim=200,activation='relu'))\n",
        "model.add(Dense(1,input_dim=200,activation='linear'))"
      ],
      "metadata": {
        "id": "A3nq7TZD4u7M"
      },
      "execution_count": 8,
      "outputs": []
    },
    {
      "cell_type": "code",
      "source": [
        "opt=keras.optimizer_v2.adam.Adam(lr=0.001, beta_1=0.9, beta_2=0.999, amsgrad=False)\n",
        "model.compile(loss='mean_squared_error', optimizer= opt, metrics=['mse'])\n",
        "model.summary()"
      ],
      "metadata": {
        "colab": {
          "base_uri": "https://localhost:8080/"
        },
        "id": "Qrk-IQFn5bUK",
        "outputId": "d4a10bfa-cc56-4b6a-e0ae-28ab63d59d63"
      },
      "execution_count": 18,
      "outputs": [
        {
          "output_type": "stream",
          "name": "stdout",
          "text": [
            "Model: \"sequential\"\n",
            "_________________________________________________________________\n",
            " Layer (type)                Output Shape              Param #   \n",
            "=================================================================\n",
            " dense (Dense)               (None, 200)               400       \n",
            "                                                                 \n",
            " dense_1 (Dense)             (None, 200)               40200     \n",
            "                                                                 \n",
            " dense_2 (Dense)             (None, 200)               40200     \n",
            "                                                                 \n",
            " dense_3 (Dense)             (None, 1)                 201       \n",
            "                                                                 \n",
            "=================================================================\n",
            "Total params: 81,001\n",
            "Trainable params: 81,001\n",
            "Non-trainable params: 0\n",
            "_________________________________________________________________\n"
          ]
        },
        {
          "output_type": "stream",
          "name": "stderr",
          "text": [
            "/usr/local/lib/python3.7/dist-packages/keras/optimizer_v2/adam.py:105: UserWarning: The `lr` argument is deprecated, use `learning_rate` instead.\n",
            "  super(Adam, self).__init__(name, **kwargs)\n"
          ]
        }
      ]
    },
    {
      "cell_type": "code",
      "source": [
        "training=model.fit(x_train, y_train, epochs=50, batch_size=32, validation_split=0.15, validation_data=None, verbose=1)\n"
      ],
      "metadata": {
        "colab": {
          "base_uri": "https://localhost:8080/"
        },
        "id": "WeUbQrWP68Cg",
        "outputId": "e083c004-8e7c-496d-f349-7ccc1e93b705"
      },
      "execution_count": 21,
      "outputs": [
        {
          "output_type": "stream",
          "name": "stdout",
          "text": [
            "Epoch 1/50\n",
            "7/7 [==============================] - 1s 38ms/step - loss: 2352.6045 - mse: 2352.6045 - val_loss: 1374.7682 - val_mse: 1374.7682\n",
            "Epoch 2/50\n",
            "7/7 [==============================] - 0s 8ms/step - loss: 513.7947 - mse: 513.7947 - val_loss: 17.1614 - val_mse: 17.1614\n",
            "Epoch 3/50\n",
            "7/7 [==============================] - 0s 7ms/step - loss: 164.1567 - mse: 164.1567 - val_loss: 271.4440 - val_mse: 271.4440\n",
            "Epoch 4/50\n",
            "7/7 [==============================] - 0s 7ms/step - loss: 68.0423 - mse: 68.0423 - val_loss: 22.4146 - val_mse: 22.4146\n",
            "Epoch 5/50\n",
            "7/7 [==============================] - 0s 8ms/step - loss: 56.4117 - mse: 56.4117 - val_loss: 47.5875 - val_mse: 47.5875\n",
            "Epoch 6/50\n",
            "7/7 [==============================] - 0s 12ms/step - loss: 24.1350 - mse: 24.1350 - val_loss: 21.7196 - val_mse: 21.7196\n",
            "Epoch 7/50\n",
            "7/7 [==============================] - 0s 7ms/step - loss: 21.9370 - mse: 21.9370 - val_loss: 22.9139 - val_mse: 22.9139\n",
            "Epoch 8/50\n",
            "7/7 [==============================] - 0s 8ms/step - loss: 11.9972 - mse: 11.9972 - val_loss: 12.7074 - val_mse: 12.7074\n",
            "Epoch 9/50\n",
            "7/7 [==============================] - 0s 8ms/step - loss: 12.7446 - mse: 12.7446 - val_loss: 10.1604 - val_mse: 10.1604\n",
            "Epoch 10/50\n",
            "7/7 [==============================] - 0s 8ms/step - loss: 10.2489 - mse: 10.2489 - val_loss: 11.5077 - val_mse: 11.5077\n",
            "Epoch 11/50\n",
            "7/7 [==============================] - 0s 8ms/step - loss: 9.7786 - mse: 9.7786 - val_loss: 9.4350 - val_mse: 9.4350\n",
            "Epoch 12/50\n",
            "7/7 [==============================] - 0s 9ms/step - loss: 9.4052 - mse: 9.4052 - val_loss: 10.6531 - val_mse: 10.6531\n",
            "Epoch 13/50\n",
            "7/7 [==============================] - 0s 9ms/step - loss: 9.4805 - mse: 9.4805 - val_loss: 10.3676 - val_mse: 10.3676\n",
            "Epoch 14/50\n",
            "7/7 [==============================] - 0s 8ms/step - loss: 9.4821 - mse: 9.4821 - val_loss: 10.3475 - val_mse: 10.3475\n",
            "Epoch 15/50\n",
            "7/7 [==============================] - 0s 8ms/step - loss: 9.4416 - mse: 9.4416 - val_loss: 9.4013 - val_mse: 9.4013\n",
            "Epoch 16/50\n",
            "7/7 [==============================] - 0s 8ms/step - loss: 9.7401 - mse: 9.7401 - val_loss: 11.4522 - val_mse: 11.4522\n",
            "Epoch 17/50\n",
            "7/7 [==============================] - 0s 9ms/step - loss: 9.6595 - mse: 9.6595 - val_loss: 9.3856 - val_mse: 9.3856\n",
            "Epoch 18/50\n",
            "7/7 [==============================] - 0s 8ms/step - loss: 9.7182 - mse: 9.7182 - val_loss: 11.5294 - val_mse: 11.5294\n",
            "Epoch 19/50\n",
            "7/7 [==============================] - 0s 8ms/step - loss: 9.8326 - mse: 9.8326 - val_loss: 9.8802 - val_mse: 9.8802\n",
            "Epoch 20/50\n",
            "7/7 [==============================] - 0s 9ms/step - loss: 9.3689 - mse: 9.3689 - val_loss: 10.4964 - val_mse: 10.4964\n",
            "Epoch 21/50\n",
            "7/7 [==============================] - 0s 8ms/step - loss: 9.6068 - mse: 9.6068 - val_loss: 10.3985 - val_mse: 10.3985\n",
            "Epoch 22/50\n",
            "7/7 [==============================] - 0s 8ms/step - loss: 9.4494 - mse: 9.4494 - val_loss: 10.5642 - val_mse: 10.5642\n",
            "Epoch 23/50\n",
            "7/7 [==============================] - 0s 8ms/step - loss: 9.3977 - mse: 9.3977 - val_loss: 9.5965 - val_mse: 9.5965\n",
            "Epoch 24/50\n",
            "7/7 [==============================] - 0s 9ms/step - loss: 9.6824 - mse: 9.6824 - val_loss: 10.2839 - val_mse: 10.2839\n",
            "Epoch 25/50\n",
            "7/7 [==============================] - 0s 8ms/step - loss: 9.4679 - mse: 9.4679 - val_loss: 10.2514 - val_mse: 10.2514\n",
            "Epoch 26/50\n",
            "7/7 [==============================] - 0s 8ms/step - loss: 9.4095 - mse: 9.4095 - val_loss: 9.6699 - val_mse: 9.6699\n",
            "Epoch 27/50\n",
            "7/7 [==============================] - 0s 8ms/step - loss: 9.5735 - mse: 9.5735 - val_loss: 10.1629 - val_mse: 10.1629\n",
            "Epoch 28/50\n",
            "7/7 [==============================] - 0s 8ms/step - loss: 9.3730 - mse: 9.3730 - val_loss: 9.6016 - val_mse: 9.6016\n",
            "Epoch 29/50\n",
            "7/7 [==============================] - 0s 22ms/step - loss: 9.5213 - mse: 9.5213 - val_loss: 10.1372 - val_mse: 10.1372\n",
            "Epoch 30/50\n",
            "7/7 [==============================] - 0s 17ms/step - loss: 9.3843 - mse: 9.3843 - val_loss: 9.8637 - val_mse: 9.8637\n",
            "Epoch 31/50\n",
            "7/7 [==============================] - 0s 13ms/step - loss: 9.4140 - mse: 9.4140 - val_loss: 10.2189 - val_mse: 10.2189\n",
            "Epoch 32/50\n",
            "7/7 [==============================] - 0s 19ms/step - loss: 9.3511 - mse: 9.3511 - val_loss: 9.7551 - val_mse: 9.7551\n",
            "Epoch 33/50\n",
            "7/7 [==============================] - 0s 15ms/step - loss: 9.3824 - mse: 9.3824 - val_loss: 9.8239 - val_mse: 9.8239\n",
            "Epoch 34/50\n",
            "7/7 [==============================] - 0s 16ms/step - loss: 9.4577 - mse: 9.4577 - val_loss: 9.7190 - val_mse: 9.7190\n",
            "Epoch 35/50\n",
            "7/7 [==============================] - 0s 15ms/step - loss: 9.3990 - mse: 9.3990 - val_loss: 10.1145 - val_mse: 10.1145\n",
            "Epoch 36/50\n",
            "7/7 [==============================] - 0s 16ms/step - loss: 9.6268 - mse: 9.6268 - val_loss: 10.3392 - val_mse: 10.3392\n",
            "Epoch 37/50\n",
            "7/7 [==============================] - 0s 15ms/step - loss: 9.6548 - mse: 9.6548 - val_loss: 9.8528 - val_mse: 9.8528\n",
            "Epoch 38/50\n",
            "7/7 [==============================] - 0s 18ms/step - loss: 9.3431 - mse: 9.3431 - val_loss: 9.7947 - val_mse: 9.7947\n",
            "Epoch 39/50\n",
            "7/7 [==============================] - 0s 13ms/step - loss: 9.3697 - mse: 9.3697 - val_loss: 9.3310 - val_mse: 9.3310\n",
            "Epoch 40/50\n",
            "7/7 [==============================] - 0s 16ms/step - loss: 9.3781 - mse: 9.3781 - val_loss: 10.2346 - val_mse: 10.2346\n",
            "Epoch 41/50\n",
            "7/7 [==============================] - 0s 14ms/step - loss: 9.3402 - mse: 9.3402 - val_loss: 9.2349 - val_mse: 9.2349\n",
            "Epoch 42/50\n",
            "7/7 [==============================] - 0s 15ms/step - loss: 9.6579 - mse: 9.6579 - val_loss: 11.1643 - val_mse: 11.1643\n",
            "Epoch 43/50\n",
            "7/7 [==============================] - 0s 14ms/step - loss: 9.2563 - mse: 9.2563 - val_loss: 9.4720 - val_mse: 9.4720\n",
            "Epoch 44/50\n",
            "7/7 [==============================] - 0s 14ms/step - loss: 9.2586 - mse: 9.2586 - val_loss: 10.2870 - val_mse: 10.2870\n",
            "Epoch 45/50\n",
            "7/7 [==============================] - 0s 21ms/step - loss: 9.2919 - mse: 9.2919 - val_loss: 9.7959 - val_mse: 9.7959\n",
            "Epoch 46/50\n",
            "7/7 [==============================] - 0s 17ms/step - loss: 9.5402 - mse: 9.5402 - val_loss: 11.3730 - val_mse: 11.3730\n",
            "Epoch 47/50\n",
            "7/7 [==============================] - 0s 24ms/step - loss: 9.7657 - mse: 9.7657 - val_loss: 9.4896 - val_mse: 9.4896\n",
            "Epoch 48/50\n",
            "7/7 [==============================] - 0s 10ms/step - loss: 9.4120 - mse: 9.4120 - val_loss: 9.4922 - val_mse: 9.4922\n",
            "Epoch 49/50\n",
            "7/7 [==============================] - 0s 8ms/step - loss: 9.3746 - mse: 9.3746 - val_loss: 10.2296 - val_mse: 10.2296\n",
            "Epoch 50/50\n",
            "7/7 [==============================] - 0s 8ms/step - loss: 9.2486 - mse: 9.2486 - val_loss: 10.0707 - val_mse: 10.0707\n"
          ]
        }
      ]
    },
    {
      "cell_type": "code",
      "source": [
        "keras.backend.clear_session()"
      ],
      "metadata": {
        "id": "kFOh_dDp5jBG"
      },
      "execution_count": 22,
      "outputs": []
    },
    {
      "cell_type": "code",
      "source": [
        "pred=model.predict(x_test)\n",
        "pred"
      ],
      "metadata": {
        "colab": {
          "base_uri": "https://localhost:8080/"
        },
        "id": "NVt4Hkrf8Ivz",
        "outputId": "16303f36-517e-406c-8486-cb9b4ddc34db"
      },
      "execution_count": 24,
      "outputs": [
        {
          "output_type": "execute_result",
          "data": {
            "text/plain": [
              "array([[ 46.470367 ],\n",
              "       [ 12.049167 ],\n",
              "       [  3.9190516],\n",
              "       [ 44.445618 ],\n",
              "       [ -1.1631153],\n",
              "       [ 20.148283 ],\n",
              "       [ 58.618874 ],\n",
              "       [ 53.55699  ],\n",
              "       [  5.9734106],\n",
              "       [ 54.569366 ],\n",
              "       [ 76.84163  ],\n",
              "       [ 60.64362  ],\n",
              "       [ 47.482742 ],\n",
              "       [ 69.755    ],\n",
              "       [ 99.11388  ],\n",
              "       [ 52.54462  ],\n",
              "       [ 19.135893 ],\n",
              "       [ 66.71787  ],\n",
              "       [  6.98722  ],\n",
              "       [ 27.23501  ],\n",
              "       [ 21.160673 ],\n",
              "       [ 41.408466 ],\n",
              "       [ 96.07675  ],\n",
              "       [ 97.08913  ],\n",
              "       [ 12.049167 ],\n",
              "       [ 87.97775  ],\n",
              "       [ 55.581745 ],\n",
              "       [ 67.730255 ],\n",
              "       [ -1.1631153],\n",
              "       [ 37.358902 ],\n",
              "       [ 53.556995 ],\n",
              "       [ 91.01487  ],\n",
              "       [ 14.073946 ],\n",
              "       [ 57.606495 ],\n",
              "       [ 88.99012  ],\n",
              "       [ 59.63125  ],\n",
              "       [ 14.073946 ],\n",
              "       [ 49.507492 ],\n",
              "       [ 68.74262  ],\n",
              "       [ 96.07675  ],\n",
              "       [101.138626 ],\n",
              "       [ 14.073946 ],\n",
              "       [ 73.8045   ],\n",
              "       [ 36.346516 ],\n",
              "       [ 46.470367 ]], dtype=float32)"
            ]
          },
          "metadata": {},
          "execution_count": 24
        }
      ]
    },
    {
      "cell_type": "code",
      "source": [
        "pred.shape"
      ],
      "metadata": {
        "colab": {
          "base_uri": "https://localhost:8080/"
        },
        "id": "UZ9ByRV28nEX",
        "outputId": "d1a5e8f3-f191-4365-bead-231169b0a8e5"
      },
      "execution_count": 26,
      "outputs": [
        {
          "output_type": "execute_result",
          "data": {
            "text/plain": [
              "(45, 1)"
            ]
          },
          "metadata": {},
          "execution_count": 26
        }
      ]
    },
    {
      "cell_type": "code",
      "source": [
        "import matplotlib.pyplot as plt\n",
        "plt.plot(pred)"
      ],
      "metadata": {
        "colab": {
          "base_uri": "https://localhost:8080/",
          "height": 282
        },
        "id": "HusOTiJs8T-3",
        "outputId": "50af34c7-5e99-45d5-deeb-541b4630529c"
      },
      "execution_count": 25,
      "outputs": [
        {
          "output_type": "execute_result",
          "data": {
            "text/plain": [
              "[<matplotlib.lines.Line2D at 0x7fc2191dbf50>]"
            ]
          },
          "metadata": {},
          "execution_count": 25
        },
        {
          "output_type": "display_data",
          "data": {
            "image/png": "[encoded data removed]",
            "text/plain": [
              "<Figure size 432x288 with 1 Axes>"
            ]
          },
          "metadata": {
            "needs_background": "light"
          }
        }
      ]
    }
  ]
}