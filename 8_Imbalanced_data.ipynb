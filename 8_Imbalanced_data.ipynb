{
  "nbformat": 4,
  "nbformat_minor": 0,
  "metadata": {
    "colab": {
      "name": "8_Imbalanced_data.ipynb",
      "provenance": [],
      "authorship_tag": "ABX9TyMS7f7xBfezHGb9aGaf4SRd",
      "include_colab_link": true
    },
    "kernelspec": {
      "name": "python3",
      "display_name": "Python 3"
    },
    "language_info": {
      "name": "python"
    }
  },
  "cells": [
    {
      "cell_type": "markdown",
      "metadata": {
        "id": "view-in-github",
        "colab_type": "text"
      },
      "source": [
        "<a href=\"https://colab.research.google.com/github/Vyoma-garg/Deep_Learning/blob/main/8_Imbalanced_data.ipynb\" target=\"_parent\"><img src=\"https://colab.research.google.com/assets/colab-badge.svg\" alt=\"Open In Colab\"/></a>"
      ]
    },
    {
      "cell_type": "code",
      "execution_count": 1,
      "metadata": {
        "id": "qCg6BIKe1IfN"
      },
      "outputs": [],
      "source": [
        "import numpy as np\n",
        "import tensorflow as tf\n",
        "from tensorflow import keras\n",
        "import pandas as pd\n",
        "from matplotlib import pyplot as plt\n",
        "%matplotlib inline\n",
        "from sklearn.model_selection import train_test_split"
      ]
    },
    {
      "cell_type": "code",
      "source": [
        "url='https://raw.githubusercontent.com/codebasics/deep-learning-keras-tf-tutorial/master/11_chrun_prediction/customer_churn.csv'\n",
        "df=pd.read_csv(url)\n",
        "df.head()"
      ],
      "metadata": {
        "colab": {
          "base_uri": "https://localhost:8080/",
          "height": 357
        },
        "id": "AdOR059s1JCb",
        "outputId": "6f042eb6-1439-43c1-89d4-661321d42627"
      },
      "execution_count": 2,
      "outputs": [
        {
          "output_type": "execute_result",
          "data": {
            "text/html": [
              "\n",
              "  <div id=\"df-78d86ab8-d164-43b8-9728-212ce6d50e92\">\n",
              "    <div class=\"colab-df-container\">\n",
              "      <div>\n",
              "<style scoped>\n",
              "    .dataframe tbody tr th:only-of-type {\n",
              "        vertical-align: middle;\n",
              "    }\n",
              "\n",
              "    .dataframe tbody tr th {\n",
              "        vertical-align: top;\n",
              "    }\n",
              "\n",
              "    .dataframe thead th {\n",
              "        text-align: right;\n",
              "    }\n",
              "</style>\n",
              "<table border=\"1\" class=\"dataframe\">\n",
              "  <thead>\n",
              "    <tr style=\"text-align: right;\">\n",
              "      <th></th>\n",
              "      <th>customerID</th>\n",
              "      <th>gender</th>\n",
              "      <th>SeniorCitizen</th>\n",
              "      <th>Partner</th>\n",
              "      <th>Dependents</th>\n",
              "      <th>tenure</th>\n",
              "      <th>PhoneService</th>\n",
              "      <th>MultipleLines</th>\n",
              "      <th>InternetService</th>\n",
              "      <th>OnlineSecurity</th>\n",
              "      <th>OnlineBackup</th>\n",
              "      <th>DeviceProtection</th>\n",
              "      <th>TechSupport</th>\n",
              "      <th>StreamingTV</th>\n",
              "      <th>StreamingMovies</th>\n",
              "      <th>Contract</th>\n",
              "      <th>PaperlessBilling</th>\n",
              "      <th>PaymentMethod</th>\n",
              "      <th>MonthlyCharges</th>\n",
              "      <th>TotalCharges</th>\n",
              "      <th>Churn</th>\n",
              "    </tr>\n",
              "  </thead>\n",
              "  <tbody>\n",
              "    <tr>\n",
              "      <th>0</th>\n",
              "      <td>7590-VHVEG</td>\n",
              "      <td>Female</td>\n",
              "      <td>0</td>\n",
              "      <td>Yes</td>\n",
              "      <td>No</td>\n",
              "      <td>1</td>\n",
              "      <td>No</td>\n",
              "      <td>No phone service</td>\n",
              "      <td>DSL</td>\n",
              "      <td>No</td>\n",
              "      <td>Yes</td>\n",
              "      <td>No</td>\n",
              "      <td>No</td>\n",
              "      <td>No</td>\n",
              "      <td>No</td>\n",
              "      <td>Month-to-month</td>\n",
              "      <td>Yes</td>\n",
              "      <td>Electronic check</td>\n",
              "      <td>29.85</td>\n",
              "      <td>29.85</td>\n",
              "      <td>No</td>\n",
              "    </tr>\n",
              "    <tr>\n",
              "      <th>1</th>\n",
              "      <td>5575-GNVDE</td>\n",
              "      <td>Male</td>\n",
              "      <td>0</td>\n",
              "      <td>No</td>\n",
              "      <td>No</td>\n",
              "      <td>34</td>\n",
              "      <td>Yes</td>\n",
              "      <td>No</td>\n",
              "      <td>DSL</td>\n",
              "      <td>Yes</td>\n",
              "      <td>No</td>\n",
              "      <td>Yes</td>\n",
              "      <td>No</td>\n",
              "      <td>No</td>\n",
              "      <td>No</td>\n",
              "      <td>One year</td>\n",
              "      <td>No</td>\n",
              "      <td>Mailed check</td>\n",
              "      <td>56.95</td>\n",
              "      <td>1889.5</td>\n",
              "      <td>No</td>\n",
              "    </tr>\n",
              "    <tr>\n",
              "      <th>2</th>\n",
              "      <td>3668-QPYBK</td>\n",
              "      <td>Male</td>\n",
              "      <td>0</td>\n",
              "      <td>No</td>\n",
              "      <td>No</td>\n",
              "      <td>2</td>\n",
              "      <td>Yes</td>\n",
              "      <td>No</td>\n",
              "      <td>DSL</td>\n",
              "      <td>Yes</td>\n",
              "      <td>Yes</td>\n",
              "      <td>No</td>\n",
              "      <td>No</td>\n",
              "      <td>No</td>\n",
              "      <td>No</td>\n",
              "      <td>Month-to-month</td>\n",
              "      <td>Yes</td>\n",
              "      <td>Mailed check</td>\n",
              "      <td>53.85</td>\n",
              "      <td>108.15</td>\n",
              "      <td>Yes</td>\n",
              "    </tr>\n",
              "    <tr>\n",
              "      <th>3</th>\n",
              "      <td>7795-CFOCW</td>\n",
              "      <td>Male</td>\n",
              "      <td>0</td>\n",
              "      <td>No</td>\n",
              "      <td>No</td>\n",
              "      <td>45</td>\n",
              "      <td>No</td>\n",
              "      <td>No phone service</td>\n",
              "      <td>DSL</td>\n",
              "      <td>Yes</td>\n",
              "      <td>No</td>\n",
              "      <td>Yes</td>\n",
              "      <td>Yes</td>\n",
              "      <td>No</td>\n",
              "      <td>No</td>\n",
              "      <td>One year</td>\n",
              "      <td>No</td>\n",
              "      <td>Bank transfer (automatic)</td>\n",
              "      <td>42.30</td>\n",
              "      <td>1840.75</td>\n",
              "      <td>No</td>\n",
              "    </tr>\n",
              "    <tr>\n",
              "      <th>4</th>\n",
              "      <td>9237-HQITU</td>\n",
              "      <td>Female</td>\n",
              "      <td>0</td>\n",
              "      <td>No</td>\n",
              "      <td>No</td>\n",
              "      <td>2</td>\n",
              "      <td>Yes</td>\n",
              "      <td>No</td>\n",
              "      <td>Fiber optic</td>\n",
              "      <td>No</td>\n",
              "      <td>No</td>\n",
              "      <td>No</td>\n",
              "      <td>No</td>\n",
              "      <td>No</td>\n",
              "      <td>No</td>\n",
              "      <td>Month-to-month</td>\n",
              "      <td>Yes</td>\n",
              "      <td>Electronic check</td>\n",
              "      <td>70.70</td>\n",
              "      <td>151.65</td>\n",
              "      <td>Yes</td>\n",
              "    </tr>\n",
              "  </tbody>\n",
              "</table>\n",
              "</div>\n",
              "      <button class=\"colab-df-convert\" onclick=\"convertToInteractive('df-78d86ab8-d164-43b8-9728-212ce6d50e92')\"\n",
              "              title=\"Convert this dataframe to an interactive table.\"\n",
              "              style=\"display:none;\">\n",
              "        \n",
              "  <svg xmlns=\"http://www.w3.org/2000/svg\" height=\"24px\"viewBox=\"0 0 24 24\"\n",
              "       width=\"24px\">\n",
              "    <path d=\"M0 0h24v24H0V0z\" fill=\"none\"/>\n",
              "    <path d=\"M18.56 5.44l.94 2.06.94-2.06 2.06-.94-2.06-.94-.94-2.06-.94 2.06-2.06.94zm-11 1L8.5 8.5l.94-2.06 2.06-.94-2.06-.94L8.5 2.5l-.94 2.06-2.06.94zm10 10l.94 2.06.94-2.06 2.06-.94-2.06-.94-.94-2.06-.94 2.06-2.06.94z\"/><path d=\"M17.41 7.96l-1.37-1.37c-.4-.4-.92-.59-1.43-.59-.52 0-1.04.2-1.43.59L10.3 9.45l-7.72 7.72c-.78.78-.78 2.05 0 2.83L4 21.41c.39.39.9.59 1.41.59.51 0 1.02-.2 1.41-.59l7.78-7.78 2.81-2.81c.8-.78.8-2.07 0-2.86zM5.41 20L4 18.59l7.72-7.72 1.47 1.35L5.41 20z\"/>\n",
              "  </svg>\n",
              "      </button>\n",
              "      \n",
              "  <style>\n",
              "    .colab-df-container {\n",
              "      display:flex;\n",
              "      flex-wrap:wrap;\n",
              "      gap: 12px;\n",
              "    }\n",
              "\n",
              "    .colab-df-convert {\n",
              "      background-color: #E8F0FE;\n",
              "      border: none;\n",
              "      border-radius: 50%;\n",
              "      cursor: pointer;\n",
              "      display: none;\n",
              "      fill: #1967D2;\n",
              "      height: 32px;\n",
              "      padding: 0 0 0 0;\n",
              "      width: 32px;\n",
              "    }\n",
              "\n",
              "    .colab-df-convert:hover {\n",
              "      background-color: #E2EBFA;\n",
              "      box-shadow: 0px 1px 2px rgba(60, 64, 67, 0.3), 0px 1px 3px 1px rgba(60, 64, 67, 0.15);\n",
              "      fill: #174EA6;\n",
              "    }\n",
              "\n",
              "    [theme=dark] .colab-df-convert {\n",
              "      background-color: #3B4455;\n",
              "      fill: #D2E3FC;\n",
              "    }\n",
              "\n",
              "    [theme=dark] .colab-df-convert:hover {\n",
              "      background-color: #434B5C;\n",
              "      box-shadow: 0px 1px 3px 1px rgba(0, 0, 0, 0.15);\n",
              "      filter: drop-shadow(0px 1px 2px rgba(0, 0, 0, 0.3));\n",
              "      fill: #FFFFFF;\n",
              "    }\n",
              "  </style>\n",
              "\n",
              "      <script>\n",
              "        const buttonEl =\n",
              "          document.querySelector('#df-78d86ab8-d164-43b8-9728-212ce6d50e92 button.colab-df-convert');\n",
              "        buttonEl.style.display =\n",
              "          google.colab.kernel.accessAllowed ? 'block' : 'none';\n",
              "\n",
              "        async function convertToInteractive(key) {\n",
              "          const element = document.querySelector('#df-78d86ab8-d164-43b8-9728-212ce6d50e92');\n",
              "          const dataTable =\n",
              "            await google.colab.kernel.invokeFunction('convertToInteractive',\n",
              "                                                     [key], {});\n",
              "          if (!dataTable) return;\n",
              "\n",
              "          const docLinkHtml = 'Like what you see? Visit the ' +\n",
              "            '<a target=\"_blank\" href=https://colab.research.google.com/notebooks/data_table.ipynb>data table notebook</a>'\n",
              "            + ' to learn more about interactive tables.';\n",
              "          element.innerHTML = '';\n",
              "          dataTable['output_type'] = 'display_data';\n",
              "          await google.colab.output.renderOutput(dataTable, element);\n",
              "          const docLink = document.createElement('div');\n",
              "          docLink.innerHTML = docLinkHtml;\n",
              "          element.appendChild(docLink);\n",
              "        }\n",
              "      </script>\n",
              "    </div>\n",
              "  </div>\n",
              "  "
            ],
            "text/plain": [
              "   customerID  gender  SeniorCitizen  ... MonthlyCharges TotalCharges  Churn\n",
              "0  7590-VHVEG  Female              0  ...          29.85        29.85     No\n",
              "1  5575-GNVDE    Male              0  ...          56.95       1889.5     No\n",
              "2  3668-QPYBK    Male              0  ...          53.85       108.15    Yes\n",
              "3  7795-CFOCW    Male              0  ...          42.30      1840.75     No\n",
              "4  9237-HQITU  Female              0  ...          70.70       151.65    Yes\n",
              "\n",
              "[5 rows x 21 columns]"
            ]
          },
          "metadata": {},
          "execution_count": 2
        }
      ]
    },
    {
      "cell_type": "code",
      "source": [
        "df.drop('customerID',axis = 'columns', inplace = True)\n",
        "df.dtypes"
      ],
      "metadata": {
        "colab": {
          "base_uri": "https://localhost:8080/"
        },
        "id": "CaXnvLYv4Jwa",
        "outputId": "884cf421-e75e-4ad7-9661-38cef6cf0fe0"
      },
      "execution_count": 3,
      "outputs": [
        {
          "output_type": "execute_result",
          "data": {
            "text/plain": [
              "gender               object\n",
              "SeniorCitizen         int64\n",
              "Partner              object\n",
              "Dependents           object\n",
              "tenure                int64\n",
              "PhoneService         object\n",
              "MultipleLines        object\n",
              "InternetService      object\n",
              "OnlineSecurity       object\n",
              "OnlineBackup         object\n",
              "DeviceProtection     object\n",
              "TechSupport          object\n",
              "StreamingTV          object\n",
              "StreamingMovies      object\n",
              "Contract             object\n",
              "PaperlessBilling     object\n",
              "PaymentMethod        object\n",
              "MonthlyCharges      float64\n",
              "TotalCharges         object\n",
              "Churn                object\n",
              "dtype: object"
            ]
          },
          "metadata": {},
          "execution_count": 3
        }
      ]
    },
    {
      "cell_type": "code",
      "source": [
        "df.TotalCharges.values"
      ],
      "metadata": {
        "colab": {
          "base_uri": "https://localhost:8080/"
        },
        "id": "mgFv0FjP4PVo",
        "outputId": "a49e7e5b-cf04-4e23-94b2-a758e15bd50a"
      },
      "execution_count": 4,
      "outputs": [
        {
          "output_type": "execute_result",
          "data": {
            "text/plain": [
              "array(['29.85', '1889.5', '108.15', ..., '346.45', '306.6', '6844.5'],\n",
              "      dtype=object)"
            ]
          },
          "metadata": {},
          "execution_count": 4
        }
      ]
    },
    {
      "cell_type": "code",
      "source": [
        "pd.to_numeric(df.TotalCharges)"
      ],
      "metadata": {
        "colab": {
          "base_uri": "https://localhost:8080/",
          "height": 443
        },
        "id": "qjGsvCNI1Xkv",
        "outputId": "b8f2cdbe-a828-4df1-cdbd-696e45362798"
      },
      "execution_count": null,
      "outputs": [
        {
          "output_type": "error",
          "ename": "ValueError",
          "evalue": "ignored",
          "traceback": [
            "\u001b[0;31m---------------------------------------------------------------------------\u001b[0m",
            "\u001b[0;31mValueError\u001b[0m                                Traceback (most recent call last)",
            "\u001b[0;32mpandas/_libs/lib.pyx\u001b[0m in \u001b[0;36mpandas._libs.lib.maybe_convert_numeric\u001b[0;34m()\u001b[0m\n",
            "\u001b[0;31mValueError\u001b[0m: Unable to parse string \" \"",
            "\nDuring handling of the above exception, another exception occurred:\n",
            "\u001b[0;31mValueError\u001b[0m                                Traceback (most recent call last)",
            "\u001b[0;32m<ipython-input-6-06ba430a4ba5>\u001b[0m in \u001b[0;36m<module>\u001b[0;34m()\u001b[0m\n\u001b[0;32m----> 1\u001b[0;31m \u001b[0mpd\u001b[0m\u001b[0;34m.\u001b[0m\u001b[0mto_numeric\u001b[0m\u001b[0;34m(\u001b[0m\u001b[0mdf\u001b[0m\u001b[0;34m.\u001b[0m\u001b[0mTotalCharges\u001b[0m\u001b[0;34m)\u001b[0m\u001b[0;34m\u001b[0m\u001b[0;34m\u001b[0m\u001b[0m\n\u001b[0m",
            "\u001b[0;32m/usr/local/lib/python3.7/dist-packages/pandas/core/tools/numeric.py\u001b[0m in \u001b[0;36mto_numeric\u001b[0;34m(arg, errors, downcast)\u001b[0m\n\u001b[1;32m    151\u001b[0m         \u001b[0;32mtry\u001b[0m\u001b[0;34m:\u001b[0m\u001b[0;34m\u001b[0m\u001b[0;34m\u001b[0m\u001b[0m\n\u001b[1;32m    152\u001b[0m             values = lib.maybe_convert_numeric(\n\u001b[0;32m--> 153\u001b[0;31m                 \u001b[0mvalues\u001b[0m\u001b[0;34m,\u001b[0m \u001b[0mset\u001b[0m\u001b[0;34m(\u001b[0m\u001b[0;34m)\u001b[0m\u001b[0;34m,\u001b[0m \u001b[0mcoerce_numeric\u001b[0m\u001b[0;34m=\u001b[0m\u001b[0mcoerce_numeric\u001b[0m\u001b[0;34m\u001b[0m\u001b[0;34m\u001b[0m\u001b[0m\n\u001b[0m\u001b[1;32m    154\u001b[0m             )\n\u001b[1;32m    155\u001b[0m         \u001b[0;32mexcept\u001b[0m \u001b[0;34m(\u001b[0m\u001b[0mValueError\u001b[0m\u001b[0;34m,\u001b[0m \u001b[0mTypeError\u001b[0m\u001b[0;34m)\u001b[0m\u001b[0;34m:\u001b[0m\u001b[0;34m\u001b[0m\u001b[0;34m\u001b[0m\u001b[0m\n",
            "\u001b[0;32mpandas/_libs/lib.pyx\u001b[0m in \u001b[0;36mpandas._libs.lib.maybe_convert_numeric\u001b[0;34m()\u001b[0m\n",
            "\u001b[0;31mValueError\u001b[0m: Unable to parse string \" \" at position 488"
          ]
        }
      ]
    },
    {
      "cell_type": "code",
      "source": [
        "pd.to_numeric(df.TotalCharges, errors = 'coerce') #replace space with NULL"
      ],
      "metadata": {
        "colab": {
          "base_uri": "https://localhost:8080/"
        },
        "id": "J84awgw_4WnG",
        "outputId": "b3603aa0-c4cd-4edc-e3bc-9600d4768e86"
      },
      "execution_count": 5,
      "outputs": [
        {
          "output_type": "execute_result",
          "data": {
            "text/plain": [
              "0         29.85\n",
              "1       1889.50\n",
              "2        108.15\n",
              "3       1840.75\n",
              "4        151.65\n",
              "         ...   \n",
              "7038    1990.50\n",
              "7039    7362.90\n",
              "7040     346.45\n",
              "7041     306.60\n",
              "7042    6844.50\n",
              "Name: TotalCharges, Length: 7043, dtype: float64"
            ]
          },
          "metadata": {},
          "execution_count": 5
        }
      ]
    },
    {
      "cell_type": "code",
      "source": [
        "pd.to_numeric(df.TotalCharges, errors = 'coerce').isnull()"
      ],
      "metadata": {
        "colab": {
          "base_uri": "https://localhost:8080/"
        },
        "id": "ZSr2z3jO4ab_",
        "outputId": "1e843280-b1ba-4a20-81c9-2c3c9b02d4f3"
      },
      "execution_count": 6,
      "outputs": [
        {
          "output_type": "execute_result",
          "data": {
            "text/plain": [
              "0       False\n",
              "1       False\n",
              "2       False\n",
              "3       False\n",
              "4       False\n",
              "        ...  \n",
              "7038    False\n",
              "7039    False\n",
              "7040    False\n",
              "7041    False\n",
              "7042    False\n",
              "Name: TotalCharges, Length: 7043, dtype: bool"
            ]
          },
          "metadata": {},
          "execution_count": 6
        }
      ]
    },
    {
      "cell_type": "code",
      "source": [
        "df[pd.to_numeric(df.TotalCharges, errors = 'coerce').isnull()] #works as an index"
      ],
      "metadata": {
        "colab": {
          "base_uri": "https://localhost:8080/",
          "height": 615
        },
        "id": "vkddFCIy4ne1",
        "outputId": "f7b82da4-84f5-4966-f703-f57b25fa248d"
      },
      "execution_count": 7,
      "outputs": [
        {
          "output_type": "execute_result",
          "data": {
            "text/html": [
              "\n",
              "  <div id=\"df-c2f7f59f-4fd6-4ed3-817f-e484e54d3efc\">\n",
              "    <div class=\"colab-df-container\">\n",
              "      <div>\n",
              "<style scoped>\n",
              "    .dataframe tbody tr th:only-of-type {\n",
              "        vertical-align: middle;\n",
              "    }\n",
              "\n",
              "    .dataframe tbody tr th {\n",
              "        vertical-align: top;\n",
              "    }\n",
              "\n",
              "    .dataframe thead th {\n",
              "        text-align: right;\n",
              "    }\n",
              "</style>\n",
              "<table border=\"1\" class=\"dataframe\">\n",
              "  <thead>\n",
              "    <tr style=\"text-align: right;\">\n",
              "      <th></th>\n",
              "      <th>gender</th>\n",
              "      <th>SeniorCitizen</th>\n",
              "      <th>Partner</th>\n",
              "      <th>Dependents</th>\n",
              "      <th>tenure</th>\n",
              "      <th>PhoneService</th>\n",
              "      <th>MultipleLines</th>\n",
              "      <th>InternetService</th>\n",
              "      <th>OnlineSecurity</th>\n",
              "      <th>OnlineBackup</th>\n",
              "      <th>DeviceProtection</th>\n",
              "      <th>TechSupport</th>\n",
              "      <th>StreamingTV</th>\n",
              "      <th>StreamingMovies</th>\n",
              "      <th>Contract</th>\n",
              "      <th>PaperlessBilling</th>\n",
              "      <th>PaymentMethod</th>\n",
              "      <th>MonthlyCharges</th>\n",
              "      <th>TotalCharges</th>\n",
              "      <th>Churn</th>\n",
              "    </tr>\n",
              "  </thead>\n",
              "  <tbody>\n",
              "    <tr>\n",
              "      <th>488</th>\n",
              "      <td>Female</td>\n",
              "      <td>0</td>\n",
              "      <td>Yes</td>\n",
              "      <td>Yes</td>\n",
              "      <td>0</td>\n",
              "      <td>No</td>\n",
              "      <td>No phone service</td>\n",
              "      <td>DSL</td>\n",
              "      <td>Yes</td>\n",
              "      <td>No</td>\n",
              "      <td>Yes</td>\n",
              "      <td>Yes</td>\n",
              "      <td>Yes</td>\n",
              "      <td>No</td>\n",
              "      <td>Two year</td>\n",
              "      <td>Yes</td>\n",
              "      <td>Bank transfer (automatic)</td>\n",
              "      <td>52.55</td>\n",
              "      <td></td>\n",
              "      <td>No</td>\n",
              "    </tr>\n",
              "    <tr>\n",
              "      <th>753</th>\n",
              "      <td>Male</td>\n",
              "      <td>0</td>\n",
              "      <td>No</td>\n",
              "      <td>Yes</td>\n",
              "      <td>0</td>\n",
              "      <td>Yes</td>\n",
              "      <td>No</td>\n",
              "      <td>No</td>\n",
              "      <td>No internet service</td>\n",
              "      <td>No internet service</td>\n",
              "      <td>No internet service</td>\n",
              "      <td>No internet service</td>\n",
              "      <td>No internet service</td>\n",
              "      <td>No internet service</td>\n",
              "      <td>Two year</td>\n",
              "      <td>No</td>\n",
              "      <td>Mailed check</td>\n",
              "      <td>20.25</td>\n",
              "      <td></td>\n",
              "      <td>No</td>\n",
              "    </tr>\n",
              "    <tr>\n",
              "      <th>936</th>\n",
              "      <td>Female</td>\n",
              "      <td>0</td>\n",
              "      <td>Yes</td>\n",
              "      <td>Yes</td>\n",
              "      <td>0</td>\n",
              "      <td>Yes</td>\n",
              "      <td>No</td>\n",
              "      <td>DSL</td>\n",
              "      <td>Yes</td>\n",
              "      <td>Yes</td>\n",
              "      <td>Yes</td>\n",
              "      <td>No</td>\n",
              "      <td>Yes</td>\n",
              "      <td>Yes</td>\n",
              "      <td>Two year</td>\n",
              "      <td>No</td>\n",
              "      <td>Mailed check</td>\n",
              "      <td>80.85</td>\n",
              "      <td></td>\n",
              "      <td>No</td>\n",
              "    </tr>\n",
              "    <tr>\n",
              "      <th>1082</th>\n",
              "      <td>Male</td>\n",
              "      <td>0</td>\n",
              "      <td>Yes</td>\n",
              "      <td>Yes</td>\n",
              "      <td>0</td>\n",
              "      <td>Yes</td>\n",
              "      <td>Yes</td>\n",
              "      <td>No</td>\n",
              "      <td>No internet service</td>\n",
              "      <td>No internet service</td>\n",
              "      <td>No internet service</td>\n",
              "      <td>No internet service</td>\n",
              "      <td>No internet service</td>\n",
              "      <td>No internet service</td>\n",
              "      <td>Two year</td>\n",
              "      <td>No</td>\n",
              "      <td>Mailed check</td>\n",
              "      <td>25.75</td>\n",
              "      <td></td>\n",
              "      <td>No</td>\n",
              "    </tr>\n",
              "    <tr>\n",
              "      <th>1340</th>\n",
              "      <td>Female</td>\n",
              "      <td>0</td>\n",
              "      <td>Yes</td>\n",
              "      <td>Yes</td>\n",
              "      <td>0</td>\n",
              "      <td>No</td>\n",
              "      <td>No phone service</td>\n",
              "      <td>DSL</td>\n",
              "      <td>Yes</td>\n",
              "      <td>Yes</td>\n",
              "      <td>Yes</td>\n",
              "      <td>Yes</td>\n",
              "      <td>Yes</td>\n",
              "      <td>No</td>\n",
              "      <td>Two year</td>\n",
              "      <td>No</td>\n",
              "      <td>Credit card (automatic)</td>\n",
              "      <td>56.05</td>\n",
              "      <td></td>\n",
              "      <td>No</td>\n",
              "    </tr>\n",
              "    <tr>\n",
              "      <th>3331</th>\n",
              "      <td>Male</td>\n",
              "      <td>0</td>\n",
              "      <td>Yes</td>\n",
              "      <td>Yes</td>\n",
              "      <td>0</td>\n",
              "      <td>Yes</td>\n",
              "      <td>No</td>\n",
              "      <td>No</td>\n",
              "      <td>No internet service</td>\n",
              "      <td>No internet service</td>\n",
              "      <td>No internet service</td>\n",
              "      <td>No internet service</td>\n",
              "      <td>No internet service</td>\n",
              "      <td>No internet service</td>\n",
              "      <td>Two year</td>\n",
              "      <td>No</td>\n",
              "      <td>Mailed check</td>\n",
              "      <td>19.85</td>\n",
              "      <td></td>\n",
              "      <td>No</td>\n",
              "    </tr>\n",
              "    <tr>\n",
              "      <th>3826</th>\n",
              "      <td>Male</td>\n",
              "      <td>0</td>\n",
              "      <td>Yes</td>\n",
              "      <td>Yes</td>\n",
              "      <td>0</td>\n",
              "      <td>Yes</td>\n",
              "      <td>Yes</td>\n",
              "      <td>No</td>\n",
              "      <td>No internet service</td>\n",
              "      <td>No internet service</td>\n",
              "      <td>No internet service</td>\n",
              "      <td>No internet service</td>\n",
              "      <td>No internet service</td>\n",
              "      <td>No internet service</td>\n",
              "      <td>Two year</td>\n",
              "      <td>No</td>\n",
              "      <td>Mailed check</td>\n",
              "      <td>25.35</td>\n",
              "      <td></td>\n",
              "      <td>No</td>\n",
              "    </tr>\n",
              "    <tr>\n",
              "      <th>4380</th>\n",
              "      <td>Female</td>\n",
              "      <td>0</td>\n",
              "      <td>Yes</td>\n",
              "      <td>Yes</td>\n",
              "      <td>0</td>\n",
              "      <td>Yes</td>\n",
              "      <td>No</td>\n",
              "      <td>No</td>\n",
              "      <td>No internet service</td>\n",
              "      <td>No internet service</td>\n",
              "      <td>No internet service</td>\n",
              "      <td>No internet service</td>\n",
              "      <td>No internet service</td>\n",
              "      <td>No internet service</td>\n",
              "      <td>Two year</td>\n",
              "      <td>No</td>\n",
              "      <td>Mailed check</td>\n",
              "      <td>20.00</td>\n",
              "      <td></td>\n",
              "      <td>No</td>\n",
              "    </tr>\n",
              "    <tr>\n",
              "      <th>5218</th>\n",
              "      <td>Male</td>\n",
              "      <td>0</td>\n",
              "      <td>Yes</td>\n",
              "      <td>Yes</td>\n",
              "      <td>0</td>\n",
              "      <td>Yes</td>\n",
              "      <td>No</td>\n",
              "      <td>No</td>\n",
              "      <td>No internet service</td>\n",
              "      <td>No internet service</td>\n",
              "      <td>No internet service</td>\n",
              "      <td>No internet service</td>\n",
              "      <td>No internet service</td>\n",
              "      <td>No internet service</td>\n",
              "      <td>One year</td>\n",
              "      <td>Yes</td>\n",
              "      <td>Mailed check</td>\n",
              "      <td>19.70</td>\n",
              "      <td></td>\n",
              "      <td>No</td>\n",
              "    </tr>\n",
              "    <tr>\n",
              "      <th>6670</th>\n",
              "      <td>Female</td>\n",
              "      <td>0</td>\n",
              "      <td>Yes</td>\n",
              "      <td>Yes</td>\n",
              "      <td>0</td>\n",
              "      <td>Yes</td>\n",
              "      <td>Yes</td>\n",
              "      <td>DSL</td>\n",
              "      <td>No</td>\n",
              "      <td>Yes</td>\n",
              "      <td>Yes</td>\n",
              "      <td>Yes</td>\n",
              "      <td>Yes</td>\n",
              "      <td>No</td>\n",
              "      <td>Two year</td>\n",
              "      <td>No</td>\n",
              "      <td>Mailed check</td>\n",
              "      <td>73.35</td>\n",
              "      <td></td>\n",
              "      <td>No</td>\n",
              "    </tr>\n",
              "    <tr>\n",
              "      <th>6754</th>\n",
              "      <td>Male</td>\n",
              "      <td>0</td>\n",
              "      <td>No</td>\n",
              "      <td>Yes</td>\n",
              "      <td>0</td>\n",
              "      <td>Yes</td>\n",
              "      <td>Yes</td>\n",
              "      <td>DSL</td>\n",
              "      <td>Yes</td>\n",
              "      <td>Yes</td>\n",
              "      <td>No</td>\n",
              "      <td>Yes</td>\n",
              "      <td>No</td>\n",
              "      <td>No</td>\n",
              "      <td>Two year</td>\n",
              "      <td>Yes</td>\n",
              "      <td>Bank transfer (automatic)</td>\n",
              "      <td>61.90</td>\n",
              "      <td></td>\n",
              "      <td>No</td>\n",
              "    </tr>\n",
              "  </tbody>\n",
              "</table>\n",
              "</div>\n",
              "      <button class=\"colab-df-convert\" onclick=\"convertToInteractive('df-c2f7f59f-4fd6-4ed3-817f-e484e54d3efc')\"\n",
              "              title=\"Convert this dataframe to an interactive table.\"\n",
              "              style=\"display:none;\">\n",
              "        \n",
              "  <svg xmlns=\"http://www.w3.org/2000/svg\" height=\"24px\"viewBox=\"0 0 24 24\"\n",
              "       width=\"24px\">\n",
              "    <path d=\"M0 0h24v24H0V0z\" fill=\"none\"/>\n",
              "    <path d=\"M18.56 5.44l.94 2.06.94-2.06 2.06-.94-2.06-.94-.94-2.06-.94 2.06-2.06.94zm-11 1L8.5 8.5l.94-2.06 2.06-.94-2.06-.94L8.5 2.5l-.94 2.06-2.06.94zm10 10l.94 2.06.94-2.06 2.06-.94-2.06-.94-.94-2.06-.94 2.06-2.06.94z\"/><path d=\"M17.41 7.96l-1.37-1.37c-.4-.4-.92-.59-1.43-.59-.52 0-1.04.2-1.43.59L10.3 9.45l-7.72 7.72c-.78.78-.78 2.05 0 2.83L4 21.41c.39.39.9.59 1.41.59.51 0 1.02-.2 1.41-.59l7.78-7.78 2.81-2.81c.8-.78.8-2.07 0-2.86zM5.41 20L4 18.59l7.72-7.72 1.47 1.35L5.41 20z\"/>\n",
              "  </svg>\n",
              "      </button>\n",
              "      \n",
              "  <style>\n",
              "    .colab-df-container {\n",
              "      display:flex;\n",
              "      flex-wrap:wrap;\n",
              "      gap: 12px;\n",
              "    }\n",
              "\n",
              "    .colab-df-convert {\n",
              "      background-color: #E8F0FE;\n",
              "      border: none;\n",
              "      border-radius: 50%;\n",
              "      cursor: pointer;\n",
              "      display: none;\n",
              "      fill: #1967D2;\n",
              "      height: 32px;\n",
              "      padding: 0 0 0 0;\n",
              "      width: 32px;\n",
              "    }\n",
              "\n",
              "    .colab-df-convert:hover {\n",
              "      background-color: #E2EBFA;\n",
              "      box-shadow: 0px 1px 2px rgba(60, 64, 67, 0.3), 0px 1px 3px 1px rgba(60, 64, 67, 0.15);\n",
              "      fill: #174EA6;\n",
              "    }\n",
              "\n",
              "    [theme=dark] .colab-df-convert {\n",
              "      background-color: #3B4455;\n",
              "      fill: #D2E3FC;\n",
              "    }\n",
              "\n",
              "    [theme=dark] .colab-df-convert:hover {\n",
              "      background-color: #434B5C;\n",
              "      box-shadow: 0px 1px 3px 1px rgba(0, 0, 0, 0.15);\n",
              "      filter: drop-shadow(0px 1px 2px rgba(0, 0, 0, 0.3));\n",
              "      fill: #FFFFFF;\n",
              "    }\n",
              "  </style>\n",
              "\n",
              "      <script>\n",
              "        const buttonEl =\n",
              "          document.querySelector('#df-c2f7f59f-4fd6-4ed3-817f-e484e54d3efc button.colab-df-convert');\n",
              "        buttonEl.style.display =\n",
              "          google.colab.kernel.accessAllowed ? 'block' : 'none';\n",
              "\n",
              "        async function convertToInteractive(key) {\n",
              "          const element = document.querySelector('#df-c2f7f59f-4fd6-4ed3-817f-e484e54d3efc');\n",
              "          const dataTable =\n",
              "            await google.colab.kernel.invokeFunction('convertToInteractive',\n",
              "                                                     [key], {});\n",
              "          if (!dataTable) return;\n",
              "\n",
              "          const docLinkHtml = 'Like what you see? Visit the ' +\n",
              "            '<a target=\"_blank\" href=https://colab.research.google.com/notebooks/data_table.ipynb>data table notebook</a>'\n",
              "            + ' to learn more about interactive tables.';\n",
              "          element.innerHTML = '';\n",
              "          dataTable['output_type'] = 'display_data';\n",
              "          await google.colab.output.renderOutput(dataTable, element);\n",
              "          const docLink = document.createElement('div');\n",
              "          docLink.innerHTML = docLinkHtml;\n",
              "          element.appendChild(docLink);\n",
              "        }\n",
              "      </script>\n",
              "    </div>\n",
              "  </div>\n",
              "  "
            ],
            "text/plain": [
              "      gender  SeniorCitizen Partner  ... MonthlyCharges  TotalCharges Churn\n",
              "488   Female              0     Yes  ...          52.55                  No\n",
              "753     Male              0      No  ...          20.25                  No\n",
              "936   Female              0     Yes  ...          80.85                  No\n",
              "1082    Male              0     Yes  ...          25.75                  No\n",
              "1340  Female              0     Yes  ...          56.05                  No\n",
              "3331    Male              0     Yes  ...          19.85                  No\n",
              "3826    Male              0     Yes  ...          25.35                  No\n",
              "4380  Female              0     Yes  ...          20.00                  No\n",
              "5218    Male              0     Yes  ...          19.70                  No\n",
              "6670  Female              0     Yes  ...          73.35                  No\n",
              "6754    Male              0      No  ...          61.90                  No\n",
              "\n",
              "[11 rows x 20 columns]"
            ]
          },
          "metadata": {},
          "execution_count": 7
        }
      ]
    },
    {
      "cell_type": "code",
      "source": [
        "df.iloc[488] \n",
        "print(df.shape)\n",
        "df1 = df[df.TotalCharges != ' ']\n",
        "df1.shape"
      ],
      "metadata": {
        "colab": {
          "base_uri": "https://localhost:8080/"
        },
        "id": "RJGcGV0A4rqg",
        "outputId": "fcd24f44-3978-42c2-bcad-e71cd6dd8595"
      },
      "execution_count": 8,
      "outputs": [
        {
          "output_type": "stream",
          "name": "stdout",
          "text": [
            "(7043, 20)\n"
          ]
        },
        {
          "output_type": "execute_result",
          "data": {
            "text/plain": [
              "(7032, 20)"
            ]
          },
          "metadata": {},
          "execution_count": 8
        }
      ]
    },
    {
      "cell_type": "code",
      "source": [
        "df1.TotalCharges = pd.to_numeric(df1.TotalCharges)"
      ],
      "metadata": {
        "colab": {
          "base_uri": "https://localhost:8080/"
        },
        "id": "2Pvy25-j4z3b",
        "outputId": "786db30f-a5d3-4ba7-c218-4c444a87de1f"
      },
      "execution_count": 9,
      "outputs": [
        {
          "output_type": "stream",
          "name": "stderr",
          "text": [
            "/usr/local/lib/python3.7/dist-packages/pandas/core/generic.py:5170: SettingWithCopyWarning: \n",
            "A value is trying to be set on a copy of a slice from a DataFrame.\n",
            "Try using .loc[row_indexer,col_indexer] = value instead\n",
            "\n",
            "See the caveats in the documentation: https://pandas.pydata.org/pandas-docs/stable/user_guide/indexing.html#returning-a-view-versus-a-copy\n",
            "  self[name] = value\n"
          ]
        }
      ]
    },
    {
      "cell_type": "code",
      "source": [
        "df1.TotalCharges.dtypes"
      ],
      "metadata": {
        "colab": {
          "base_uri": "https://localhost:8080/"
        },
        "id": "tPLcfoVq43wq",
        "outputId": "bc5183f0-9b0e-4519-b518-cf6bd52845e8"
      },
      "execution_count": 10,
      "outputs": [
        {
          "output_type": "execute_result",
          "data": {
            "text/plain": [
              "dtype('float64')"
            ]
          },
          "metadata": {},
          "execution_count": 10
        }
      ]
    },
    {
      "cell_type": "code",
      "source": [
        "tenure_churn_no = df1[df1.Churn == 'No'].tenure #Churn -> Not leaving company, Tenure -> Time for loyal customer\n",
        "tenure_churn_yes = df1[df1.Churn == 'Yes'].tenure #Churn -> Not leaving company, Tenure -> Time for loyal customer\n",
        "plt.xlabel('Tenure')\n",
        "plt.ylabel('# Customers')\n",
        "plt.title('Visualization')\n",
        "plt.hist([tenure_churn_yes, tenure_churn_no], color = ['green','red'], label = ['Churn - Yes', 'Churn - No'])\n",
        "plt.legend()"
      ],
      "metadata": {
        "colab": {
          "base_uri": "https://localhost:8080/",
          "height": 367
        },
        "id": "Cr_mnGUv5UIJ",
        "outputId": "96ac4afd-b9f1-48cb-8a93-8d8e2dba1a98"
      },
      "execution_count": 11,
      "outputs": [
        {
          "output_type": "stream",
          "name": "stderr",
          "text": [
            "/usr/local/lib/python3.7/dist-packages/numpy/core/_asarray.py:83: VisibleDeprecationWarning: Creating an ndarray from ragged nested sequences (which is a list-or-tuple of lists-or-tuples-or ndarrays with different lengths or shapes) is deprecated. If you meant to do this, you must specify 'dtype=object' when creating the ndarray\n",
            "  return array(a, dtype, copy=False, order=order)\n"
          ]
        },
        {
          "output_type": "execute_result",
          "data": {
            "text/plain": [
              "<matplotlib.legend.Legend at 0x7fc82daa9490>"
            ]
          },
          "metadata": {},
          "execution_count": 11
        },
        {
          "output_type": "display_data",
          "data": {
            "image/png": "[encoded data removed]",
            "text/plain": [
              "<Figure size 432x288 with 1 Axes>"
            ]
          },
          "metadata": {
            "needs_background": "light"
          }
        }
      ]
    },
    {
      "cell_type": "code",
      "source": [
        "def print_unique_col_values(df):\n",
        "    for column in df:\n",
        "        if df[column].dtypes == 'object':\n",
        "            print(f'{column} : {df[column].unique()}')\n",
        "\n",
        "print_unique_col_values(df1)"
      ],
      "metadata": {
        "colab": {
          "base_uri": "https://localhost:8080/"
        },
        "id": "BS7Spkoc6muU",
        "outputId": "168a7212-233c-40b0-adf8-381b573042e1"
      },
      "execution_count": 12,
      "outputs": [
        {
          "output_type": "stream",
          "name": "stdout",
          "text": [
            "gender : ['Female' 'Male']\n",
            "Partner : ['Yes' 'No']\n",
            "Dependents : ['No' 'Yes']\n",
            "PhoneService : ['No' 'Yes']\n",
            "MultipleLines : ['No phone service' 'No' 'Yes']\n",
            "InternetService : ['DSL' 'Fiber optic' 'No']\n",
            "OnlineSecurity : ['No' 'Yes' 'No internet service']\n",
            "OnlineBackup : ['Yes' 'No' 'No internet service']\n",
            "DeviceProtection : ['No' 'Yes' 'No internet service']\n",
            "TechSupport : ['No' 'Yes' 'No internet service']\n",
            "StreamingTV : ['No' 'Yes' 'No internet service']\n",
            "StreamingMovies : ['No' 'Yes' 'No internet service']\n",
            "Contract : ['Month-to-month' 'One year' 'Two year']\n",
            "PaperlessBilling : ['Yes' 'No']\n",
            "PaymentMethod : ['Electronic check' 'Mailed check' 'Bank transfer (automatic)'\n",
            " 'Credit card (automatic)']\n",
            "Churn : ['No' 'Yes']\n"
          ]
        }
      ]
    },
    {
      "cell_type": "code",
      "source": [
        "df1.replace('No phone service','No', inplace = True)\n",
        "df1.replace('No internet service','No', inplace = True)\n",
        "\n",
        "print_unique_col_values(df1)"
      ],
      "metadata": {
        "colab": {
          "base_uri": "https://localhost:8080/"
        },
        "id": "rc70Rt2w6rqC",
        "outputId": "d9fb5cf2-f660-444c-f9d6-0ec91c9f6d7f"
      },
      "execution_count": 13,
      "outputs": [
        {
          "output_type": "stream",
          "name": "stdout",
          "text": [
            "gender : ['Female' 'Male']\n",
            "Partner : ['Yes' 'No']\n",
            "Dependents : ['No' 'Yes']\n",
            "PhoneService : ['No' 'Yes']\n",
            "MultipleLines : ['No' 'Yes']\n",
            "InternetService : ['DSL' 'Fiber optic' 'No']\n",
            "OnlineSecurity : ['No' 'Yes']\n",
            "OnlineBackup : ['Yes' 'No']\n",
            "DeviceProtection : ['No' 'Yes']\n",
            "TechSupport : ['No' 'Yes']\n",
            "StreamingTV : ['No' 'Yes']\n",
            "StreamingMovies : ['No' 'Yes']\n",
            "Contract : ['Month-to-month' 'One year' 'Two year']\n",
            "PaperlessBilling : ['Yes' 'No']\n",
            "PaymentMethod : ['Electronic check' 'Mailed check' 'Bank transfer (automatic)'\n",
            " 'Credit card (automatic)']\n",
            "Churn : ['No' 'Yes']\n"
          ]
        },
        {
          "output_type": "stream",
          "name": "stderr",
          "text": [
            "/usr/local/lib/python3.7/dist-packages/pandas/core/frame.py:4389: SettingWithCopyWarning: \n",
            "A value is trying to be set on a copy of a slice from a DataFrame\n",
            "\n",
            "See the caveats in the documentation: https://pandas.pydata.org/pandas-docs/stable/user_guide/indexing.html#returning-a-view-versus-a-copy\n",
            "  method=method,\n"
          ]
        }
      ]
    },
    {
      "cell_type": "code",
      "source": [
        "yes_no_columns = ['Partner','Dependents','PhoneService','MultipleLines','OnlineSecurity','OnlineBackup',\n",
        "                  'DeviceProtection','TechSupport','StreamingTV','StreamingMovies','PaperlessBilling','Churn']\n",
        "\n",
        "for col in yes_no_columns:\n",
        "    df1[col].replace({'Yes' : 1, 'No' : 0}, inplace = True)"
      ],
      "metadata": {
        "colab": {
          "base_uri": "https://localhost:8080/"
        },
        "id": "LYag6a-r6w-i",
        "outputId": "f4e787ca-07d8-4ef2-96f7-73f5fa28d05f"
      },
      "execution_count": 14,
      "outputs": [
        {
          "output_type": "stream",
          "name": "stderr",
          "text": [
            "/usr/local/lib/python3.7/dist-packages/pandas/core/series.py:4582: SettingWithCopyWarning: \n",
            "A value is trying to be set on a copy of a slice from a DataFrame\n",
            "\n",
            "See the caveats in the documentation: https://pandas.pydata.org/pandas-docs/stable/user_guide/indexing.html#returning-a-view-versus-a-copy\n",
            "  method=method,\n"
          ]
        }
      ]
    },
    {
      "cell_type": "code",
      "source": [
        "for col in df1:\n",
        "    print(f'{col} : {df1[col].unique()}')"
      ],
      "metadata": {
        "colab": {
          "base_uri": "https://localhost:8080/"
        },
        "id": "D92C46vw6yjP",
        "outputId": "e4685658-9af6-4ae4-dbbb-1b70da20a9b3"
      },
      "execution_count": 15,
      "outputs": [
        {
          "output_type": "stream",
          "name": "stdout",
          "text": [
            "gender : ['Female' 'Male']\n",
            "SeniorCitizen : [0 1]\n",
            "Partner : [1 0]\n",
            "Dependents : [0 1]\n",
            "tenure : [ 1 34  2 45  8 22 10 28 62 13 16 58 49 25 69 52 71 21 12 30 47 72 17 27\n",
            "  5 46 11 70 63 43 15 60 18 66  9  3 31 50 64 56  7 42 35 48 29 65 38 68\n",
            " 32 55 37 36 41  6  4 33 67 23 57 61 14 20 53 40 59 24 44 19 54 51 26 39]\n",
            "PhoneService : [0 1]\n",
            "MultipleLines : [0 1]\n",
            "InternetService : ['DSL' 'Fiber optic' 'No']\n",
            "OnlineSecurity : [0 1]\n",
            "OnlineBackup : [1 0]\n",
            "DeviceProtection : [0 1]\n",
            "TechSupport : [0 1]\n",
            "StreamingTV : [0 1]\n",
            "StreamingMovies : [0 1]\n",
            "Contract : ['Month-to-month' 'One year' 'Two year']\n",
            "PaperlessBilling : [1 0]\n",
            "PaymentMethod : ['Electronic check' 'Mailed check' 'Bank transfer (automatic)'\n",
            " 'Credit card (automatic)']\n",
            "MonthlyCharges : [29.85 56.95 53.85 ... 63.1  44.2  78.7 ]\n",
            "TotalCharges : [  29.85 1889.5   108.15 ...  346.45  306.6  6844.5 ]\n",
            "Churn : [0 1]\n"
          ]
        }
      ]
    },
    {
      "cell_type": "code",
      "source": [
        "df1['gender'].replace({'Female' : 1, 'Male':0}, inplace = True)\n",
        "df1['gender'].unique()"
      ],
      "metadata": {
        "colab": {
          "base_uri": "https://localhost:8080/"
        },
        "id": "RUEy-WrB6-PH",
        "outputId": "722dc1ac-03a9-4042-fdd6-89bdc2c241d5"
      },
      "execution_count": 16,
      "outputs": [
        {
          "output_type": "stream",
          "name": "stderr",
          "text": [
            "/usr/local/lib/python3.7/dist-packages/pandas/core/series.py:4582: SettingWithCopyWarning: \n",
            "A value is trying to be set on a copy of a slice from a DataFrame\n",
            "\n",
            "See the caveats in the documentation: https://pandas.pydata.org/pandas-docs/stable/user_guide/indexing.html#returning-a-view-versus-a-copy\n",
            "  method=method,\n"
          ]
        },
        {
          "output_type": "execute_result",
          "data": {
            "text/plain": [
              "array([1, 0])"
            ]
          },
          "metadata": {},
          "execution_count": 16
        }
      ]
    },
    {
      "cell_type": "code",
      "source": [
        "#into one hot encoding for few columns with strigs\n",
        "df2 = pd.get_dummies( data = df1, columns = ['InternetService', 'Contract', 'PaymentMethod'])\n",
        "df2.columns"
      ],
      "metadata": {
        "colab": {
          "base_uri": "https://localhost:8080/"
        },
        "id": "2rttVaz37wUD",
        "outputId": "ae3a1fae-67a1-47f5-9e87-b722c2fd2ec5"
      },
      "execution_count": 17,
      "outputs": [
        {
          "output_type": "execute_result",
          "data": {
            "text/plain": [
              "Index(['gender', 'SeniorCitizen', 'Partner', 'Dependents', 'tenure',\n",
              "       'PhoneService', 'MultipleLines', 'OnlineSecurity', 'OnlineBackup',\n",
              "       'DeviceProtection', 'TechSupport', 'StreamingTV', 'StreamingMovies',\n",
              "       'PaperlessBilling', 'MonthlyCharges', 'TotalCharges', 'Churn',\n",
              "       'InternetService_DSL', 'InternetService_Fiber optic',\n",
              "       'InternetService_No', 'Contract_Month-to-month', 'Contract_One year',\n",
              "       'Contract_Two year', 'PaymentMethod_Bank transfer (automatic)',\n",
              "       'PaymentMethod_Credit card (automatic)',\n",
              "       'PaymentMethod_Electronic check', 'PaymentMethod_Mailed check'],\n",
              "      dtype='object')"
            ]
          },
          "metadata": {},
          "execution_count": 17
        }
      ]
    },
    {
      "cell_type": "code",
      "source": [
        "#scaling for few columns with higher values\n",
        "cols_to_scale = ['tenure', 'MonthlyCharges', 'TotalCharges']\n",
        "\n",
        "from sklearn.preprocessing import MinMaxScaler\n",
        "scaler = MinMaxScaler()\n",
        "\n",
        "df2[cols_to_scale] = scaler.fit_transform(df2[cols_to_scale])"
      ],
      "metadata": {
        "id": "g828RpJZ74PX"
      },
      "execution_count": 18,
      "outputs": []
    },
    {
      "cell_type": "code",
      "source": [
        "for cols in df2:\n",
        "    print(f'{cols} : {df2[cols].unique()}')"
      ],
      "metadata": {
        "colab": {
          "base_uri": "https://localhost:8080/"
        },
        "id": "ycsZsMXW8DCr",
        "outputId": "6b74d020-f119-4b6a-b303-aee5f2e7d23e"
      },
      "execution_count": 19,
      "outputs": [
        {
          "output_type": "stream",
          "name": "stdout",
          "text": [
            "gender : [1 0]\n",
            "SeniorCitizen : [0 1]\n",
            "Partner : [1 0]\n",
            "Dependents : [0 1]\n",
            "tenure : [0.         0.46478873 0.01408451 0.61971831 0.09859155 0.29577465\n",
            " 0.12676056 0.38028169 0.85915493 0.16901408 0.21126761 0.8028169\n",
            " 0.67605634 0.33802817 0.95774648 0.71830986 0.98591549 0.28169014\n",
            " 0.15492958 0.4084507  0.64788732 1.         0.22535211 0.36619718\n",
            " 0.05633803 0.63380282 0.14084507 0.97183099 0.87323944 0.5915493\n",
            " 0.1971831  0.83098592 0.23943662 0.91549296 0.11267606 0.02816901\n",
            " 0.42253521 0.69014085 0.88732394 0.77464789 0.08450704 0.57746479\n",
            " 0.47887324 0.66197183 0.3943662  0.90140845 0.52112676 0.94366197\n",
            " 0.43661972 0.76056338 0.50704225 0.49295775 0.56338028 0.07042254\n",
            " 0.04225352 0.45070423 0.92957746 0.30985915 0.78873239 0.84507042\n",
            " 0.18309859 0.26760563 0.73239437 0.54929577 0.81690141 0.32394366\n",
            " 0.6056338  0.25352113 0.74647887 0.70422535 0.35211268 0.53521127]\n",
            "PhoneService : [0 1]\n",
            "MultipleLines : [0 1]\n",
            "OnlineSecurity : [0 1]\n",
            "OnlineBackup : [1 0]\n",
            "DeviceProtection : [0 1]\n",
            "TechSupport : [0 1]\n",
            "StreamingTV : [0 1]\n",
            "StreamingMovies : [0 1]\n",
            "PaperlessBilling : [1 0]\n",
            "MonthlyCharges : [0.11542289 0.38507463 0.35422886 ... 0.44626866 0.25820896 0.60149254]\n",
            "TotalCharges : [0.0012751  0.21586661 0.01031041 ... 0.03780868 0.03321025 0.78764136]\n",
            "Churn : [0 1]\n",
            "InternetService_DSL : [1 0]\n",
            "InternetService_Fiber optic : [0 1]\n",
            "InternetService_No : [0 1]\n",
            "Contract_Month-to-month : [1 0]\n",
            "Contract_One year : [0 1]\n",
            "Contract_Two year : [0 1]\n",
            "PaymentMethod_Bank transfer (automatic) : [0 1]\n",
            "PaymentMethod_Credit card (automatic) : [0 1]\n",
            "PaymentMethod_Electronic check : [1 0]\n",
            "PaymentMethod_Mailed check : [0 1]\n"
          ]
        }
      ]
    },
    {
      "cell_type": "code",
      "source": [
        "X = df2.drop('Churn', axis = 'columns')\n",
        "y = df2['Churn']"
      ],
      "metadata": {
        "id": "6niHvq-P8I1l"
      },
      "execution_count": 20,
      "outputs": []
    },
    {
      "cell_type": "code",
      "source": [
        "from sklearn.model_selection import train_test_split\n",
        "X_train, X_test, y_train, y_test = train_test_split(X, y, test_size = 0.2, random_state = 5)"
      ],
      "metadata": {
        "id": "5oLjMuav8OrX"
      },
      "execution_count": 21,
      "outputs": []
    },
    {
      "cell_type": "code",
      "source": [
        "X_train.shape, X_test.shape"
      ],
      "metadata": {
        "colab": {
          "base_uri": "https://localhost:8080/"
        },
        "id": "BRAMPJj28Q1I",
        "outputId": "c39affbe-ce78-41db-ddf1-f2318cd5ef2b"
      },
      "execution_count": 22,
      "outputs": [
        {
          "output_type": "execute_result",
          "data": {
            "text/plain": [
              "((5625, 26), (1407, 26))"
            ]
          },
          "metadata": {},
          "execution_count": 22
        }
      ]
    },
    {
      "cell_type": "code",
      "source": [
        "len(X_train.columns)"
      ],
      "metadata": {
        "colab": {
          "base_uri": "https://localhost:8080/"
        },
        "id": "wh7mS8zJ8_En",
        "outputId": "50cf4278-6695-4961-b2cc-70e9688ae1d5"
      },
      "execution_count": 23,
      "outputs": [
        {
          "output_type": "execute_result",
          "data": {
            "text/plain": [
              "26"
            ]
          },
          "metadata": {},
          "execution_count": 23
        }
      ]
    },
    {
      "cell_type": "code",
      "source": [
        "from sklearn.metrics import confusion_matrix , classification_report\n",
        "\n",
        "def ANN(X_train, y_train, X_test, y_test, loss, weight):\n",
        "  model = keras.Sequential([\n",
        "                            keras.layers.Dense(20, input_shape = (26,), activation = 'relu'),\n",
        "                            keras.layers.Dense(10, activation = 'relu'),\n",
        "                            keras.layers.Dense(1, activation = 'sigmoid'),  #prediction\n",
        "  ])\n",
        "\n",
        "  model.compile(optimizer = 'adam', loss = 'binary_crossentropy', metrics = ['accuracy'])\n",
        "  \n",
        "  if weight== -1:\n",
        "    model.fit(X_train, y_train, epochs = 100)\n",
        "  else:\n",
        "    model.fit(X_train, y_train, epochs = 100, class_weight=weight)\n",
        "\n",
        "  print(model.evaluate(X_test, y_test))\n",
        "\n",
        "  y_pred= model.predict(X_test)\n",
        "  y_pred= np.round(y_pred)\n",
        "\n",
        "  print(\"Classification Report\", classification_report(y_test, y_pred))\n",
        "  return y_pred"
      ],
      "metadata": {
        "id": "2oYot77E8TT8"
      },
      "execution_count": 24,
      "outputs": []
    },
    {
      "cell_type": "code",
      "source": [
        "y_pred= ANN(X_train, y_train, X_test, y_test, 'binary_crossentropy', -1)"
      ],
      "metadata": {
        "colab": {
          "base_uri": "https://localhost:8080/"
        },
        "id": "idzGCoZUFKem",
        "outputId": "0277449f-bf62-453f-834a-4d83936324be"
      },
      "execution_count": 25,
      "outputs": [
        {
          "output_type": "stream",
          "name": "stdout",
          "text": [
            "Epoch 1/100\n",
            "176/176 [==============================] - 1s 2ms/step - loss: 0.5008 - accuracy: 0.7561\n",
            "Epoch 2/100\n",
            "176/176 [==============================] - 0s 2ms/step - loss: 0.4252 - accuracy: 0.7977\n",
            "Epoch 3/100\n",
            "176/176 [==============================] - 0s 2ms/step - loss: 0.4172 - accuracy: 0.8009\n",
            "Epoch 4/100\n",
            "176/176 [==============================] - 0s 2ms/step - loss: 0.4141 - accuracy: 0.8028\n",
            "Epoch 5/100\n",
            "176/176 [==============================] - 0s 2ms/step - loss: 0.4112 - accuracy: 0.8098\n",
            "Epoch 6/100\n",
            "176/176 [==============================] - 0s 2ms/step - loss: 0.4103 - accuracy: 0.8062\n",
            "Epoch 7/100\n",
            "176/176 [==============================] - 0s 2ms/step - loss: 0.4076 - accuracy: 0.8092\n",
            "Epoch 8/100\n",
            "176/176 [==============================] - 0s 2ms/step - loss: 0.4050 - accuracy: 0.8076\n",
            "Epoch 9/100\n",
            "176/176 [==============================] - 0s 2ms/step - loss: 0.4039 - accuracy: 0.8085\n",
            "Epoch 10/100\n",
            "176/176 [==============================] - 0s 2ms/step - loss: 0.4048 - accuracy: 0.8082\n",
            "Epoch 11/100\n",
            "176/176 [==============================] - 0s 2ms/step - loss: 0.4024 - accuracy: 0.8108\n",
            "Epoch 12/100\n",
            "176/176 [==============================] - 0s 2ms/step - loss: 0.4007 - accuracy: 0.8096\n",
            "Epoch 13/100\n",
            "176/176 [==============================] - 0s 2ms/step - loss: 0.4009 - accuracy: 0.8114\n",
            "Epoch 14/100\n",
            "176/176 [==============================] - 0s 2ms/step - loss: 0.3995 - accuracy: 0.8116\n",
            "Epoch 15/100\n",
            "176/176 [==============================] - 0s 2ms/step - loss: 0.3997 - accuracy: 0.8114\n",
            "Epoch 16/100\n",
            "176/176 [==============================] - 0s 2ms/step - loss: 0.3984 - accuracy: 0.8130\n",
            "Epoch 17/100\n",
            "176/176 [==============================] - 0s 2ms/step - loss: 0.3975 - accuracy: 0.8128\n",
            "Epoch 18/100\n",
            "176/176 [==============================] - 0s 2ms/step - loss: 0.3976 - accuracy: 0.8140\n",
            "Epoch 19/100\n",
            "176/176 [==============================] - 0s 2ms/step - loss: 0.3967 - accuracy: 0.8135\n",
            "Epoch 20/100\n",
            "176/176 [==============================] - 0s 2ms/step - loss: 0.3961 - accuracy: 0.8160\n",
            "Epoch 21/100\n",
            "176/176 [==============================] - 0s 2ms/step - loss: 0.3966 - accuracy: 0.8185\n",
            "Epoch 22/100\n",
            "176/176 [==============================] - 0s 2ms/step - loss: 0.3963 - accuracy: 0.8121\n",
            "Epoch 23/100\n",
            "176/176 [==============================] - 0s 2ms/step - loss: 0.3951 - accuracy: 0.8144\n",
            "Epoch 24/100\n",
            "176/176 [==============================] - 0s 2ms/step - loss: 0.3939 - accuracy: 0.8187\n",
            "Epoch 25/100\n",
            "176/176 [==============================] - 0s 2ms/step - loss: 0.3936 - accuracy: 0.8167\n",
            "Epoch 26/100\n",
            "176/176 [==============================] - 0s 2ms/step - loss: 0.3934 - accuracy: 0.8162\n",
            "Epoch 27/100\n",
            "176/176 [==============================] - 0s 2ms/step - loss: 0.3926 - accuracy: 0.8180\n",
            "Epoch 28/100\n",
            "176/176 [==============================] - 0s 2ms/step - loss: 0.3918 - accuracy: 0.8162\n",
            "Epoch 29/100\n",
            "176/176 [==============================] - 0s 2ms/step - loss: 0.3920 - accuracy: 0.8156\n",
            "Epoch 30/100\n",
            "176/176 [==============================] - 0s 2ms/step - loss: 0.3914 - accuracy: 0.8167\n",
            "Epoch 31/100\n",
            "176/176 [==============================] - 0s 2ms/step - loss: 0.3904 - accuracy: 0.8185\n",
            "Epoch 32/100\n",
            "176/176 [==============================] - 0s 2ms/step - loss: 0.3907 - accuracy: 0.8204\n",
            "Epoch 33/100\n",
            "176/176 [==============================] - 0s 2ms/step - loss: 0.3899 - accuracy: 0.8181\n",
            "Epoch 34/100\n",
            "176/176 [==============================] - 0s 2ms/step - loss: 0.3892 - accuracy: 0.8156\n",
            "Epoch 35/100\n",
            "176/176 [==============================] - 0s 2ms/step - loss: 0.3889 - accuracy: 0.8180\n",
            "Epoch 36/100\n",
            "176/176 [==============================] - 0s 2ms/step - loss: 0.3885 - accuracy: 0.8178\n",
            "Epoch 37/100\n",
            "176/176 [==============================] - 0s 2ms/step - loss: 0.3877 - accuracy: 0.8199\n",
            "Epoch 38/100\n",
            "176/176 [==============================] - 0s 2ms/step - loss: 0.3876 - accuracy: 0.8213\n",
            "Epoch 39/100\n",
            "176/176 [==============================] - 0s 2ms/step - loss: 0.3868 - accuracy: 0.8196\n",
            "Epoch 40/100\n",
            "176/176 [==============================] - 0s 2ms/step - loss: 0.3855 - accuracy: 0.8220\n",
            "Epoch 41/100\n",
            "176/176 [==============================] - 0s 2ms/step - loss: 0.3854 - accuracy: 0.8201\n",
            "Epoch 42/100\n",
            "176/176 [==============================] - 0s 2ms/step - loss: 0.3855 - accuracy: 0.8178\n",
            "Epoch 43/100\n",
            "176/176 [==============================] - 0s 2ms/step - loss: 0.3851 - accuracy: 0.8224\n",
            "Epoch 44/100\n",
            "176/176 [==============================] - 0s 2ms/step - loss: 0.3841 - accuracy: 0.8226\n",
            "Epoch 45/100\n",
            "176/176 [==============================] - 0s 2ms/step - loss: 0.3859 - accuracy: 0.8196\n",
            "Epoch 46/100\n",
            "176/176 [==============================] - 0s 2ms/step - loss: 0.3847 - accuracy: 0.8217\n",
            "Epoch 47/100\n",
            "176/176 [==============================] - 0s 2ms/step - loss: 0.3843 - accuracy: 0.8206\n",
            "Epoch 48/100\n",
            "176/176 [==============================] - 0s 2ms/step - loss: 0.3832 - accuracy: 0.8219\n",
            "Epoch 49/100\n",
            "176/176 [==============================] - 0s 2ms/step - loss: 0.3833 - accuracy: 0.8210\n",
            "Epoch 50/100\n",
            "176/176 [==============================] - 0s 2ms/step - loss: 0.3821 - accuracy: 0.8222\n",
            "Epoch 51/100\n",
            "176/176 [==============================] - 0s 2ms/step - loss: 0.3811 - accuracy: 0.8197\n",
            "Epoch 52/100\n",
            "176/176 [==============================] - 0s 2ms/step - loss: 0.3819 - accuracy: 0.8213\n",
            "Epoch 53/100\n",
            "176/176 [==============================] - 0s 2ms/step - loss: 0.3810 - accuracy: 0.8220\n",
            "Epoch 54/100\n",
            "176/176 [==============================] - 0s 2ms/step - loss: 0.3800 - accuracy: 0.8194\n",
            "Epoch 55/100\n",
            "176/176 [==============================] - 0s 2ms/step - loss: 0.3807 - accuracy: 0.8208\n",
            "Epoch 56/100\n",
            "176/176 [==============================] - 0s 2ms/step - loss: 0.3784 - accuracy: 0.8224\n",
            "Epoch 57/100\n",
            "176/176 [==============================] - 0s 2ms/step - loss: 0.3787 - accuracy: 0.8215\n",
            "Epoch 58/100\n",
            "176/176 [==============================] - 0s 2ms/step - loss: 0.3800 - accuracy: 0.8222\n",
            "Epoch 59/100\n",
            "176/176 [==============================] - 0s 2ms/step - loss: 0.3788 - accuracy: 0.8222\n",
            "Epoch 60/100\n",
            "176/176 [==============================] - 0s 2ms/step - loss: 0.3789 - accuracy: 0.8212\n",
            "Epoch 61/100\n",
            "176/176 [==============================] - 0s 2ms/step - loss: 0.3776 - accuracy: 0.8238\n",
            "Epoch 62/100\n",
            "176/176 [==============================] - 0s 2ms/step - loss: 0.3784 - accuracy: 0.8201\n",
            "Epoch 63/100\n",
            "176/176 [==============================] - 0s 2ms/step - loss: 0.3780 - accuracy: 0.8238\n",
            "Epoch 64/100\n",
            "176/176 [==============================] - 0s 2ms/step - loss: 0.3762 - accuracy: 0.8240\n",
            "Epoch 65/100\n",
            "176/176 [==============================] - 0s 2ms/step - loss: 0.3757 - accuracy: 0.8229\n",
            "Epoch 66/100\n",
            "176/176 [==============================] - 0s 2ms/step - loss: 0.3763 - accuracy: 0.8222\n",
            "Epoch 67/100\n",
            "176/176 [==============================] - 0s 2ms/step - loss: 0.3755 - accuracy: 0.8235\n",
            "Epoch 68/100\n",
            "176/176 [==============================] - 0s 2ms/step - loss: 0.3754 - accuracy: 0.8254\n",
            "Epoch 69/100\n",
            "176/176 [==============================] - 0s 2ms/step - loss: 0.3746 - accuracy: 0.8238\n",
            "Epoch 70/100\n",
            "176/176 [==============================] - 0s 2ms/step - loss: 0.3742 - accuracy: 0.8222\n",
            "Epoch 71/100\n",
            "176/176 [==============================] - 0s 2ms/step - loss: 0.3749 - accuracy: 0.8190\n",
            "Epoch 72/100\n",
            "176/176 [==============================] - 0s 2ms/step - loss: 0.3734 - accuracy: 0.8229\n",
            "Epoch 73/100\n",
            "176/176 [==============================] - 0s 2ms/step - loss: 0.3724 - accuracy: 0.8213\n",
            "Epoch 74/100\n",
            "176/176 [==============================] - 0s 2ms/step - loss: 0.3729 - accuracy: 0.8251\n",
            "Epoch 75/100\n",
            "176/176 [==============================] - 0s 2ms/step - loss: 0.3723 - accuracy: 0.8245\n",
            "Epoch 76/100\n",
            "176/176 [==============================] - 0s 2ms/step - loss: 0.3737 - accuracy: 0.8228\n",
            "Epoch 77/100\n",
            "176/176 [==============================] - 0s 2ms/step - loss: 0.3714 - accuracy: 0.8254\n",
            "Epoch 78/100\n",
            "176/176 [==============================] - 0s 2ms/step - loss: 0.3722 - accuracy: 0.8238\n",
            "Epoch 79/100\n",
            "176/176 [==============================] - 0s 2ms/step - loss: 0.3721 - accuracy: 0.8231\n",
            "Epoch 80/100\n",
            "176/176 [==============================] - 0s 2ms/step - loss: 0.3710 - accuracy: 0.8254\n",
            "Epoch 81/100\n",
            "176/176 [==============================] - 0s 2ms/step - loss: 0.3701 - accuracy: 0.8263\n",
            "Epoch 82/100\n",
            "176/176 [==============================] - 0s 2ms/step - loss: 0.3703 - accuracy: 0.8249\n",
            "Epoch 83/100\n",
            "176/176 [==============================] - 0s 2ms/step - loss: 0.3706 - accuracy: 0.8240\n",
            "Epoch 84/100\n",
            "176/176 [==============================] - 0s 2ms/step - loss: 0.3691 - accuracy: 0.8244\n",
            "Epoch 85/100\n",
            "176/176 [==============================] - 0s 2ms/step - loss: 0.3707 - accuracy: 0.8229\n",
            "Epoch 86/100\n",
            "176/176 [==============================] - 0s 2ms/step - loss: 0.3696 - accuracy: 0.8252\n",
            "Epoch 87/100\n",
            "176/176 [==============================] - 0s 2ms/step - loss: 0.3702 - accuracy: 0.8281\n",
            "Epoch 88/100\n",
            "176/176 [==============================] - 0s 2ms/step - loss: 0.3696 - accuracy: 0.8272\n",
            "Epoch 89/100\n",
            "176/176 [==============================] - 0s 2ms/step - loss: 0.3691 - accuracy: 0.8270\n",
            "Epoch 90/100\n",
            "176/176 [==============================] - 0s 2ms/step - loss: 0.3685 - accuracy: 0.8290\n",
            "Epoch 91/100\n",
            "176/176 [==============================] - 0s 2ms/step - loss: 0.3688 - accuracy: 0.8274\n",
            "Epoch 92/100\n",
            "176/176 [==============================] - 0s 2ms/step - loss: 0.3674 - accuracy: 0.8270\n",
            "Epoch 93/100\n",
            "176/176 [==============================] - 0s 2ms/step - loss: 0.3671 - accuracy: 0.8254\n",
            "Epoch 94/100\n",
            "176/176 [==============================] - 0s 2ms/step - loss: 0.3681 - accuracy: 0.8272\n",
            "Epoch 95/100\n",
            "176/176 [==============================] - 0s 2ms/step - loss: 0.3675 - accuracy: 0.8245\n",
            "Epoch 96/100\n",
            "176/176 [==============================] - 0s 2ms/step - loss: 0.3682 - accuracy: 0.8265\n",
            "Epoch 97/100\n",
            "176/176 [==============================] - 0s 2ms/step - loss: 0.3666 - accuracy: 0.8288\n",
            "Epoch 98/100\n",
            "176/176 [==============================] - 0s 2ms/step - loss: 0.3680 - accuracy: 0.8267\n",
            "Epoch 99/100\n",
            "176/176 [==============================] - 0s 2ms/step - loss: 0.3657 - accuracy: 0.8272\n",
            "Epoch 100/100\n",
            "176/176 [==============================] - 0s 2ms/step - loss: 0.3669 - accuracy: 0.8276\n",
            "44/44 [==============================] - 0s 2ms/step - loss: 0.4641 - accuracy: 0.7832\n",
            "[0.46410825848579407, 0.783226728439331]\n",
            "Classification Report               precision    recall  f1-score   support\n",
            "\n",
            "           0       0.83      0.88      0.85       999\n",
            "           1       0.65      0.55      0.60       408\n",
            "\n",
            "    accuracy                           0.78      1407\n",
            "   macro avg       0.74      0.72      0.72      1407\n",
            "weighted avg       0.78      0.78      0.78      1407\n",
            "\n"
          ]
        }
      ]
    },
    {
      "cell_type": "code",
      "source": [
        "y_test.value_counts()   #imbalanced data"
      ],
      "metadata": {
        "colab": {
          "base_uri": "https://localhost:8080/"
        },
        "id": "7ZpCdkxfFLGV",
        "outputId": "a848765d-8b13-4cd7-fe44-63b850a8461e"
      },
      "execution_count": 27,
      "outputs": [
        {
          "output_type": "execute_result",
          "data": {
            "text/plain": [
              "0    999\n",
              "1    408\n",
              "Name: Churn, dtype: int64"
            ]
          },
          "metadata": {},
          "execution_count": 27
        }
      ]
    },
    {
      "cell_type": "code",
      "source": [
        "#class data\n",
        "\n",
        "class_count0, class_count1= df1.Churn.value_counts()\n",
        "\n",
        "#divide by class\n",
        "df_class0= df2[df2['Churn']==0]\n",
        "df_class1= df2[df2['Churn']==1]"
      ],
      "metadata": {
        "id": "TwgtALdPFK_3"
      },
      "execution_count": 29,
      "outputs": []
    },
    {
      "cell_type": "code",
      "source": [
        "df_class0.shape, df_class1.shape"
      ],
      "metadata": {
        "colab": {
          "base_uri": "https://localhost:8080/"
        },
        "id": "DbMZpxMBFp1r",
        "outputId": "d571fafa-3695-4a98-8a95-98c64ed02286"
      },
      "execution_count": 30,
      "outputs": [
        {
          "output_type": "execute_result",
          "data": {
            "text/plain": [
              "((5163, 27), (1869, 27))"
            ]
          },
          "metadata": {},
          "execution_count": 30
        }
      ]
    },
    {
      "cell_type": "markdown",
      "source": [
        "## 1. UNDERSAMPLING"
      ],
      "metadata": {
        "id": "2w_lUjn3HMiK"
      }
    },
    {
      "cell_type": "code",
      "source": [
        "df_under_class0= df_class0.sample(class_count1)   #random sampling \n",
        "\n",
        "df_under= pd.concat([df_under_class0,df_class1 ], axis=0)\n",
        "\n",
        "print(df_under.shape)\n",
        "\n",
        "print(\"Random Under-Sampling:\")\n",
        "print(df_under.Churn.value_counts())"
      ],
      "metadata": {
        "colab": {
          "base_uri": "https://localhost:8080/"
        },
        "id": "LHByxQKMFpy9",
        "outputId": "7d9adff4-5041-4767-83e2-09f08a53db29"
      },
      "execution_count": 34,
      "outputs": [
        {
          "output_type": "stream",
          "name": "stdout",
          "text": [
            "(3738, 27)\n",
            "Random Under-Sampling:\n",
            "1    1869\n",
            "0    1869\n",
            "Name: Churn, dtype: int64\n"
          ]
        }
      ]
    },
    {
      "cell_type": "code",
      "source": [
        "X = df_under.drop('Churn', axis = 'columns')\n",
        "y = df_under['Churn']"
      ],
      "metadata": {
        "id": "T7hJjwEPIoRU"
      },
      "execution_count": 35,
      "outputs": []
    },
    {
      "cell_type": "code",
      "source": [
        "from sklearn.model_selection import train_test_split\n",
        "X_train, X_test, y_train, y_test = train_test_split(X, y, test_size = 0.2, random_state = 5,stratify=y)"
      ],
      "metadata": {
        "id": "6VYGMzYEIoRg"
      },
      "execution_count": 36,
      "outputs": []
    },
    {
      "cell_type": "code",
      "source": [
        "y_train.value_counts()   #equal number of samples both classes because of stratify argument"
      ],
      "metadata": {
        "colab": {
          "base_uri": "https://localhost:8080/"
        },
        "id": "ZyInPMyOIvfT",
        "outputId": "33f8f4db-fc57-4ab6-bda8-09f8b7614d3f"
      },
      "execution_count": 38,
      "outputs": [
        {
          "output_type": "execute_result",
          "data": {
            "text/plain": [
              "1    1495\n",
              "0    1495\n",
              "Name: Churn, dtype: int64"
            ]
          },
          "metadata": {},
          "execution_count": 38
        }
      ]
    },
    {
      "cell_type": "code",
      "source": [
        "y_pred= ANN(X_train, y_train, X_test, y_test, 'binary_crossentropy', -1)"
      ],
      "metadata": {
        "colab": {
          "base_uri": "https://localhost:8080/"
        },
        "outputId": "752d3eb7-b92b-47f5-b27d-eb07d951a596",
        "id": "lBVE7yzpIoRg"
      },
      "execution_count": 39,
      "outputs": [
        {
          "output_type": "stream",
          "name": "stdout",
          "text": [
            "Epoch 1/100\n",
            "94/94 [==============================] - 1s 2ms/step - loss: 0.6201 - accuracy: 0.6896\n",
            "Epoch 2/100\n",
            "94/94 [==============================] - 0s 2ms/step - loss: 0.5169 - accuracy: 0.7522\n",
            "Epoch 3/100\n",
            "94/94 [==============================] - 0s 2ms/step - loss: 0.4938 - accuracy: 0.7639\n",
            "Epoch 4/100\n",
            "94/94 [==============================] - 0s 2ms/step - loss: 0.4874 - accuracy: 0.7659\n",
            "Epoch 5/100\n",
            "94/94 [==============================] - 0s 2ms/step - loss: 0.4827 - accuracy: 0.7716\n",
            "Epoch 6/100\n",
            "94/94 [==============================] - 0s 2ms/step - loss: 0.4795 - accuracy: 0.7696\n",
            "Epoch 7/100\n",
            "94/94 [==============================] - 0s 2ms/step - loss: 0.4767 - accuracy: 0.7719\n",
            "Epoch 8/100\n",
            "94/94 [==============================] - 0s 2ms/step - loss: 0.4747 - accuracy: 0.7756\n",
            "Epoch 9/100\n",
            "94/94 [==============================] - 0s 2ms/step - loss: 0.4731 - accuracy: 0.7749\n",
            "Epoch 10/100\n",
            "94/94 [==============================] - 0s 2ms/step - loss: 0.4719 - accuracy: 0.7729\n",
            "Epoch 11/100\n",
            "94/94 [==============================] - 0s 2ms/step - loss: 0.4702 - accuracy: 0.7729\n",
            "Epoch 12/100\n",
            "94/94 [==============================] - 0s 2ms/step - loss: 0.4701 - accuracy: 0.7756\n",
            "Epoch 13/100\n",
            "94/94 [==============================] - 0s 2ms/step - loss: 0.4679 - accuracy: 0.7763\n",
            "Epoch 14/100\n",
            "94/94 [==============================] - 0s 2ms/step - loss: 0.4676 - accuracy: 0.7783\n",
            "Epoch 15/100\n",
            "94/94 [==============================] - 0s 2ms/step - loss: 0.4652 - accuracy: 0.7789\n",
            "Epoch 16/100\n",
            "94/94 [==============================] - 0s 2ms/step - loss: 0.4636 - accuracy: 0.7789\n",
            "Epoch 17/100\n",
            "94/94 [==============================] - 0s 2ms/step - loss: 0.4634 - accuracy: 0.7799\n",
            "Epoch 18/100\n",
            "94/94 [==============================] - 0s 2ms/step - loss: 0.4631 - accuracy: 0.7776\n",
            "Epoch 19/100\n",
            "94/94 [==============================] - 0s 2ms/step - loss: 0.4609 - accuracy: 0.7789\n",
            "Epoch 20/100\n",
            "94/94 [==============================] - 0s 2ms/step - loss: 0.4613 - accuracy: 0.7773\n",
            "Epoch 21/100\n",
            "94/94 [==============================] - 0s 2ms/step - loss: 0.4592 - accuracy: 0.7816\n",
            "Epoch 22/100\n",
            "94/94 [==============================] - 0s 2ms/step - loss: 0.4578 - accuracy: 0.7799\n",
            "Epoch 23/100\n",
            "94/94 [==============================] - 0s 2ms/step - loss: 0.4588 - accuracy: 0.7813\n",
            "Epoch 24/100\n",
            "94/94 [==============================] - 0s 2ms/step - loss: 0.4563 - accuracy: 0.7809\n",
            "Epoch 25/100\n",
            "94/94 [==============================] - 0s 2ms/step - loss: 0.4547 - accuracy: 0.7860\n",
            "Epoch 26/100\n",
            "94/94 [==============================] - 0s 2ms/step - loss: 0.4546 - accuracy: 0.7789\n",
            "Epoch 27/100\n",
            "94/94 [==============================] - 0s 2ms/step - loss: 0.4525 - accuracy: 0.7843\n",
            "Epoch 28/100\n",
            "94/94 [==============================] - 0s 2ms/step - loss: 0.4526 - accuracy: 0.7876\n",
            "Epoch 29/100\n",
            "94/94 [==============================] - 0s 2ms/step - loss: 0.4509 - accuracy: 0.7873\n",
            "Epoch 30/100\n",
            "94/94 [==============================] - 0s 2ms/step - loss: 0.4519 - accuracy: 0.7846\n",
            "Epoch 31/100\n",
            "94/94 [==============================] - 0s 2ms/step - loss: 0.4506 - accuracy: 0.7893\n",
            "Epoch 32/100\n",
            "94/94 [==============================] - 0s 2ms/step - loss: 0.4480 - accuracy: 0.7896\n",
            "Epoch 33/100\n",
            "94/94 [==============================] - 0s 2ms/step - loss: 0.4481 - accuracy: 0.7863\n",
            "Epoch 34/100\n",
            "94/94 [==============================] - 0s 2ms/step - loss: 0.4490 - accuracy: 0.7873\n",
            "Epoch 35/100\n",
            "94/94 [==============================] - 0s 2ms/step - loss: 0.4463 - accuracy: 0.7890\n",
            "Epoch 36/100\n",
            "94/94 [==============================] - 0s 2ms/step - loss: 0.4457 - accuracy: 0.7923\n",
            "Epoch 37/100\n",
            "94/94 [==============================] - 0s 2ms/step - loss: 0.4457 - accuracy: 0.7853\n",
            "Epoch 38/100\n",
            "94/94 [==============================] - 0s 2ms/step - loss: 0.4431 - accuracy: 0.7893\n",
            "Epoch 39/100\n",
            "94/94 [==============================] - 0s 2ms/step - loss: 0.4438 - accuracy: 0.7940\n",
            "Epoch 40/100\n",
            "94/94 [==============================] - 0s 2ms/step - loss: 0.4425 - accuracy: 0.7906\n",
            "Epoch 41/100\n",
            "94/94 [==============================] - 0s 2ms/step - loss: 0.4423 - accuracy: 0.7926\n",
            "Epoch 42/100\n",
            "94/94 [==============================] - 0s 2ms/step - loss: 0.4408 - accuracy: 0.7920\n",
            "Epoch 43/100\n",
            "94/94 [==============================] - 0s 2ms/step - loss: 0.4395 - accuracy: 0.7933\n",
            "Epoch 44/100\n",
            "94/94 [==============================] - 0s 2ms/step - loss: 0.4391 - accuracy: 0.7933\n",
            "Epoch 45/100\n",
            "94/94 [==============================] - 0s 2ms/step - loss: 0.4389 - accuracy: 0.7910\n",
            "Epoch 46/100\n",
            "94/94 [==============================] - 0s 2ms/step - loss: 0.4391 - accuracy: 0.7916\n",
            "Epoch 47/100\n",
            "94/94 [==============================] - 0s 2ms/step - loss: 0.4377 - accuracy: 0.7940\n",
            "Epoch 48/100\n",
            "94/94 [==============================] - 0s 2ms/step - loss: 0.4364 - accuracy: 0.7906\n",
            "Epoch 49/100\n",
            "94/94 [==============================] - 0s 2ms/step - loss: 0.4358 - accuracy: 0.7936\n",
            "Epoch 50/100\n",
            "94/94 [==============================] - 0s 2ms/step - loss: 0.4345 - accuracy: 0.7946\n",
            "Epoch 51/100\n",
            "94/94 [==============================] - 0s 2ms/step - loss: 0.4351 - accuracy: 0.7900\n",
            "Epoch 52/100\n",
            "94/94 [==============================] - 0s 2ms/step - loss: 0.4338 - accuracy: 0.7940\n",
            "Epoch 53/100\n",
            "94/94 [==============================] - 0s 2ms/step - loss: 0.4342 - accuracy: 0.7943\n",
            "Epoch 54/100\n",
            "94/94 [==============================] - 0s 2ms/step - loss: 0.4320 - accuracy: 0.7970\n",
            "Epoch 55/100\n",
            "94/94 [==============================] - 0s 2ms/step - loss: 0.4311 - accuracy: 0.7980\n",
            "Epoch 56/100\n",
            "94/94 [==============================] - 0s 2ms/step - loss: 0.4306 - accuracy: 0.7936\n",
            "Epoch 57/100\n",
            "94/94 [==============================] - 0s 2ms/step - loss: 0.4308 - accuracy: 0.7926\n",
            "Epoch 58/100\n",
            "94/94 [==============================] - 0s 2ms/step - loss: 0.4311 - accuracy: 0.7960\n",
            "Epoch 59/100\n",
            "94/94 [==============================] - 0s 2ms/step - loss: 0.4291 - accuracy: 0.7936\n",
            "Epoch 60/100\n",
            "94/94 [==============================] - 0s 2ms/step - loss: 0.4289 - accuracy: 0.7940\n",
            "Epoch 61/100\n",
            "94/94 [==============================] - 0s 2ms/step - loss: 0.4266 - accuracy: 0.7957\n",
            "Epoch 62/100\n",
            "94/94 [==============================] - 0s 2ms/step - loss: 0.4274 - accuracy: 0.7967\n",
            "Epoch 63/100\n",
            "94/94 [==============================] - 0s 2ms/step - loss: 0.4270 - accuracy: 0.8027\n",
            "Epoch 64/100\n",
            "94/94 [==============================] - 0s 2ms/step - loss: 0.4260 - accuracy: 0.7953\n",
            "Epoch 65/100\n",
            "94/94 [==============================] - 0s 2ms/step - loss: 0.4246 - accuracy: 0.8003\n",
            "Epoch 66/100\n",
            "94/94 [==============================] - 0s 2ms/step - loss: 0.4258 - accuracy: 0.7987\n",
            "Epoch 67/100\n",
            "94/94 [==============================] - 0s 2ms/step - loss: 0.4252 - accuracy: 0.7987\n",
            "Epoch 68/100\n",
            "94/94 [==============================] - 0s 2ms/step - loss: 0.4236 - accuracy: 0.7990\n",
            "Epoch 69/100\n",
            "94/94 [==============================] - 0s 2ms/step - loss: 0.4224 - accuracy: 0.8013\n",
            "Epoch 70/100\n",
            "94/94 [==============================] - 0s 2ms/step - loss: 0.4222 - accuracy: 0.8000\n",
            "Epoch 71/100\n",
            "94/94 [==============================] - 0s 2ms/step - loss: 0.4211 - accuracy: 0.8017\n",
            "Epoch 72/100\n",
            "94/94 [==============================] - 0s 2ms/step - loss: 0.4198 - accuracy: 0.8047\n",
            "Epoch 73/100\n",
            "94/94 [==============================] - 0s 2ms/step - loss: 0.4190 - accuracy: 0.8027\n",
            "Epoch 74/100\n",
            "94/94 [==============================] - 0s 2ms/step - loss: 0.4189 - accuracy: 0.8033\n",
            "Epoch 75/100\n",
            "94/94 [==============================] - 0s 2ms/step - loss: 0.4192 - accuracy: 0.8057\n",
            "Epoch 76/100\n",
            "94/94 [==============================] - 0s 2ms/step - loss: 0.4176 - accuracy: 0.8057\n",
            "Epoch 77/100\n",
            "94/94 [==============================] - 0s 2ms/step - loss: 0.4168 - accuracy: 0.8040\n",
            "Epoch 78/100\n",
            "94/94 [==============================] - 0s 2ms/step - loss: 0.4158 - accuracy: 0.8033\n",
            "Epoch 79/100\n",
            "94/94 [==============================] - 0s 2ms/step - loss: 0.4158 - accuracy: 0.8060\n",
            "Epoch 80/100\n",
            "94/94 [==============================] - 0s 2ms/step - loss: 0.4153 - accuracy: 0.8080\n",
            "Epoch 81/100\n",
            "94/94 [==============================] - 0s 2ms/step - loss: 0.4157 - accuracy: 0.8054\n",
            "Epoch 82/100\n",
            "94/94 [==============================] - 0s 2ms/step - loss: 0.4144 - accuracy: 0.8037\n",
            "Epoch 83/100\n",
            "94/94 [==============================] - 0s 2ms/step - loss: 0.4134 - accuracy: 0.8097\n",
            "Epoch 84/100\n",
            "94/94 [==============================] - 0s 2ms/step - loss: 0.4128 - accuracy: 0.8080\n",
            "Epoch 85/100\n",
            "94/94 [==============================] - 0s 2ms/step - loss: 0.4116 - accuracy: 0.8080\n",
            "Epoch 86/100\n",
            "94/94 [==============================] - 0s 2ms/step - loss: 0.4126 - accuracy: 0.8077\n",
            "Epoch 87/100\n",
            "94/94 [==============================] - 0s 2ms/step - loss: 0.4117 - accuracy: 0.8097\n",
            "Epoch 88/100\n",
            "94/94 [==============================] - 0s 2ms/step - loss: 0.4113 - accuracy: 0.8077\n",
            "Epoch 89/100\n",
            "94/94 [==============================] - 0s 2ms/step - loss: 0.4097 - accuracy: 0.8077\n",
            "Epoch 90/100\n",
            "94/94 [==============================] - 0s 2ms/step - loss: 0.4090 - accuracy: 0.8084\n",
            "Epoch 91/100\n",
            "94/94 [==============================] - 0s 2ms/step - loss: 0.4093 - accuracy: 0.8087\n",
            "Epoch 92/100\n",
            "94/94 [==============================] - 0s 2ms/step - loss: 0.4104 - accuracy: 0.8067\n",
            "Epoch 93/100\n",
            "94/94 [==============================] - 0s 2ms/step - loss: 0.4081 - accuracy: 0.8127\n",
            "Epoch 94/100\n",
            "94/94 [==============================] - 0s 2ms/step - loss: 0.4082 - accuracy: 0.8090\n",
            "Epoch 95/100\n",
            "94/94 [==============================] - 0s 2ms/step - loss: 0.4072 - accuracy: 0.8084\n",
            "Epoch 96/100\n",
            "94/94 [==============================] - 0s 2ms/step - loss: 0.4066 - accuracy: 0.8117\n",
            "Epoch 97/100\n",
            "94/94 [==============================] - 0s 2ms/step - loss: 0.4079 - accuracy: 0.8114\n",
            "Epoch 98/100\n",
            "94/94 [==============================] - 0s 2ms/step - loss: 0.4058 - accuracy: 0.8107\n",
            "Epoch 99/100\n",
            "94/94 [==============================] - 0s 2ms/step - loss: 0.4032 - accuracy: 0.8124\n",
            "Epoch 100/100\n",
            "94/94 [==============================] - 0s 2ms/step - loss: 0.4053 - accuracy: 0.8124\n",
            "24/24 [==============================] - 0s 2ms/step - loss: 0.5576 - accuracy: 0.7380\n",
            "[0.5575924515724182, 0.7379679083824158]\n",
            "Classification Report               precision    recall  f1-score   support\n",
            "\n",
            "           0       0.77      0.68      0.72       374\n",
            "           1       0.71      0.79      0.75       374\n",
            "\n",
            "    accuracy                           0.74       748\n",
            "   macro avg       0.74      0.74      0.74       748\n",
            "weighted avg       0.74      0.74      0.74       748\n",
            "\n"
          ]
        }
      ]
    },
    {
      "cell_type": "markdown",
      "source": [
        "## 2. Oversampling (duplication)"
      ],
      "metadata": {
        "id": "O2qhV1SyJLiQ"
      }
    },
    {
      "cell_type": "code",
      "source": [
        "class_count0, class_count1"
      ],
      "metadata": {
        "colab": {
          "base_uri": "https://localhost:8080/"
        },
        "id": "leYdCF5kFptd",
        "outputId": "a260bc1d-0230-4a15-88d8-90dc838f7b98"
      },
      "execution_count": 40,
      "outputs": [
        {
          "output_type": "execute_result",
          "data": {
            "text/plain": [
              "(5163, 1869)"
            ]
          },
          "metadata": {},
          "execution_count": 40
        }
      ]
    },
    {
      "cell_type": "code",
      "source": [
        "df_over_class1= df_class1.sample(class_count0, replace=True)"
      ],
      "metadata": {
        "id": "tG9Tq7IKFprM"
      },
      "execution_count": 43,
      "outputs": []
    },
    {
      "cell_type": "code",
      "source": [
        "df_over= pd.concat([df_over_class1, df_class0])\n",
        "df_over.shape"
      ],
      "metadata": {
        "colab": {
          "base_uri": "https://localhost:8080/"
        },
        "id": "rlMj0B2gI8oZ",
        "outputId": "c7f6c48c-36d0-42da-cb0c-ce9fba971754"
      },
      "execution_count": 45,
      "outputs": [
        {
          "output_type": "execute_result",
          "data": {
            "text/plain": [
              "(10326, 27)"
            ]
          },
          "metadata": {},
          "execution_count": 45
        }
      ]
    },
    {
      "cell_type": "code",
      "source": [
        "X = df_over.drop('Churn', axis = 'columns')\n",
        "y = df_over['Churn']"
      ],
      "metadata": {
        "id": "sp63bEOcW9Y1"
      },
      "execution_count": 46,
      "outputs": []
    },
    {
      "cell_type": "code",
      "source": [
        "from sklearn.model_selection import train_test_split\n",
        "X_train, X_test, y_train, y_test = train_test_split(X, y, test_size = 0.2, random_state = 5, stratify=y)"
      ],
      "metadata": {
        "id": "yGNJVGWgW9Y2"
      },
      "execution_count": 47,
      "outputs": []
    },
    {
      "cell_type": "code",
      "source": [
        "y_train.value_counts()"
      ],
      "metadata": {
        "colab": {
          "base_uri": "https://localhost:8080/"
        },
        "id": "d18MR9FHXQ3s",
        "outputId": "dd2d22ce-913a-42ad-8c9a-fd1525c43df2"
      },
      "execution_count": 49,
      "outputs": [
        {
          "output_type": "execute_result",
          "data": {
            "text/plain": [
              "1    4130\n",
              "0    4130\n",
              "Name: Churn, dtype: int64"
            ]
          },
          "metadata": {},
          "execution_count": 49
        }
      ]
    },
    {
      "cell_type": "code",
      "source": [
        "y_pred= ANN(X_train, y_train, X_test, y_test, 'binary_crossentropy', -1)"
      ],
      "metadata": {
        "colab": {
          "base_uri": "https://localhost:8080/"
        },
        "outputId": "b9c64082-6d08-46f6-8ade-4fe087bb1102",
        "id": "e8HEyhdUW9Y2"
      },
      "execution_count": 48,
      "outputs": [
        {
          "output_type": "stream",
          "name": "stdout",
          "text": [
            "Epoch 1/100\n",
            "259/259 [==============================] - 1s 2ms/step - loss: 0.5932 - accuracy: 0.6985\n",
            "Epoch 2/100\n",
            "259/259 [==============================] - 0s 2ms/step - loss: 0.5017 - accuracy: 0.7585\n",
            "Epoch 3/100\n",
            "259/259 [==============================] - 1s 2ms/step - loss: 0.4914 - accuracy: 0.7610\n",
            "Epoch 4/100\n",
            "259/259 [==============================] - 0s 2ms/step - loss: 0.4861 - accuracy: 0.7653\n",
            "Epoch 5/100\n",
            "259/259 [==============================] - 1s 2ms/step - loss: 0.4818 - accuracy: 0.7660\n",
            "Epoch 6/100\n",
            "259/259 [==============================] - 0s 2ms/step - loss: 0.4780 - accuracy: 0.7662\n",
            "Epoch 7/100\n",
            "259/259 [==============================] - 1s 2ms/step - loss: 0.4760 - accuracy: 0.7656\n",
            "Epoch 8/100\n",
            "259/259 [==============================] - 0s 2ms/step - loss: 0.4723 - accuracy: 0.7700\n",
            "Epoch 9/100\n",
            "259/259 [==============================] - 0s 2ms/step - loss: 0.4705 - accuracy: 0.7689\n",
            "Epoch 10/100\n",
            "259/259 [==============================] - 0s 2ms/step - loss: 0.4689 - accuracy: 0.7706\n",
            "Epoch 11/100\n",
            "259/259 [==============================] - 0s 2ms/step - loss: 0.4667 - accuracy: 0.7725\n",
            "Epoch 12/100\n",
            "259/259 [==============================] - 0s 2ms/step - loss: 0.4634 - accuracy: 0.7723\n",
            "Epoch 13/100\n",
            "259/259 [==============================] - 0s 2ms/step - loss: 0.4627 - accuracy: 0.7752\n",
            "Epoch 14/100\n",
            "259/259 [==============================] - 0s 2ms/step - loss: 0.4606 - accuracy: 0.7764\n",
            "Epoch 15/100\n",
            "259/259 [==============================] - 0s 2ms/step - loss: 0.4603 - accuracy: 0.7736\n",
            "Epoch 16/100\n",
            "259/259 [==============================] - 0s 2ms/step - loss: 0.4575 - accuracy: 0.7776\n",
            "Epoch 17/100\n",
            "259/259 [==============================] - 0s 2ms/step - loss: 0.4558 - accuracy: 0.7787\n",
            "Epoch 18/100\n",
            "259/259 [==============================] - 0s 2ms/step - loss: 0.4545 - accuracy: 0.7820\n",
            "Epoch 19/100\n",
            "259/259 [==============================] - 1s 2ms/step - loss: 0.4523 - accuracy: 0.7804\n",
            "Epoch 20/100\n",
            "259/259 [==============================] - 0s 2ms/step - loss: 0.4511 - accuracy: 0.7789\n",
            "Epoch 21/100\n",
            "259/259 [==============================] - 0s 2ms/step - loss: 0.4497 - accuracy: 0.7812\n",
            "Epoch 22/100\n",
            "259/259 [==============================] - 0s 2ms/step - loss: 0.4484 - accuracy: 0.7810\n",
            "Epoch 23/100\n",
            "259/259 [==============================] - 0s 2ms/step - loss: 0.4475 - accuracy: 0.7824\n",
            "Epoch 24/100\n",
            "259/259 [==============================] - 0s 2ms/step - loss: 0.4455 - accuracy: 0.7832\n",
            "Epoch 25/100\n",
            "259/259 [==============================] - 0s 2ms/step - loss: 0.4443 - accuracy: 0.7844\n",
            "Epoch 26/100\n",
            "259/259 [==============================] - 0s 2ms/step - loss: 0.4423 - accuracy: 0.7866\n",
            "Epoch 27/100\n",
            "259/259 [==============================] - 0s 2ms/step - loss: 0.4418 - accuracy: 0.7850\n",
            "Epoch 28/100\n",
            "259/259 [==============================] - 0s 2ms/step - loss: 0.4409 - accuracy: 0.7867\n",
            "Epoch 29/100\n",
            "259/259 [==============================] - 0s 2ms/step - loss: 0.4380 - accuracy: 0.7869\n",
            "Epoch 30/100\n",
            "259/259 [==============================] - 1s 2ms/step - loss: 0.4378 - accuracy: 0.7866\n",
            "Epoch 31/100\n",
            "259/259 [==============================] - 0s 2ms/step - loss: 0.4390 - accuracy: 0.7879\n",
            "Epoch 32/100\n",
            "259/259 [==============================] - 1s 2ms/step - loss: 0.4358 - accuracy: 0.7890\n",
            "Epoch 33/100\n",
            "259/259 [==============================] - 0s 2ms/step - loss: 0.4347 - accuracy: 0.7907\n",
            "Epoch 34/100\n",
            "259/259 [==============================] - 1s 2ms/step - loss: 0.4335 - accuracy: 0.7906\n",
            "Epoch 35/100\n",
            "259/259 [==============================] - 0s 2ms/step - loss: 0.4312 - accuracy: 0.7952\n",
            "Epoch 36/100\n",
            "259/259 [==============================] - 1s 2ms/step - loss: 0.4315 - accuracy: 0.7959\n",
            "Epoch 37/100\n",
            "259/259 [==============================] - 0s 2ms/step - loss: 0.4306 - accuracy: 0.7935\n",
            "Epoch 38/100\n",
            "259/259 [==============================] - 1s 2ms/step - loss: 0.4297 - accuracy: 0.7956\n",
            "Epoch 39/100\n",
            "259/259 [==============================] - 1s 2ms/step - loss: 0.4281 - accuracy: 0.7948\n",
            "Epoch 40/100\n",
            "259/259 [==============================] - 1s 2ms/step - loss: 0.4275 - accuracy: 0.7941\n",
            "Epoch 41/100\n",
            "259/259 [==============================] - 0s 2ms/step - loss: 0.4274 - accuracy: 0.7975\n",
            "Epoch 42/100\n",
            "259/259 [==============================] - 0s 2ms/step - loss: 0.4264 - accuracy: 0.7958\n",
            "Epoch 43/100\n",
            "259/259 [==============================] - 0s 2ms/step - loss: 0.4256 - accuracy: 0.7966\n",
            "Epoch 44/100\n",
            "259/259 [==============================] - 0s 2ms/step - loss: 0.4242 - accuracy: 0.7960\n",
            "Epoch 45/100\n",
            "259/259 [==============================] - 0s 2ms/step - loss: 0.4241 - accuracy: 0.7973\n",
            "Epoch 46/100\n",
            "259/259 [==============================] - 0s 2ms/step - loss: 0.4225 - accuracy: 0.7950\n",
            "Epoch 47/100\n",
            "259/259 [==============================] - 0s 2ms/step - loss: 0.4228 - accuracy: 0.7996\n",
            "Epoch 48/100\n",
            "259/259 [==============================] - 1s 2ms/step - loss: 0.4223 - accuracy: 0.7959\n",
            "Epoch 49/100\n",
            "259/259 [==============================] - 0s 2ms/step - loss: 0.4202 - accuracy: 0.8007\n",
            "Epoch 50/100\n",
            "259/259 [==============================] - 0s 2ms/step - loss: 0.4214 - accuracy: 0.7993\n",
            "Epoch 51/100\n",
            "259/259 [==============================] - 0s 2ms/step - loss: 0.4197 - accuracy: 0.7962\n",
            "Epoch 52/100\n",
            "259/259 [==============================] - 1s 2ms/step - loss: 0.4188 - accuracy: 0.7990\n",
            "Epoch 53/100\n",
            "259/259 [==============================] - 0s 2ms/step - loss: 0.4181 - accuracy: 0.8017\n",
            "Epoch 54/100\n",
            "259/259 [==============================] - 1s 2ms/step - loss: 0.4172 - accuracy: 0.8011\n",
            "Epoch 55/100\n",
            "259/259 [==============================] - 1s 2ms/step - loss: 0.4178 - accuracy: 0.8018\n",
            "Epoch 56/100\n",
            "259/259 [==============================] - 1s 2ms/step - loss: 0.4162 - accuracy: 0.8061\n",
            "Epoch 57/100\n",
            "259/259 [==============================] - 0s 2ms/step - loss: 0.4154 - accuracy: 0.8047\n",
            "Epoch 58/100\n",
            "259/259 [==============================] - 0s 2ms/step - loss: 0.4148 - accuracy: 0.8050\n",
            "Epoch 59/100\n",
            "259/259 [==============================] - 0s 2ms/step - loss: 0.4143 - accuracy: 0.8040\n",
            "Epoch 60/100\n",
            "259/259 [==============================] - 1s 2ms/step - loss: 0.4133 - accuracy: 0.8044\n",
            "Epoch 61/100\n",
            "259/259 [==============================] - 1s 2ms/step - loss: 0.4125 - accuracy: 0.8041\n",
            "Epoch 62/100\n",
            "259/259 [==============================] - 1s 2ms/step - loss: 0.4127 - accuracy: 0.8058\n",
            "Epoch 63/100\n",
            "259/259 [==============================] - 0s 2ms/step - loss: 0.4140 - accuracy: 0.8041\n",
            "Epoch 64/100\n",
            "259/259 [==============================] - 0s 2ms/step - loss: 0.4119 - accuracy: 0.8042\n",
            "Epoch 65/100\n",
            "259/259 [==============================] - 0s 2ms/step - loss: 0.4107 - accuracy: 0.8063\n",
            "Epoch 66/100\n",
            "259/259 [==============================] - 1s 2ms/step - loss: 0.4116 - accuracy: 0.8056\n",
            "Epoch 67/100\n",
            "259/259 [==============================] - 0s 2ms/step - loss: 0.4101 - accuracy: 0.8079\n",
            "Epoch 68/100\n",
            "259/259 [==============================] - 0s 2ms/step - loss: 0.4100 - accuracy: 0.8047\n",
            "Epoch 69/100\n",
            "259/259 [==============================] - 0s 2ms/step - loss: 0.4097 - accuracy: 0.8052\n",
            "Epoch 70/100\n",
            "259/259 [==============================] - 1s 2ms/step - loss: 0.4086 - accuracy: 0.8042\n",
            "Epoch 71/100\n",
            "259/259 [==============================] - 0s 2ms/step - loss: 0.4090 - accuracy: 0.8051\n",
            "Epoch 72/100\n",
            "259/259 [==============================] - 0s 2ms/step - loss: 0.4078 - accuracy: 0.8068\n",
            "Epoch 73/100\n",
            "259/259 [==============================] - 0s 2ms/step - loss: 0.4087 - accuracy: 0.8062\n",
            "Epoch 74/100\n",
            "259/259 [==============================] - 0s 2ms/step - loss: 0.4077 - accuracy: 0.8079\n",
            "Epoch 75/100\n",
            "259/259 [==============================] - 0s 2ms/step - loss: 0.4074 - accuracy: 0.8082\n",
            "Epoch 76/100\n",
            "259/259 [==============================] - 0s 2ms/step - loss: 0.4074 - accuracy: 0.8084\n",
            "Epoch 77/100\n",
            "259/259 [==============================] - 0s 2ms/step - loss: 0.4061 - accuracy: 0.8097\n",
            "Epoch 78/100\n",
            "259/259 [==============================] - 0s 2ms/step - loss: 0.4069 - accuracy: 0.8052\n",
            "Epoch 79/100\n",
            "259/259 [==============================] - 0s 2ms/step - loss: 0.4064 - accuracy: 0.8092\n",
            "Epoch 80/100\n",
            "259/259 [==============================] - 0s 2ms/step - loss: 0.4058 - accuracy: 0.8102\n",
            "Epoch 81/100\n",
            "259/259 [==============================] - 0s 2ms/step - loss: 0.4061 - accuracy: 0.8090\n",
            "Epoch 82/100\n",
            "259/259 [==============================] - 0s 2ms/step - loss: 0.4049 - accuracy: 0.8080\n",
            "Epoch 83/100\n",
            "259/259 [==============================] - 0s 2ms/step - loss: 0.4049 - accuracy: 0.8092\n",
            "Epoch 84/100\n",
            "259/259 [==============================] - 1s 2ms/step - loss: 0.4050 - accuracy: 0.8096\n",
            "Epoch 85/100\n",
            "259/259 [==============================] - 0s 2ms/step - loss: 0.4046 - accuracy: 0.8107\n",
            "Epoch 86/100\n",
            "259/259 [==============================] - 0s 2ms/step - loss: 0.4045 - accuracy: 0.8113\n",
            "Epoch 87/100\n",
            "259/259 [==============================] - 1s 2ms/step - loss: 0.4032 - accuracy: 0.8104\n",
            "Epoch 88/100\n",
            "259/259 [==============================] - 1s 2ms/step - loss: 0.4039 - accuracy: 0.8098\n",
            "Epoch 89/100\n",
            "259/259 [==============================] - 1s 2ms/step - loss: 0.4028 - accuracy: 0.8105\n",
            "Epoch 90/100\n",
            "259/259 [==============================] - 0s 2ms/step - loss: 0.4017 - accuracy: 0.8104\n",
            "Epoch 91/100\n",
            "259/259 [==============================] - 0s 2ms/step - loss: 0.4025 - accuracy: 0.8104\n",
            "Epoch 92/100\n",
            "259/259 [==============================] - 0s 2ms/step - loss: 0.4017 - accuracy: 0.8114\n",
            "Epoch 93/100\n",
            "259/259 [==============================] - 0s 2ms/step - loss: 0.4015 - accuracy: 0.8097\n",
            "Epoch 94/100\n",
            "259/259 [==============================] - 0s 2ms/step - loss: 0.4010 - accuracy: 0.8131\n",
            "Epoch 95/100\n",
            "259/259 [==============================] - 1s 2ms/step - loss: 0.4015 - accuracy: 0.8119\n",
            "Epoch 96/100\n",
            "259/259 [==============================] - 0s 2ms/step - loss: 0.4003 - accuracy: 0.8103\n",
            "Epoch 97/100\n",
            "259/259 [==============================] - 1s 2ms/step - loss: 0.4007 - accuracy: 0.8122\n",
            "Epoch 98/100\n",
            "259/259 [==============================] - 0s 2ms/step - loss: 0.3988 - accuracy: 0.8130\n",
            "Epoch 99/100\n",
            "259/259 [==============================] - 0s 2ms/step - loss: 0.3990 - accuracy: 0.8122\n",
            "Epoch 100/100\n",
            "259/259 [==============================] - 0s 2ms/step - loss: 0.3992 - accuracy: 0.8121\n",
            "65/65 [==============================] - 0s 2ms/step - loss: 0.4706 - accuracy: 0.7894\n",
            "[0.4705895185470581, 0.7894482016563416]\n",
            "Classification Report               precision    recall  f1-score   support\n",
            "\n",
            "           0       0.81      0.76      0.78      1033\n",
            "           1       0.77      0.82      0.80      1033\n",
            "\n",
            "    accuracy                           0.79      2066\n",
            "   macro avg       0.79      0.79      0.79      2066\n",
            "weighted avg       0.79      0.79      0.79      2066\n",
            "\n"
          ]
        }
      ]
    },
    {
      "cell_type": "markdown",
      "source": [
        "## 3. Oversampling SMOTE, sampling using K-Nearest Neighbours"
      ],
      "metadata": {
        "id": "u24P3fxHf9gW"
      }
    },
    {
      "cell_type": "code",
      "source": [
        "X= df2.drop('Churn', axis='columns')\n",
        "y= df2['Churn']"
      ],
      "metadata": {
        "id": "uDeNmKY2hgci"
      },
      "execution_count": 51,
      "outputs": []
    },
    {
      "cell_type": "code",
      "source": [
        "y.value_counts()"
      ],
      "metadata": {
        "colab": {
          "base_uri": "https://localhost:8080/"
        },
        "id": "Z2d4jYMph2dt",
        "outputId": "5ac1e469-4448-48f5-bde6-ff2eba5fbebe"
      },
      "execution_count": 52,
      "outputs": [
        {
          "output_type": "execute_result",
          "data": {
            "text/plain": [
              "0    5163\n",
              "1    1869\n",
              "Name: Churn, dtype: int64"
            ]
          },
          "metadata": {},
          "execution_count": 52
        }
      ]
    },
    {
      "cell_type": "code",
      "source": [
        "from imblearn.over_sampling import SMOTE\n",
        "smote= SMOTE(sampling_strategy= 'minority')\n",
        "sx, sy= smote.fit_resample(X,y)"
      ],
      "metadata": {
        "id": "U_AXBAMTW3Xy"
      },
      "execution_count": 54,
      "outputs": []
    },
    {
      "cell_type": "code",
      "source": [
        "sy.value_counts()"
      ],
      "metadata": {
        "colab": {
          "base_uri": "https://localhost:8080/"
        },
        "id": "lD3Nlqp8mGMk",
        "outputId": "3a691b10-276a-419d-95ac-c6163c3f0614"
      },
      "execution_count": 55,
      "outputs": [
        {
          "output_type": "execute_result",
          "data": {
            "text/plain": [
              "1    5163\n",
              "0    5163\n",
              "Name: Churn, dtype: int64"
            ]
          },
          "metadata": {},
          "execution_count": 55
        }
      ]
    },
    {
      "cell_type": "code",
      "source": [
        "from sklearn.model_selection import train_test_split\n",
        "X_train, X_test, y_train, y_test = train_test_split(sx, sy, test_size = 0.2, random_state = 5, stratify=sy)"
      ],
      "metadata": {
        "id": "KsZ7MW76mWWL"
      },
      "execution_count": 59,
      "outputs": []
    },
    {
      "cell_type": "code",
      "source": [
        "y_train.value_counts()"
      ],
      "metadata": {
        "colab": {
          "base_uri": "https://localhost:8080/"
        },
        "id": "wSqGojXGmtzB",
        "outputId": "0294eaf1-f225-4134-baba-565fbbca9076"
      },
      "execution_count": 60,
      "outputs": [
        {
          "output_type": "execute_result",
          "data": {
            "text/plain": [
              "1    4130\n",
              "0    4130\n",
              "Name: Churn, dtype: int64"
            ]
          },
          "metadata": {},
          "execution_count": 60
        }
      ]
    },
    {
      "cell_type": "code",
      "source": [
        "y_pred= ANN(X_train, y_train, X_test, y_test, 'binary_crossentropy', -1)"
      ],
      "metadata": {
        "colab": {
          "base_uri": "https://localhost:8080/"
        },
        "outputId": "47dfe77a-3c3b-4954-9dde-a1a0ebcb37de",
        "id": "xkZP-IUdmWWM"
      },
      "execution_count": 61,
      "outputs": [
        {
          "output_type": "stream",
          "name": "stdout",
          "text": [
            "Epoch 1/100\n",
            "259/259 [==============================] - 1s 2ms/step - loss: 0.5688 - accuracy: 0.7010\n",
            "Epoch 2/100\n",
            "259/259 [==============================] - 0s 2ms/step - loss: 0.4748 - accuracy: 0.7762\n",
            "Epoch 3/100\n",
            "259/259 [==============================] - 0s 2ms/step - loss: 0.4651 - accuracy: 0.7764\n",
            "Epoch 4/100\n",
            "259/259 [==============================] - 0s 2ms/step - loss: 0.4607 - accuracy: 0.7782\n",
            "Epoch 5/100\n",
            "259/259 [==============================] - 0s 2ms/step - loss: 0.4560 - accuracy: 0.7808\n",
            "Epoch 6/100\n",
            "259/259 [==============================] - 0s 2ms/step - loss: 0.4527 - accuracy: 0.7817\n",
            "Epoch 7/100\n",
            "259/259 [==============================] - 0s 2ms/step - loss: 0.4505 - accuracy: 0.7829\n",
            "Epoch 8/100\n",
            "259/259 [==============================] - 0s 2ms/step - loss: 0.4469 - accuracy: 0.7855\n",
            "Epoch 9/100\n",
            "259/259 [==============================] - 0s 2ms/step - loss: 0.4446 - accuracy: 0.7908\n",
            "Epoch 10/100\n",
            "259/259 [==============================] - 0s 2ms/step - loss: 0.4432 - accuracy: 0.7849\n",
            "Epoch 11/100\n",
            "259/259 [==============================] - 0s 2ms/step - loss: 0.4405 - accuracy: 0.7884\n",
            "Epoch 12/100\n",
            "259/259 [==============================] - 0s 2ms/step - loss: 0.4373 - accuracy: 0.7923\n",
            "Epoch 13/100\n",
            "259/259 [==============================] - 0s 2ms/step - loss: 0.4358 - accuracy: 0.7944\n",
            "Epoch 14/100\n",
            "259/259 [==============================] - 0s 2ms/step - loss: 0.4330 - accuracy: 0.7949\n",
            "Epoch 15/100\n",
            "259/259 [==============================] - 0s 2ms/step - loss: 0.4318 - accuracy: 0.7956\n",
            "Epoch 16/100\n",
            "259/259 [==============================] - 0s 2ms/step - loss: 0.4309 - accuracy: 0.7964\n",
            "Epoch 17/100\n",
            "259/259 [==============================] - 0s 2ms/step - loss: 0.4273 - accuracy: 0.7981\n",
            "Epoch 18/100\n",
            "259/259 [==============================] - 0s 2ms/step - loss: 0.4258 - accuracy: 0.7990\n",
            "Epoch 19/100\n",
            "259/259 [==============================] - 0s 2ms/step - loss: 0.4234 - accuracy: 0.8013\n",
            "Epoch 20/100\n",
            "259/259 [==============================] - 0s 2ms/step - loss: 0.4218 - accuracy: 0.8015\n",
            "Epoch 21/100\n",
            "259/259 [==============================] - 0s 2ms/step - loss: 0.4203 - accuracy: 0.8030\n",
            "Epoch 22/100\n",
            "259/259 [==============================] - 0s 2ms/step - loss: 0.4181 - accuracy: 0.8035\n",
            "Epoch 23/100\n",
            "259/259 [==============================] - 1s 2ms/step - loss: 0.4173 - accuracy: 0.8051\n",
            "Epoch 24/100\n",
            "259/259 [==============================] - 0s 2ms/step - loss: 0.4148 - accuracy: 0.8045\n",
            "Epoch 25/100\n",
            "259/259 [==============================] - 0s 2ms/step - loss: 0.4132 - accuracy: 0.8064\n",
            "Epoch 26/100\n",
            "259/259 [==============================] - 0s 2ms/step - loss: 0.4128 - accuracy: 0.8067\n",
            "Epoch 27/100\n",
            "259/259 [==============================] - 0s 2ms/step - loss: 0.4101 - accuracy: 0.8070\n",
            "Epoch 28/100\n",
            "259/259 [==============================] - 0s 2ms/step - loss: 0.4097 - accuracy: 0.8107\n",
            "Epoch 29/100\n",
            "259/259 [==============================] - 0s 2ms/step - loss: 0.4072 - accuracy: 0.8104\n",
            "Epoch 30/100\n",
            "259/259 [==============================] - 1s 2ms/step - loss: 0.4055 - accuracy: 0.8153\n",
            "Epoch 31/100\n",
            "259/259 [==============================] - 1s 2ms/step - loss: 0.4043 - accuracy: 0.8117\n",
            "Epoch 32/100\n",
            "259/259 [==============================] - 0s 2ms/step - loss: 0.4040 - accuracy: 0.8160\n",
            "Epoch 33/100\n",
            "259/259 [==============================] - 0s 2ms/step - loss: 0.4027 - accuracy: 0.8165\n",
            "Epoch 34/100\n",
            "259/259 [==============================] - 0s 2ms/step - loss: 0.4012 - accuracy: 0.8189\n",
            "Epoch 35/100\n",
            "259/259 [==============================] - 0s 2ms/step - loss: 0.4002 - accuracy: 0.8144\n",
            "Epoch 36/100\n",
            "259/259 [==============================] - 0s 2ms/step - loss: 0.3977 - accuracy: 0.8185\n",
            "Epoch 37/100\n",
            "259/259 [==============================] - 0s 2ms/step - loss: 0.3969 - accuracy: 0.8179\n",
            "Epoch 38/100\n",
            "259/259 [==============================] - 0s 2ms/step - loss: 0.3968 - accuracy: 0.8201\n",
            "Epoch 39/100\n",
            "259/259 [==============================] - 0s 2ms/step - loss: 0.3948 - accuracy: 0.8208\n",
            "Epoch 40/100\n",
            "259/259 [==============================] - 0s 2ms/step - loss: 0.3954 - accuracy: 0.8191\n",
            "Epoch 41/100\n",
            "259/259 [==============================] - 0s 2ms/step - loss: 0.3931 - accuracy: 0.8231\n",
            "Epoch 42/100\n",
            "259/259 [==============================] - 0s 2ms/step - loss: 0.3908 - accuracy: 0.8237\n",
            "Epoch 43/100\n",
            "259/259 [==============================] - 0s 2ms/step - loss: 0.3917 - accuracy: 0.8199\n",
            "Epoch 44/100\n",
            "259/259 [==============================] - 0s 2ms/step - loss: 0.3908 - accuracy: 0.8232\n",
            "Epoch 45/100\n",
            "259/259 [==============================] - 0s 2ms/step - loss: 0.3900 - accuracy: 0.8264\n",
            "Epoch 46/100\n",
            "259/259 [==============================] - 0s 2ms/step - loss: 0.3892 - accuracy: 0.8228\n",
            "Epoch 47/100\n",
            "259/259 [==============================] - 0s 2ms/step - loss: 0.3872 - accuracy: 0.8266\n",
            "Epoch 48/100\n",
            "259/259 [==============================] - 0s 2ms/step - loss: 0.3856 - accuracy: 0.8251\n",
            "Epoch 49/100\n",
            "259/259 [==============================] - 0s 2ms/step - loss: 0.3854 - accuracy: 0.8260\n",
            "Epoch 50/100\n",
            "259/259 [==============================] - 1s 2ms/step - loss: 0.3842 - accuracy: 0.8274\n",
            "Epoch 51/100\n",
            "259/259 [==============================] - 1s 2ms/step - loss: 0.3843 - accuracy: 0.8236\n",
            "Epoch 52/100\n",
            "259/259 [==============================] - 1s 2ms/step - loss: 0.3845 - accuracy: 0.8282\n",
            "Epoch 53/100\n",
            "259/259 [==============================] - 0s 2ms/step - loss: 0.3829 - accuracy: 0.8285\n",
            "Epoch 54/100\n",
            "259/259 [==============================] - 0s 2ms/step - loss: 0.3815 - accuracy: 0.8294\n",
            "Epoch 55/100\n",
            "259/259 [==============================] - 0s 2ms/step - loss: 0.3817 - accuracy: 0.8287\n",
            "Epoch 56/100\n",
            "259/259 [==============================] - 0s 2ms/step - loss: 0.3800 - accuracy: 0.8257\n",
            "Epoch 57/100\n",
            "259/259 [==============================] - 0s 2ms/step - loss: 0.3800 - accuracy: 0.8295\n",
            "Epoch 58/100\n",
            "259/259 [==============================] - 0s 2ms/step - loss: 0.3774 - accuracy: 0.8288\n",
            "Epoch 59/100\n",
            "259/259 [==============================] - 0s 2ms/step - loss: 0.3782 - accuracy: 0.8282\n",
            "Epoch 60/100\n",
            "259/259 [==============================] - 0s 2ms/step - loss: 0.3780 - accuracy: 0.8322\n",
            "Epoch 61/100\n",
            "259/259 [==============================] - 1s 2ms/step - loss: 0.3775 - accuracy: 0.8309\n",
            "Epoch 62/100\n",
            "259/259 [==============================] - 0s 2ms/step - loss: 0.3766 - accuracy: 0.8317\n",
            "Epoch 63/100\n",
            "259/259 [==============================] - 0s 2ms/step - loss: 0.3748 - accuracy: 0.8360\n",
            "Epoch 64/100\n",
            "259/259 [==============================] - 0s 2ms/step - loss: 0.3746 - accuracy: 0.8326\n",
            "Epoch 65/100\n",
            "259/259 [==============================] - 0s 2ms/step - loss: 0.3763 - accuracy: 0.8326\n",
            "Epoch 66/100\n",
            "259/259 [==============================] - 0s 2ms/step - loss: 0.3738 - accuracy: 0.8351\n",
            "Epoch 67/100\n",
            "259/259 [==============================] - 0s 2ms/step - loss: 0.3715 - accuracy: 0.8358\n",
            "Epoch 68/100\n",
            "259/259 [==============================] - 0s 2ms/step - loss: 0.3740 - accuracy: 0.8356\n",
            "Epoch 69/100\n",
            "259/259 [==============================] - 0s 2ms/step - loss: 0.3713 - accuracy: 0.8337\n",
            "Epoch 70/100\n",
            "259/259 [==============================] - 0s 2ms/step - loss: 0.3711 - accuracy: 0.8363\n",
            "Epoch 71/100\n",
            "259/259 [==============================] - 0s 2ms/step - loss: 0.3701 - accuracy: 0.8363\n",
            "Epoch 72/100\n",
            "259/259 [==============================] - 0s 2ms/step - loss: 0.3693 - accuracy: 0.8379\n",
            "Epoch 73/100\n",
            "259/259 [==============================] - 0s 2ms/step - loss: 0.3690 - accuracy: 0.8378\n",
            "Epoch 74/100\n",
            "259/259 [==============================] - 0s 2ms/step - loss: 0.3686 - accuracy: 0.8377\n",
            "Epoch 75/100\n",
            "259/259 [==============================] - 0s 2ms/step - loss: 0.3681 - accuracy: 0.8370\n",
            "Epoch 76/100\n",
            "259/259 [==============================] - 0s 2ms/step - loss: 0.3678 - accuracy: 0.8354\n",
            "Epoch 77/100\n",
            "259/259 [==============================] - 0s 2ms/step - loss: 0.3687 - accuracy: 0.8377\n",
            "Epoch 78/100\n",
            "259/259 [==============================] - 0s 2ms/step - loss: 0.3680 - accuracy: 0.8379\n",
            "Epoch 79/100\n",
            "259/259 [==============================] - 0s 2ms/step - loss: 0.3667 - accuracy: 0.8337\n",
            "Epoch 80/100\n",
            "259/259 [==============================] - 0s 2ms/step - loss: 0.3657 - accuracy: 0.8423\n",
            "Epoch 81/100\n",
            "259/259 [==============================] - 0s 2ms/step - loss: 0.3670 - accuracy: 0.8398\n",
            "Epoch 82/100\n",
            "259/259 [==============================] - 1s 2ms/step - loss: 0.3653 - accuracy: 0.8389\n",
            "Epoch 83/100\n",
            "259/259 [==============================] - 0s 2ms/step - loss: 0.3639 - accuracy: 0.8400\n",
            "Epoch 84/100\n",
            "259/259 [==============================] - 0s 2ms/step - loss: 0.3643 - accuracy: 0.8420\n",
            "Epoch 85/100\n",
            "259/259 [==============================] - 0s 2ms/step - loss: 0.3633 - accuracy: 0.8391\n",
            "Epoch 86/100\n",
            "259/259 [==============================] - 0s 2ms/step - loss: 0.3643 - accuracy: 0.8401\n",
            "Epoch 87/100\n",
            "259/259 [==============================] - 0s 2ms/step - loss: 0.3626 - accuracy: 0.8415\n",
            "Epoch 88/100\n",
            "259/259 [==============================] - 1s 2ms/step - loss: 0.3626 - accuracy: 0.8387\n",
            "Epoch 89/100\n",
            "259/259 [==============================] - 0s 2ms/step - loss: 0.3681 - accuracy: 0.8340\n",
            "Epoch 90/100\n",
            "259/259 [==============================] - 0s 2ms/step - loss: 0.3622 - accuracy: 0.8393\n",
            "Epoch 91/100\n",
            "259/259 [==============================] - 0s 2ms/step - loss: 0.3613 - accuracy: 0.8415\n",
            "Epoch 92/100\n",
            "259/259 [==============================] - 0s 2ms/step - loss: 0.3643 - accuracy: 0.8390\n",
            "Epoch 93/100\n",
            "259/259 [==============================] - 0s 2ms/step - loss: 0.3629 - accuracy: 0.8389\n",
            "Epoch 94/100\n",
            "259/259 [==============================] - 0s 2ms/step - loss: 0.3615 - accuracy: 0.8402\n",
            "Epoch 95/100\n",
            "259/259 [==============================] - 0s 2ms/step - loss: 0.3593 - accuracy: 0.8409\n",
            "Epoch 96/100\n",
            "259/259 [==============================] - 0s 2ms/step - loss: 0.3592 - accuracy: 0.8420\n",
            "Epoch 97/100\n",
            "259/259 [==============================] - 0s 2ms/step - loss: 0.3590 - accuracy: 0.8427\n",
            "Epoch 98/100\n",
            "259/259 [==============================] - 1s 2ms/step - loss: 0.3583 - accuracy: 0.8407\n",
            "Epoch 99/100\n",
            "259/259 [==============================] - 0s 2ms/step - loss: 0.3583 - accuracy: 0.8398\n",
            "Epoch 100/100\n",
            "259/259 [==============================] - 0s 2ms/step - loss: 0.3584 - accuracy: 0.8420\n",
            "65/65 [==============================] - 0s 2ms/step - loss: 0.4081 - accuracy: 0.8122\n",
            "[0.4081278145313263, 0.8121975064277649]\n",
            "Classification Report               precision    recall  f1-score   support\n",
            "\n",
            "           0       0.84      0.77      0.80      1033\n",
            "           1       0.79      0.86      0.82      1033\n",
            "\n",
            "    accuracy                           0.81      2066\n",
            "   macro avg       0.81      0.81      0.81      2066\n",
            "weighted avg       0.81      0.81      0.81      2066\n",
            "\n"
          ]
        }
      ]
    },
    {
      "cell_type": "markdown",
      "source": [
        "## 4. Ensemble "
      ],
      "metadata": {
        "id": "XvCHvi-qm88o"
      }
    },
    {
      "cell_type": "code",
      "source": [
        "df2.Churn.value_counts()"
      ],
      "metadata": {
        "colab": {
          "base_uri": "https://localhost:8080/"
        },
        "id": "ru-SjkLhI8vG",
        "outputId": "03367603-a971-46a0-ef5a-f7ec2bc32670"
      },
      "execution_count": 62,
      "outputs": [
        {
          "output_type": "execute_result",
          "data": {
            "text/plain": [
              "0    5163\n",
              "1    1869\n",
              "Name: Churn, dtype: int64"
            ]
          },
          "metadata": {},
          "execution_count": 62
        }
      ]
    },
    {
      "cell_type": "code",
      "source": [
        "X = df2.drop('Churn', axis = 'columns')\n",
        "y = df2['Churn']"
      ],
      "metadata": {
        "id": "DCcZfhCVouNR"
      },
      "execution_count": 63,
      "outputs": []
    },
    {
      "cell_type": "code",
      "source": [
        "from sklearn.model_selection import train_test_split\n",
        "X_train, X_test, y_train, y_test = train_test_split(X, y, test_size = 0.2, random_state = 5, stratify = y)"
      ],
      "metadata": {
        "id": "ZNMgSLxXoutL"
      },
      "execution_count": 64,
      "outputs": []
    },
    {
      "cell_type": "code",
      "source": [
        "y_train.value_counts()"
      ],
      "metadata": {
        "colab": {
          "base_uri": "https://localhost:8080/"
        },
        "id": "vx60Ltcfowf8",
        "outputId": "9331b2ac-d1b2-46df-f885-016a6dafc37f"
      },
      "execution_count": 65,
      "outputs": [
        {
          "output_type": "execute_result",
          "data": {
            "text/plain": [
              "0    4130\n",
              "1    1495\n",
              "Name: Churn, dtype: int64"
            ]
          },
          "metadata": {},
          "execution_count": 65
        }
      ]
    },
    {
      "cell_type": "code",
      "source": [
        "df3 =  X_train.copy()\n",
        "df3['Churn'] = y_train"
      ],
      "metadata": {
        "id": "LkyrPPD8o2Fh"
      },
      "execution_count": 66,
      "outputs": []
    },
    {
      "cell_type": "code",
      "source": [
        "df3_class0 = df3[df3.Churn == 0]\n",
        "df3_class1 = df3[df3.Churn == 1]"
      ],
      "metadata": {
        "id": "1qWkVCPco2Kz"
      },
      "execution_count": 67,
      "outputs": []
    },
    {
      "cell_type": "code",
      "source": [
        "df3_class0.shape, df3_class1.shape"
      ],
      "metadata": {
        "colab": {
          "base_uri": "https://localhost:8080/"
        },
        "id": "MqijKpBFo9Pp",
        "outputId": "0b995ea8-d059-4709-d299-09d4545e122b"
      },
      "execution_count": 68,
      "outputs": [
        {
          "output_type": "execute_result",
          "data": {
            "text/plain": [
              "((4130, 27), (1495, 27))"
            ]
          },
          "metadata": {},
          "execution_count": 68
        }
      ]
    },
    {
      "cell_type": "code",
      "source": [
        "def get_train_batch(df_majority, df_minority, start, end):\n",
        "    df_train = pd.concat([df_majority[start:end], df_minority], axis = 'rows')\n",
        "    \n",
        "    X_train = df_train.drop('Churn', axis = 'columns')\n",
        "    y_train = df_train.Churn\n",
        "\n",
        "    return X_train, y_train"
      ],
      "metadata": {
        "id": "cCV8NDbwo_Y0"
      },
      "execution_count": 69,
      "outputs": []
    },
    {
      "cell_type": "code",
      "source": [
        "X_train, y_train = get_train_batch(df3_class0, df3_class1, 0, 1495)\n",
        "y_pred1 = ANN(X_train, y_train, X_test, y_test, 'binary_crossentropy', -1)"
      ],
      "metadata": {
        "colab": {
          "base_uri": "https://localhost:8080/"
        },
        "id": "V7B1XcZzpBxt",
        "outputId": "60594be5-ba06-4a8a-d6d0-e97c008c84f0"
      },
      "execution_count": 70,
      "outputs": [
        {
          "output_type": "stream",
          "name": "stdout",
          "text": [
            "Epoch 1/100\n",
            "94/94 [==============================] - 1s 2ms/step - loss: 0.6952 - accuracy: 0.5415\n",
            "Epoch 2/100\n",
            "94/94 [==============================] - 0s 2ms/step - loss: 0.5727 - accuracy: 0.7247\n",
            "Epoch 3/100\n",
            "94/94 [==============================] - 0s 2ms/step - loss: 0.5263 - accuracy: 0.7425\n",
            "Epoch 4/100\n",
            "94/94 [==============================] - 0s 2ms/step - loss: 0.5147 - accuracy: 0.7508\n",
            "Epoch 5/100\n",
            "94/94 [==============================] - 0s 2ms/step - loss: 0.5090 - accuracy: 0.7525\n",
            "Epoch 6/100\n",
            "94/94 [==============================] - 0s 2ms/step - loss: 0.5033 - accuracy: 0.7548\n",
            "Epoch 7/100\n",
            "94/94 [==============================] - 0s 2ms/step - loss: 0.5014 - accuracy: 0.7545\n",
            "Epoch 8/100\n",
            "94/94 [==============================] - 0s 2ms/step - loss: 0.4979 - accuracy: 0.7542\n",
            "Epoch 9/100\n",
            "94/94 [==============================] - 0s 2ms/step - loss: 0.4944 - accuracy: 0.7599\n",
            "Epoch 10/100\n",
            "94/94 [==============================] - 0s 2ms/step - loss: 0.4922 - accuracy: 0.7625\n",
            "Epoch 11/100\n",
            "94/94 [==============================] - 0s 2ms/step - loss: 0.4907 - accuracy: 0.7602\n",
            "Epoch 12/100\n",
            "94/94 [==============================] - 0s 2ms/step - loss: 0.4900 - accuracy: 0.7639\n",
            "Epoch 13/100\n",
            "94/94 [==============================] - 0s 2ms/step - loss: 0.4875 - accuracy: 0.7652\n",
            "Epoch 14/100\n",
            "94/94 [==============================] - 0s 2ms/step - loss: 0.4854 - accuracy: 0.7679\n",
            "Epoch 15/100\n",
            "94/94 [==============================] - 0s 2ms/step - loss: 0.4841 - accuracy: 0.7676\n",
            "Epoch 16/100\n",
            "94/94 [==============================] - 0s 2ms/step - loss: 0.4834 - accuracy: 0.7669\n",
            "Epoch 17/100\n",
            "94/94 [==============================] - 0s 2ms/step - loss: 0.4818 - accuracy: 0.7726\n",
            "Epoch 18/100\n",
            "94/94 [==============================] - 0s 2ms/step - loss: 0.4793 - accuracy: 0.7686\n",
            "Epoch 19/100\n",
            "94/94 [==============================] - 0s 2ms/step - loss: 0.4774 - accuracy: 0.7712\n",
            "Epoch 20/100\n",
            "94/94 [==============================] - 0s 2ms/step - loss: 0.4757 - accuracy: 0.7699\n",
            "Epoch 21/100\n",
            "94/94 [==============================] - 0s 2ms/step - loss: 0.4752 - accuracy: 0.7736\n",
            "Epoch 22/100\n",
            "94/94 [==============================] - 0s 2ms/step - loss: 0.4723 - accuracy: 0.7716\n",
            "Epoch 23/100\n",
            "94/94 [==============================] - 0s 2ms/step - loss: 0.4723 - accuracy: 0.7756\n",
            "Epoch 24/100\n",
            "94/94 [==============================] - 0s 2ms/step - loss: 0.4707 - accuracy: 0.7746\n",
            "Epoch 25/100\n",
            "94/94 [==============================] - 0s 2ms/step - loss: 0.4700 - accuracy: 0.7742\n",
            "Epoch 26/100\n",
            "94/94 [==============================] - 0s 2ms/step - loss: 0.4676 - accuracy: 0.7753\n",
            "Epoch 27/100\n",
            "94/94 [==============================] - 0s 2ms/step - loss: 0.4666 - accuracy: 0.7712\n",
            "Epoch 28/100\n",
            "94/94 [==============================] - 0s 2ms/step - loss: 0.4661 - accuracy: 0.7783\n",
            "Epoch 29/100\n",
            "94/94 [==============================] - 0s 2ms/step - loss: 0.4647 - accuracy: 0.7702\n",
            "Epoch 30/100\n",
            "94/94 [==============================] - 0s 2ms/step - loss: 0.4645 - accuracy: 0.7736\n",
            "Epoch 31/100\n",
            "94/94 [==============================] - 0s 2ms/step - loss: 0.4617 - accuracy: 0.7766\n",
            "Epoch 32/100\n",
            "94/94 [==============================] - 0s 2ms/step - loss: 0.4618 - accuracy: 0.7763\n",
            "Epoch 33/100\n",
            "94/94 [==============================] - 0s 2ms/step - loss: 0.4607 - accuracy: 0.7732\n",
            "Epoch 34/100\n",
            "94/94 [==============================] - 0s 2ms/step - loss: 0.4585 - accuracy: 0.7763\n",
            "Epoch 35/100\n",
            "94/94 [==============================] - 0s 2ms/step - loss: 0.4581 - accuracy: 0.7776\n",
            "Epoch 36/100\n",
            "94/94 [==============================] - 0s 2ms/step - loss: 0.4569 - accuracy: 0.7776\n",
            "Epoch 37/100\n",
            "94/94 [==============================] - 0s 2ms/step - loss: 0.4555 - accuracy: 0.7776\n",
            "Epoch 38/100\n",
            "94/94 [==============================] - 0s 2ms/step - loss: 0.4552 - accuracy: 0.7773\n",
            "Epoch 39/100\n",
            "94/94 [==============================] - 0s 2ms/step - loss: 0.4531 - accuracy: 0.7789\n",
            "Epoch 40/100\n",
            "94/94 [==============================] - 0s 2ms/step - loss: 0.4545 - accuracy: 0.7816\n",
            "Epoch 41/100\n",
            "94/94 [==============================] - 0s 2ms/step - loss: 0.4526 - accuracy: 0.7809\n",
            "Epoch 42/100\n",
            "94/94 [==============================] - 0s 2ms/step - loss: 0.4502 - accuracy: 0.7863\n",
            "Epoch 43/100\n",
            "94/94 [==============================] - 0s 2ms/step - loss: 0.4501 - accuracy: 0.7839\n",
            "Epoch 44/100\n",
            "94/94 [==============================] - 0s 2ms/step - loss: 0.4490 - accuracy: 0.7860\n",
            "Epoch 45/100\n",
            "94/94 [==============================] - 0s 2ms/step - loss: 0.4477 - accuracy: 0.7829\n",
            "Epoch 46/100\n",
            "94/94 [==============================] - 0s 2ms/step - loss: 0.4476 - accuracy: 0.7836\n",
            "Epoch 47/100\n",
            "94/94 [==============================] - 0s 2ms/step - loss: 0.4465 - accuracy: 0.7856\n",
            "Epoch 48/100\n",
            "94/94 [==============================] - 0s 2ms/step - loss: 0.4471 - accuracy: 0.7856\n",
            "Epoch 49/100\n",
            "94/94 [==============================] - 0s 2ms/step - loss: 0.4448 - accuracy: 0.7880\n",
            "Epoch 50/100\n",
            "94/94 [==============================] - 0s 2ms/step - loss: 0.4444 - accuracy: 0.7870\n",
            "Epoch 51/100\n",
            "94/94 [==============================] - 0s 2ms/step - loss: 0.4443 - accuracy: 0.7846\n",
            "Epoch 52/100\n",
            "94/94 [==============================] - 0s 2ms/step - loss: 0.4422 - accuracy: 0.7843\n",
            "Epoch 53/100\n",
            "94/94 [==============================] - 0s 2ms/step - loss: 0.4411 - accuracy: 0.7860\n",
            "Epoch 54/100\n",
            "94/94 [==============================] - 0s 2ms/step - loss: 0.4422 - accuracy: 0.7893\n",
            "Epoch 55/100\n",
            "94/94 [==============================] - 0s 2ms/step - loss: 0.4404 - accuracy: 0.7890\n",
            "Epoch 56/100\n",
            "94/94 [==============================] - 0s 2ms/step - loss: 0.4404 - accuracy: 0.7863\n",
            "Epoch 57/100\n",
            "94/94 [==============================] - 0s 2ms/step - loss: 0.4386 - accuracy: 0.7860\n",
            "Epoch 58/100\n",
            "94/94 [==============================] - 0s 2ms/step - loss: 0.4376 - accuracy: 0.7893\n",
            "Epoch 59/100\n",
            "94/94 [==============================] - 0s 2ms/step - loss: 0.4400 - accuracy: 0.7890\n",
            "Epoch 60/100\n",
            "94/94 [==============================] - 0s 2ms/step - loss: 0.4387 - accuracy: 0.7876\n",
            "Epoch 61/100\n",
            "94/94 [==============================] - 0s 2ms/step - loss: 0.4374 - accuracy: 0.7913\n",
            "Epoch 62/100\n",
            "94/94 [==============================] - 0s 2ms/step - loss: 0.4352 - accuracy: 0.7946\n",
            "Epoch 63/100\n",
            "94/94 [==============================] - 0s 2ms/step - loss: 0.4348 - accuracy: 0.7960\n",
            "Epoch 64/100\n",
            "94/94 [==============================] - 0s 2ms/step - loss: 0.4350 - accuracy: 0.7943\n",
            "Epoch 65/100\n",
            "94/94 [==============================] - 0s 2ms/step - loss: 0.4329 - accuracy: 0.7933\n",
            "Epoch 66/100\n",
            "94/94 [==============================] - 0s 2ms/step - loss: 0.4340 - accuracy: 0.7926\n",
            "Epoch 67/100\n",
            "94/94 [==============================] - 0s 2ms/step - loss: 0.4334 - accuracy: 0.7920\n",
            "Epoch 68/100\n",
            "94/94 [==============================] - 0s 2ms/step - loss: 0.4308 - accuracy: 0.7933\n",
            "Epoch 69/100\n",
            "94/94 [==============================] - 0s 2ms/step - loss: 0.4319 - accuracy: 0.7950\n",
            "Epoch 70/100\n",
            "94/94 [==============================] - 0s 2ms/step - loss: 0.4311 - accuracy: 0.7943\n",
            "Epoch 71/100\n",
            "94/94 [==============================] - 0s 2ms/step - loss: 0.4293 - accuracy: 0.7957\n",
            "Epoch 72/100\n",
            "94/94 [==============================] - 0s 2ms/step - loss: 0.4296 - accuracy: 0.7957\n",
            "Epoch 73/100\n",
            "94/94 [==============================] - 0s 2ms/step - loss: 0.4302 - accuracy: 0.7930\n",
            "Epoch 74/100\n",
            "94/94 [==============================] - 0s 2ms/step - loss: 0.4281 - accuracy: 0.7946\n",
            "Epoch 75/100\n",
            "94/94 [==============================] - 0s 2ms/step - loss: 0.4284 - accuracy: 0.7980\n",
            "Epoch 76/100\n",
            "94/94 [==============================] - 0s 2ms/step - loss: 0.4271 - accuracy: 0.7936\n",
            "Epoch 77/100\n",
            "94/94 [==============================] - 0s 2ms/step - loss: 0.4266 - accuracy: 0.7957\n",
            "Epoch 78/100\n",
            "94/94 [==============================] - 0s 2ms/step - loss: 0.4255 - accuracy: 0.7943\n",
            "Epoch 79/100\n",
            "94/94 [==============================] - 0s 2ms/step - loss: 0.4262 - accuracy: 0.7993\n",
            "Epoch 80/100\n",
            "94/94 [==============================] - 0s 2ms/step - loss: 0.4238 - accuracy: 0.7993\n",
            "Epoch 81/100\n",
            "94/94 [==============================] - 0s 2ms/step - loss: 0.4276 - accuracy: 0.7916\n",
            "Epoch 82/100\n",
            "94/94 [==============================] - 0s 2ms/step - loss: 0.4268 - accuracy: 0.7973\n",
            "Epoch 83/100\n",
            "94/94 [==============================] - 0s 2ms/step - loss: 0.4239 - accuracy: 0.8000\n",
            "Epoch 84/100\n",
            "94/94 [==============================] - 0s 2ms/step - loss: 0.4229 - accuracy: 0.7967\n",
            "Epoch 85/100\n",
            "94/94 [==============================] - 0s 2ms/step - loss: 0.4238 - accuracy: 0.7990\n",
            "Epoch 86/100\n",
            "94/94 [==============================] - 0s 2ms/step - loss: 0.4227 - accuracy: 0.7993\n",
            "Epoch 87/100\n",
            "94/94 [==============================] - 0s 2ms/step - loss: 0.4213 - accuracy: 0.7957\n",
            "Epoch 88/100\n",
            "94/94 [==============================] - 0s 2ms/step - loss: 0.4211 - accuracy: 0.8003\n",
            "Epoch 89/100\n",
            "94/94 [==============================] - 0s 2ms/step - loss: 0.4201 - accuracy: 0.8040\n",
            "Epoch 90/100\n",
            "94/94 [==============================] - 0s 2ms/step - loss: 0.4198 - accuracy: 0.7970\n",
            "Epoch 91/100\n",
            "94/94 [==============================] - 0s 2ms/step - loss: 0.4190 - accuracy: 0.8023\n",
            "Epoch 92/100\n",
            "94/94 [==============================] - 0s 2ms/step - loss: 0.4199 - accuracy: 0.8007\n",
            "Epoch 93/100\n",
            "94/94 [==============================] - 0s 2ms/step - loss: 0.4188 - accuracy: 0.8043\n",
            "Epoch 94/100\n",
            "94/94 [==============================] - 0s 2ms/step - loss: 0.4182 - accuracy: 0.8033\n",
            "Epoch 95/100\n",
            "94/94 [==============================] - 0s 2ms/step - loss: 0.4178 - accuracy: 0.8010\n",
            "Epoch 96/100\n",
            "94/94 [==============================] - 0s 2ms/step - loss: 0.4178 - accuracy: 0.8037\n",
            "Epoch 97/100\n",
            "94/94 [==============================] - 0s 2ms/step - loss: 0.4163 - accuracy: 0.8077\n",
            "Epoch 98/100\n",
            "94/94 [==============================] - 0s 2ms/step - loss: 0.4153 - accuracy: 0.8047\n",
            "Epoch 99/100\n",
            "94/94 [==============================] - 0s 2ms/step - loss: 0.4156 - accuracy: 0.8023\n",
            "Epoch 100/100\n",
            "94/94 [==============================] - 0s 2ms/step - loss: 0.4140 - accuracy: 0.8064\n",
            "44/44 [==============================] - 0s 2ms/step - loss: 0.5009 - accuracy: 0.7477\n",
            "[0.5008639097213745, 0.7476901412010193]\n",
            "Classification Report               precision    recall  f1-score   support\n",
            "\n",
            "           0       0.89      0.75      0.81      1033\n",
            "           1       0.52      0.74      0.61       374\n",
            "\n",
            "    accuracy                           0.75      1407\n",
            "   macro avg       0.70      0.74      0.71      1407\n",
            "weighted avg       0.79      0.75      0.76      1407\n",
            "\n"
          ]
        }
      ]
    },
    {
      "cell_type": "code",
      "source": [
        "X_train, y_train = get_train_batch(df3_class0, df3_class1, 1495, 2990)\n",
        "y_pred2 = ANN(X_train, y_train, X_test, y_test, 'binary_crossentropy', -1)"
      ],
      "metadata": {
        "colab": {
          "base_uri": "https://localhost:8080/"
        },
        "id": "haAU2XuCpEhC",
        "outputId": "1168dbdd-bc4b-4c9b-8517-aab8c3647b4c"
      },
      "execution_count": 71,
      "outputs": [
        {
          "output_type": "stream",
          "name": "stdout",
          "text": [
            "Epoch 1/100\n",
            "94/94 [==============================] - 1s 2ms/step - loss: 0.6931 - accuracy: 0.5645\n",
            "Epoch 2/100\n",
            "94/94 [==============================] - 0s 2ms/step - loss: 0.5699 - accuracy: 0.7281\n",
            "Epoch 3/100\n",
            "94/94 [==============================] - 0s 2ms/step - loss: 0.5184 - accuracy: 0.7518\n",
            "Epoch 4/100\n",
            "94/94 [==============================] - 0s 2ms/step - loss: 0.5043 - accuracy: 0.7579\n",
            "Epoch 5/100\n",
            "94/94 [==============================] - 0s 2ms/step - loss: 0.4970 - accuracy: 0.7612\n",
            "Epoch 6/100\n",
            "94/94 [==============================] - 0s 2ms/step - loss: 0.4925 - accuracy: 0.7615\n",
            "Epoch 7/100\n",
            "94/94 [==============================] - 0s 2ms/step - loss: 0.4898 - accuracy: 0.7635\n",
            "Epoch 8/100\n",
            "94/94 [==============================] - 0s 2ms/step - loss: 0.4886 - accuracy: 0.7652\n",
            "Epoch 9/100\n",
            "94/94 [==============================] - 0s 2ms/step - loss: 0.4859 - accuracy: 0.7662\n",
            "Epoch 10/100\n",
            "94/94 [==============================] - 0s 2ms/step - loss: 0.4851 - accuracy: 0.7619\n",
            "Epoch 11/100\n",
            "94/94 [==============================] - 0s 2ms/step - loss: 0.4835 - accuracy: 0.7662\n",
            "Epoch 12/100\n",
            "94/94 [==============================] - 0s 2ms/step - loss: 0.4816 - accuracy: 0.7669\n",
            "Epoch 13/100\n",
            "94/94 [==============================] - 0s 2ms/step - loss: 0.4830 - accuracy: 0.7696\n",
            "Epoch 14/100\n",
            "94/94 [==============================] - 0s 2ms/step - loss: 0.4797 - accuracy: 0.7659\n",
            "Epoch 15/100\n",
            "94/94 [==============================] - 0s 2ms/step - loss: 0.4790 - accuracy: 0.7666\n",
            "Epoch 16/100\n",
            "94/94 [==============================] - 0s 2ms/step - loss: 0.4771 - accuracy: 0.7686\n",
            "Epoch 17/100\n",
            "94/94 [==============================] - 0s 2ms/step - loss: 0.4781 - accuracy: 0.7659\n",
            "Epoch 18/100\n",
            "94/94 [==============================] - 0s 2ms/step - loss: 0.4755 - accuracy: 0.7692\n",
            "Epoch 19/100\n",
            "94/94 [==============================] - 0s 2ms/step - loss: 0.4748 - accuracy: 0.7682\n",
            "Epoch 20/100\n",
            "94/94 [==============================] - 0s 2ms/step - loss: 0.4727 - accuracy: 0.7753\n",
            "Epoch 21/100\n",
            "94/94 [==============================] - 0s 2ms/step - loss: 0.4738 - accuracy: 0.7666\n",
            "Epoch 22/100\n",
            "94/94 [==============================] - 0s 2ms/step - loss: 0.4737 - accuracy: 0.7699\n",
            "Epoch 23/100\n",
            "94/94 [==============================] - 0s 2ms/step - loss: 0.4700 - accuracy: 0.7686\n",
            "Epoch 24/100\n",
            "94/94 [==============================] - 0s 2ms/step - loss: 0.4703 - accuracy: 0.7712\n",
            "Epoch 25/100\n",
            "94/94 [==============================] - 0s 2ms/step - loss: 0.4693 - accuracy: 0.7729\n",
            "Epoch 26/100\n",
            "94/94 [==============================] - 0s 2ms/step - loss: 0.4686 - accuracy: 0.7702\n",
            "Epoch 27/100\n",
            "94/94 [==============================] - 0s 2ms/step - loss: 0.4686 - accuracy: 0.7759\n",
            "Epoch 28/100\n",
            "94/94 [==============================] - 0s 2ms/step - loss: 0.4672 - accuracy: 0.7719\n",
            "Epoch 29/100\n",
            "94/94 [==============================] - 0s 2ms/step - loss: 0.4658 - accuracy: 0.7729\n",
            "Epoch 30/100\n",
            "94/94 [==============================] - 0s 2ms/step - loss: 0.4643 - accuracy: 0.7766\n",
            "Epoch 31/100\n",
            "94/94 [==============================] - 0s 2ms/step - loss: 0.4648 - accuracy: 0.7706\n",
            "Epoch 32/100\n",
            "94/94 [==============================] - 0s 2ms/step - loss: 0.4625 - accuracy: 0.7746\n",
            "Epoch 33/100\n",
            "94/94 [==============================] - 0s 2ms/step - loss: 0.4644 - accuracy: 0.7729\n",
            "Epoch 34/100\n",
            "94/94 [==============================] - 0s 2ms/step - loss: 0.4621 - accuracy: 0.7779\n",
            "Epoch 35/100\n",
            "94/94 [==============================] - 0s 2ms/step - loss: 0.4613 - accuracy: 0.7773\n",
            "Epoch 36/100\n",
            "94/94 [==============================] - 0s 2ms/step - loss: 0.4603 - accuracy: 0.7736\n",
            "Epoch 37/100\n",
            "94/94 [==============================] - 0s 2ms/step - loss: 0.4600 - accuracy: 0.7732\n",
            "Epoch 38/100\n",
            "94/94 [==============================] - 0s 2ms/step - loss: 0.4592 - accuracy: 0.7796\n",
            "Epoch 39/100\n",
            "94/94 [==============================] - 0s 2ms/step - loss: 0.4571 - accuracy: 0.7769\n",
            "Epoch 40/100\n",
            "94/94 [==============================] - 0s 2ms/step - loss: 0.4568 - accuracy: 0.7806\n",
            "Epoch 41/100\n",
            "94/94 [==============================] - 0s 2ms/step - loss: 0.4564 - accuracy: 0.7766\n",
            "Epoch 42/100\n",
            "94/94 [==============================] - 0s 2ms/step - loss: 0.4566 - accuracy: 0.7789\n",
            "Epoch 43/100\n",
            "94/94 [==============================] - 0s 2ms/step - loss: 0.4539 - accuracy: 0.7806\n",
            "Epoch 44/100\n",
            "94/94 [==============================] - 0s 2ms/step - loss: 0.4528 - accuracy: 0.7829\n",
            "Epoch 45/100\n",
            "94/94 [==============================] - 0s 2ms/step - loss: 0.4522 - accuracy: 0.7809\n",
            "Epoch 46/100\n",
            "94/94 [==============================] - 0s 2ms/step - loss: 0.4516 - accuracy: 0.7829\n",
            "Epoch 47/100\n",
            "94/94 [==============================] - 0s 2ms/step - loss: 0.4513 - accuracy: 0.7826\n",
            "Epoch 48/100\n",
            "94/94 [==============================] - 0s 2ms/step - loss: 0.4503 - accuracy: 0.7803\n",
            "Epoch 49/100\n",
            "94/94 [==============================] - 0s 2ms/step - loss: 0.4494 - accuracy: 0.7826\n",
            "Epoch 50/100\n",
            "94/94 [==============================] - 0s 2ms/step - loss: 0.4488 - accuracy: 0.7816\n",
            "Epoch 51/100\n",
            "94/94 [==============================] - 0s 2ms/step - loss: 0.4488 - accuracy: 0.7853\n",
            "Epoch 52/100\n",
            "94/94 [==============================] - 0s 2ms/step - loss: 0.4484 - accuracy: 0.7836\n",
            "Epoch 53/100\n",
            "94/94 [==============================] - 0s 2ms/step - loss: 0.4472 - accuracy: 0.7883\n",
            "Epoch 54/100\n",
            "94/94 [==============================] - 0s 2ms/step - loss: 0.4450 - accuracy: 0.7870\n",
            "Epoch 55/100\n",
            "94/94 [==============================] - 0s 2ms/step - loss: 0.4457 - accuracy: 0.7883\n",
            "Epoch 56/100\n",
            "94/94 [==============================] - 0s 2ms/step - loss: 0.4446 - accuracy: 0.7860\n",
            "Epoch 57/100\n",
            "94/94 [==============================] - 0s 2ms/step - loss: 0.4429 - accuracy: 0.7900\n",
            "Epoch 58/100\n",
            "94/94 [==============================] - 0s 2ms/step - loss: 0.4411 - accuracy: 0.7890\n",
            "Epoch 59/100\n",
            "94/94 [==============================] - 0s 2ms/step - loss: 0.4404 - accuracy: 0.7900\n",
            "Epoch 60/100\n",
            "94/94 [==============================] - 0s 2ms/step - loss: 0.4425 - accuracy: 0.7823\n",
            "Epoch 61/100\n",
            "94/94 [==============================] - 0s 2ms/step - loss: 0.4395 - accuracy: 0.7900\n",
            "Epoch 62/100\n",
            "94/94 [==============================] - 0s 2ms/step - loss: 0.4396 - accuracy: 0.7873\n",
            "Epoch 63/100\n",
            "94/94 [==============================] - 0s 2ms/step - loss: 0.4385 - accuracy: 0.7893\n",
            "Epoch 64/100\n",
            "94/94 [==============================] - 0s 2ms/step - loss: 0.4382 - accuracy: 0.7920\n",
            "Epoch 65/100\n",
            "94/94 [==============================] - 0s 2ms/step - loss: 0.4362 - accuracy: 0.7926\n",
            "Epoch 66/100\n",
            "94/94 [==============================] - 0s 2ms/step - loss: 0.4367 - accuracy: 0.7923\n",
            "Epoch 67/100\n",
            "94/94 [==============================] - 0s 2ms/step - loss: 0.4352 - accuracy: 0.7930\n",
            "Epoch 68/100\n",
            "94/94 [==============================] - 0s 2ms/step - loss: 0.4352 - accuracy: 0.7923\n",
            "Epoch 69/100\n",
            "94/94 [==============================] - 0s 2ms/step - loss: 0.4339 - accuracy: 0.7906\n",
            "Epoch 70/100\n",
            "94/94 [==============================] - 0s 2ms/step - loss: 0.4341 - accuracy: 0.7960\n",
            "Epoch 71/100\n",
            "94/94 [==============================] - 0s 2ms/step - loss: 0.4317 - accuracy: 0.7946\n",
            "Epoch 72/100\n",
            "94/94 [==============================] - 0s 2ms/step - loss: 0.4329 - accuracy: 0.7910\n",
            "Epoch 73/100\n",
            "94/94 [==============================] - 0s 2ms/step - loss: 0.4311 - accuracy: 0.7950\n",
            "Epoch 74/100\n",
            "94/94 [==============================] - 0s 2ms/step - loss: 0.4311 - accuracy: 0.7990\n",
            "Epoch 75/100\n",
            "94/94 [==============================] - 0s 2ms/step - loss: 0.4303 - accuracy: 0.8020\n",
            "Epoch 76/100\n",
            "94/94 [==============================] - 0s 2ms/step - loss: 0.4297 - accuracy: 0.8003\n",
            "Epoch 77/100\n",
            "94/94 [==============================] - 0s 2ms/step - loss: 0.4287 - accuracy: 0.7997\n",
            "Epoch 78/100\n",
            "94/94 [==============================] - 0s 2ms/step - loss: 0.4286 - accuracy: 0.7987\n",
            "Epoch 79/100\n",
            "94/94 [==============================] - 0s 2ms/step - loss: 0.4310 - accuracy: 0.7970\n",
            "Epoch 80/100\n",
            "94/94 [==============================] - 0s 2ms/step - loss: 0.4291 - accuracy: 0.8000\n",
            "Epoch 81/100\n",
            "94/94 [==============================] - 0s 2ms/step - loss: 0.4260 - accuracy: 0.7980\n",
            "Epoch 82/100\n",
            "94/94 [==============================] - 0s 2ms/step - loss: 0.4259 - accuracy: 0.7983\n",
            "Epoch 83/100\n",
            "94/94 [==============================] - 0s 2ms/step - loss: 0.4249 - accuracy: 0.8050\n",
            "Epoch 84/100\n",
            "94/94 [==============================] - 0s 2ms/step - loss: 0.4247 - accuracy: 0.8010\n",
            "Epoch 85/100\n",
            "94/94 [==============================] - 0s 2ms/step - loss: 0.4238 - accuracy: 0.8000\n",
            "Epoch 86/100\n",
            "94/94 [==============================] - 0s 2ms/step - loss: 0.4248 - accuracy: 0.7993\n",
            "Epoch 87/100\n",
            "94/94 [==============================] - 0s 2ms/step - loss: 0.4244 - accuracy: 0.8000\n",
            "Epoch 88/100\n",
            "94/94 [==============================] - 0s 2ms/step - loss: 0.4216 - accuracy: 0.8064\n",
            "Epoch 89/100\n",
            "94/94 [==============================] - 0s 2ms/step - loss: 0.4209 - accuracy: 0.8030\n",
            "Epoch 90/100\n",
            "94/94 [==============================] - 0s 2ms/step - loss: 0.4245 - accuracy: 0.8007\n",
            "Epoch 91/100\n",
            "94/94 [==============================] - 0s 2ms/step - loss: 0.4186 - accuracy: 0.8003\n",
            "Epoch 92/100\n",
            "94/94 [==============================] - 0s 2ms/step - loss: 0.4191 - accuracy: 0.8027\n",
            "Epoch 93/100\n",
            "94/94 [==============================] - 0s 2ms/step - loss: 0.4192 - accuracy: 0.8037\n",
            "Epoch 94/100\n",
            "94/94 [==============================] - 0s 2ms/step - loss: 0.4183 - accuracy: 0.8027\n",
            "Epoch 95/100\n",
            "94/94 [==============================] - 0s 2ms/step - loss: 0.4176 - accuracy: 0.8067\n",
            "Epoch 96/100\n",
            "94/94 [==============================] - 0s 2ms/step - loss: 0.4170 - accuracy: 0.8050\n",
            "Epoch 97/100\n",
            "94/94 [==============================] - 0s 2ms/step - loss: 0.4179 - accuracy: 0.8020\n",
            "Epoch 98/100\n",
            "94/94 [==============================] - 0s 2ms/step - loss: 0.4150 - accuracy: 0.8060\n",
            "Epoch 99/100\n",
            "94/94 [==============================] - 0s 2ms/step - loss: 0.4151 - accuracy: 0.8097\n",
            "Epoch 100/100\n",
            "94/94 [==============================] - 0s 2ms/step - loss: 0.4151 - accuracy: 0.8037\n",
            "44/44 [==============================] - 0s 1ms/step - loss: 0.5004 - accuracy: 0.7534\n",
            "[0.5003839731216431, 0.7533759474754333]\n",
            "Classification Report               precision    recall  f1-score   support\n",
            "\n",
            "           0       0.89      0.76      0.82      1033\n",
            "           1       0.53      0.74      0.61       374\n",
            "\n",
            "    accuracy                           0.75      1407\n",
            "   macro avg       0.71      0.75      0.72      1407\n",
            "weighted avg       0.79      0.75      0.76      1407\n",
            "\n"
          ]
        }
      ]
    },
    {
      "cell_type": "code",
      "source": [
        "X_train, y_train = get_train_batch(df3_class0, df3_class1, 2990, 4130)\n",
        "y_pred3 = ANN(X_train, y_train, X_test, y_test, 'binary_crossentropy', -1)"
      ],
      "metadata": {
        "colab": {
          "base_uri": "https://localhost:8080/"
        },
        "id": "LrI0j3IBpIfG",
        "outputId": "a764bfbe-6c31-41bd-80f2-bfc95da2de9a"
      },
      "execution_count": 72,
      "outputs": [
        {
          "output_type": "stream",
          "name": "stdout",
          "text": [
            "Epoch 1/100\n",
            "83/83 [==============================] - 1s 2ms/step - loss: 0.6113 - accuracy: 0.6744\n",
            "Epoch 2/100\n",
            "83/83 [==============================] - 0s 2ms/step - loss: 0.5177 - accuracy: 0.7594\n",
            "Epoch 3/100\n",
            "83/83 [==============================] - 0s 2ms/step - loss: 0.4892 - accuracy: 0.7704\n",
            "Epoch 4/100\n",
            "83/83 [==============================] - 0s 2ms/step - loss: 0.4791 - accuracy: 0.7746\n",
            "Epoch 5/100\n",
            "83/83 [==============================] - 0s 2ms/step - loss: 0.4746 - accuracy: 0.7784\n",
            "Epoch 6/100\n",
            "83/83 [==============================] - 0s 2ms/step - loss: 0.4706 - accuracy: 0.7769\n",
            "Epoch 7/100\n",
            "83/83 [==============================] - 0s 2ms/step - loss: 0.4656 - accuracy: 0.7776\n",
            "Epoch 8/100\n",
            "83/83 [==============================] - 0s 2ms/step - loss: 0.4646 - accuracy: 0.7818\n",
            "Epoch 9/100\n",
            "83/83 [==============================] - 0s 2ms/step - loss: 0.4624 - accuracy: 0.7810\n",
            "Epoch 10/100\n",
            "83/83 [==============================] - 0s 2ms/step - loss: 0.4622 - accuracy: 0.7791\n",
            "Epoch 11/100\n",
            "83/83 [==============================] - 0s 2ms/step - loss: 0.4612 - accuracy: 0.7822\n",
            "Epoch 12/100\n",
            "83/83 [==============================] - 0s 2ms/step - loss: 0.4575 - accuracy: 0.7814\n",
            "Epoch 13/100\n",
            "83/83 [==============================] - 0s 2ms/step - loss: 0.4561 - accuracy: 0.7833\n",
            "Epoch 14/100\n",
            "83/83 [==============================] - 0s 2ms/step - loss: 0.4553 - accuracy: 0.7833\n",
            "Epoch 15/100\n",
            "83/83 [==============================] - 0s 2ms/step - loss: 0.4560 - accuracy: 0.7806\n",
            "Epoch 16/100\n",
            "83/83 [==============================] - 0s 2ms/step - loss: 0.4541 - accuracy: 0.7818\n",
            "Epoch 17/100\n",
            "83/83 [==============================] - 0s 2ms/step - loss: 0.4517 - accuracy: 0.7844\n",
            "Epoch 18/100\n",
            "83/83 [==============================] - 0s 2ms/step - loss: 0.4513 - accuracy: 0.7867\n",
            "Epoch 19/100\n",
            "83/83 [==============================] - 0s 2ms/step - loss: 0.4514 - accuracy: 0.7860\n",
            "Epoch 20/100\n",
            "83/83 [==============================] - 0s 2ms/step - loss: 0.4493 - accuracy: 0.7886\n",
            "Epoch 21/100\n",
            "83/83 [==============================] - 0s 2ms/step - loss: 0.4474 - accuracy: 0.7879\n",
            "Epoch 22/100\n",
            "83/83 [==============================] - 0s 2ms/step - loss: 0.4459 - accuracy: 0.7905\n",
            "Epoch 23/100\n",
            "83/83 [==============================] - 0s 2ms/step - loss: 0.4469 - accuracy: 0.7886\n",
            "Epoch 24/100\n",
            "83/83 [==============================] - 0s 2ms/step - loss: 0.4473 - accuracy: 0.7871\n",
            "Epoch 25/100\n",
            "83/83 [==============================] - 0s 2ms/step - loss: 0.4452 - accuracy: 0.7928\n",
            "Epoch 26/100\n",
            "83/83 [==============================] - 0s 2ms/step - loss: 0.4430 - accuracy: 0.7905\n",
            "Epoch 27/100\n",
            "83/83 [==============================] - 0s 2ms/step - loss: 0.4415 - accuracy: 0.7932\n",
            "Epoch 28/100\n",
            "83/83 [==============================] - 0s 2ms/step - loss: 0.4411 - accuracy: 0.7928\n",
            "Epoch 29/100\n",
            "83/83 [==============================] - 0s 2ms/step - loss: 0.4399 - accuracy: 0.7954\n",
            "Epoch 30/100\n",
            "83/83 [==============================] - 0s 2ms/step - loss: 0.4401 - accuracy: 0.7935\n",
            "Epoch 31/100\n",
            "83/83 [==============================] - 0s 2ms/step - loss: 0.4406 - accuracy: 0.7871\n",
            "Epoch 32/100\n",
            "83/83 [==============================] - 0s 2ms/step - loss: 0.4369 - accuracy: 0.7932\n",
            "Epoch 33/100\n",
            "83/83 [==============================] - 0s 2ms/step - loss: 0.4366 - accuracy: 0.7935\n",
            "Epoch 34/100\n",
            "83/83 [==============================] - 0s 2ms/step - loss: 0.4349 - accuracy: 0.7989\n",
            "Epoch 35/100\n",
            "83/83 [==============================] - 0s 2ms/step - loss: 0.4343 - accuracy: 0.7989\n",
            "Epoch 36/100\n",
            "83/83 [==============================] - 0s 2ms/step - loss: 0.4344 - accuracy: 0.7958\n",
            "Epoch 37/100\n",
            "83/83 [==============================] - 0s 2ms/step - loss: 0.4337 - accuracy: 0.7973\n",
            "Epoch 38/100\n",
            "83/83 [==============================] - 0s 2ms/step - loss: 0.4307 - accuracy: 0.7970\n",
            "Epoch 39/100\n",
            "83/83 [==============================] - 0s 2ms/step - loss: 0.4339 - accuracy: 0.7951\n",
            "Epoch 40/100\n",
            "83/83 [==============================] - 0s 2ms/step - loss: 0.4302 - accuracy: 0.7924\n",
            "Epoch 41/100\n",
            "83/83 [==============================] - 0s 2ms/step - loss: 0.4289 - accuracy: 0.7958\n",
            "Epoch 42/100\n",
            "83/83 [==============================] - 0s 2ms/step - loss: 0.4287 - accuracy: 0.7977\n",
            "Epoch 43/100\n",
            "83/83 [==============================] - 0s 2ms/step - loss: 0.4259 - accuracy: 0.7996\n",
            "Epoch 44/100\n",
            "83/83 [==============================] - 0s 2ms/step - loss: 0.4276 - accuracy: 0.8015\n",
            "Epoch 45/100\n",
            "83/83 [==============================] - 0s 2ms/step - loss: 0.4253 - accuracy: 0.8019\n",
            "Epoch 46/100\n",
            "83/83 [==============================] - 0s 2ms/step - loss: 0.4232 - accuracy: 0.8015\n",
            "Epoch 47/100\n",
            "83/83 [==============================] - 0s 2ms/step - loss: 0.4246 - accuracy: 0.8004\n",
            "Epoch 48/100\n",
            "83/83 [==============================] - 0s 2ms/step - loss: 0.4245 - accuracy: 0.8030\n",
            "Epoch 49/100\n",
            "83/83 [==============================] - 0s 2ms/step - loss: 0.4225 - accuracy: 0.8034\n",
            "Epoch 50/100\n",
            "83/83 [==============================] - 0s 2ms/step - loss: 0.4218 - accuracy: 0.8023\n",
            "Epoch 51/100\n",
            "83/83 [==============================] - 0s 2ms/step - loss: 0.4215 - accuracy: 0.8061\n",
            "Epoch 52/100\n",
            "83/83 [==============================] - 0s 2ms/step - loss: 0.4205 - accuracy: 0.8053\n",
            "Epoch 53/100\n",
            "83/83 [==============================] - 0s 2ms/step - loss: 0.4210 - accuracy: 0.8118\n",
            "Epoch 54/100\n",
            "83/83 [==============================] - 0s 2ms/step - loss: 0.4177 - accuracy: 0.8110\n",
            "Epoch 55/100\n",
            "83/83 [==============================] - 0s 2ms/step - loss: 0.4198 - accuracy: 0.8065\n",
            "Epoch 56/100\n",
            "83/83 [==============================] - 0s 2ms/step - loss: 0.4164 - accuracy: 0.8076\n",
            "Epoch 57/100\n",
            "83/83 [==============================] - 0s 2ms/step - loss: 0.4173 - accuracy: 0.8076\n",
            "Epoch 58/100\n",
            "83/83 [==============================] - 0s 2ms/step - loss: 0.4153 - accuracy: 0.8121\n",
            "Epoch 59/100\n",
            "83/83 [==============================] - 0s 2ms/step - loss: 0.4161 - accuracy: 0.8102\n",
            "Epoch 60/100\n",
            "83/83 [==============================] - 0s 2ms/step - loss: 0.4152 - accuracy: 0.8110\n",
            "Epoch 61/100\n",
            "83/83 [==============================] - 0s 2ms/step - loss: 0.4144 - accuracy: 0.8091\n",
            "Epoch 62/100\n",
            "83/83 [==============================] - 0s 2ms/step - loss: 0.4145 - accuracy: 0.8099\n",
            "Epoch 63/100\n",
            "83/83 [==============================] - 0s 2ms/step - loss: 0.4145 - accuracy: 0.8083\n",
            "Epoch 64/100\n",
            "83/83 [==============================] - 0s 2ms/step - loss: 0.4126 - accuracy: 0.8121\n",
            "Epoch 65/100\n",
            "83/83 [==============================] - 0s 2ms/step - loss: 0.4138 - accuracy: 0.8080\n",
            "Epoch 66/100\n",
            "83/83 [==============================] - 0s 2ms/step - loss: 0.4120 - accuracy: 0.8095\n",
            "Epoch 67/100\n",
            "83/83 [==============================] - 0s 2ms/step - loss: 0.4125 - accuracy: 0.8129\n",
            "Epoch 68/100\n",
            "83/83 [==============================] - 0s 2ms/step - loss: 0.4136 - accuracy: 0.8118\n",
            "Epoch 69/100\n",
            "83/83 [==============================] - 0s 2ms/step - loss: 0.4111 - accuracy: 0.8133\n",
            "Epoch 70/100\n",
            "83/83 [==============================] - 0s 2ms/step - loss: 0.4129 - accuracy: 0.8099\n",
            "Epoch 71/100\n",
            "83/83 [==============================] - 0s 2ms/step - loss: 0.4094 - accuracy: 0.8144\n",
            "Epoch 72/100\n",
            "83/83 [==============================] - 0s 2ms/step - loss: 0.4083 - accuracy: 0.8129\n",
            "Epoch 73/100\n",
            "83/83 [==============================] - 0s 2ms/step - loss: 0.4085 - accuracy: 0.8144\n",
            "Epoch 74/100\n",
            "83/83 [==============================] - 0s 2ms/step - loss: 0.4068 - accuracy: 0.8171\n",
            "Epoch 75/100\n",
            "83/83 [==============================] - 0s 2ms/step - loss: 0.4104 - accuracy: 0.8110\n",
            "Epoch 76/100\n",
            "83/83 [==============================] - 0s 2ms/step - loss: 0.4078 - accuracy: 0.8144\n",
            "Epoch 77/100\n",
            "83/83 [==============================] - 0s 2ms/step - loss: 0.4047 - accuracy: 0.8152\n",
            "Epoch 78/100\n",
            "83/83 [==============================] - 0s 2ms/step - loss: 0.4072 - accuracy: 0.8144\n",
            "Epoch 79/100\n",
            "83/83 [==============================] - 0s 2ms/step - loss: 0.4055 - accuracy: 0.8121\n",
            "Epoch 80/100\n",
            "83/83 [==============================] - 0s 2ms/step - loss: 0.4054 - accuracy: 0.8129\n",
            "Epoch 81/100\n",
            "83/83 [==============================] - 0s 2ms/step - loss: 0.4048 - accuracy: 0.8137\n",
            "Epoch 82/100\n",
            "83/83 [==============================] - 0s 2ms/step - loss: 0.4048 - accuracy: 0.8156\n",
            "Epoch 83/100\n",
            "83/83 [==============================] - 0s 2ms/step - loss: 0.4046 - accuracy: 0.8159\n",
            "Epoch 84/100\n",
            "83/83 [==============================] - 0s 2ms/step - loss: 0.4059 - accuracy: 0.8095\n",
            "Epoch 85/100\n",
            "83/83 [==============================] - 0s 2ms/step - loss: 0.4035 - accuracy: 0.8167\n",
            "Epoch 86/100\n",
            "83/83 [==============================] - 0s 2ms/step - loss: 0.4021 - accuracy: 0.8133\n",
            "Epoch 87/100\n",
            "83/83 [==============================] - 0s 2ms/step - loss: 0.4026 - accuracy: 0.8175\n",
            "Epoch 88/100\n",
            "83/83 [==============================] - 0s 2ms/step - loss: 0.4012 - accuracy: 0.8156\n",
            "Epoch 89/100\n",
            "83/83 [==============================] - 0s 2ms/step - loss: 0.4009 - accuracy: 0.8163\n",
            "Epoch 90/100\n",
            "83/83 [==============================] - 0s 2ms/step - loss: 0.4022 - accuracy: 0.8125\n",
            "Epoch 91/100\n",
            "83/83 [==============================] - 0s 2ms/step - loss: 0.3977 - accuracy: 0.8205\n",
            "Epoch 92/100\n",
            "83/83 [==============================] - 0s 2ms/step - loss: 0.4005 - accuracy: 0.8148\n",
            "Epoch 93/100\n",
            "83/83 [==============================] - 0s 2ms/step - loss: 0.3978 - accuracy: 0.8190\n",
            "Epoch 94/100\n",
            "83/83 [==============================] - 0s 2ms/step - loss: 0.3986 - accuracy: 0.8197\n",
            "Epoch 95/100\n",
            "83/83 [==============================] - 0s 2ms/step - loss: 0.3974 - accuracy: 0.8167\n",
            "Epoch 96/100\n",
            "83/83 [==============================] - 0s 2ms/step - loss: 0.3986 - accuracy: 0.8205\n",
            "Epoch 97/100\n",
            "83/83 [==============================] - 0s 2ms/step - loss: 0.3979 - accuracy: 0.8213\n",
            "Epoch 98/100\n",
            "83/83 [==============================] - 0s 2ms/step - loss: 0.3978 - accuracy: 0.8159\n",
            "Epoch 99/100\n",
            "83/83 [==============================] - 0s 2ms/step - loss: 0.3973 - accuracy: 0.8247\n",
            "Epoch 100/100\n",
            "83/83 [==============================] - 0s 2ms/step - loss: 0.3968 - accuracy: 0.8190\n",
            "44/44 [==============================] - 0s 2ms/step - loss: 0.5799 - accuracy: 0.7093\n",
            "[0.5798823237419128, 0.7093105912208557]\n",
            "Classification Report               precision    recall  f1-score   support\n",
            "\n",
            "           0       0.91      0.67      0.77      1033\n",
            "           1       0.47      0.81      0.60       374\n",
            "\n",
            "    accuracy                           0.71      1407\n",
            "   macro avg       0.69      0.74      0.68      1407\n",
            "weighted avg       0.79      0.71      0.73      1407\n",
            "\n"
          ]
        }
      ]
    },
    {
      "cell_type": "code",
      "source": [
        "y_pred_final  = y_pred1.copy()\n",
        "for i in range(len(y_pred1)):\n",
        "    n_ones = y_pred1[i] + y_pred2[i] + y_pred3[i]\n",
        "    if n_ones > 1:\n",
        "        y_pred_final[i] = 1\n",
        "    else:\n",
        "        y_pred_final[i] = 0"
      ],
      "metadata": {
        "id": "GwB2LgDDpSYt"
      },
      "execution_count": 73,
      "outputs": []
    },
    {
      "cell_type": "code",
      "source": [
        "print(classification_report(y_test, y_pred_final))"
      ],
      "metadata": {
        "colab": {
          "base_uri": "https://localhost:8080/"
        },
        "id": "9VFGWnO_pS6l",
        "outputId": "371eae2c-f976-40ff-a113-d0c8c0275bb7"
      },
      "execution_count": 74,
      "outputs": [
        {
          "output_type": "stream",
          "name": "stdout",
          "text": [
            "              precision    recall  f1-score   support\n",
            "\n",
            "           0       0.90      0.74      0.81      1033\n",
            "           1       0.52      0.77      0.62       374\n",
            "\n",
            "    accuracy                           0.75      1407\n",
            "   macro avg       0.71      0.76      0.72      1407\n",
            "weighted avg       0.80      0.75      0.76      1407\n",
            "\n"
          ]
        }
      ]
    }
  ]
}