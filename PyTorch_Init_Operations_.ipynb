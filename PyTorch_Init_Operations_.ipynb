{
  "nbformat": 4,
  "nbformat_minor": 0,
  "metadata": {
    "colab": {
      "name": "PyTorch_Init_Operations .ipynb",
      "provenance": [],
      "collapsed_sections": []
    },
    "kernelspec": {
      "name": "python3",
      "display_name": "Python 3"
    },
    "language_info": {
      "name": "python"
    },
    "accelerator": "GPU"
  },
  "cells": [
    {
      "cell_type": "code",
      "metadata": {
        "id": "99LdjmcwXxGp"
      },
      "source": [
        "import torch\n",
        "import numpy as np"
      ],
      "execution_count": null,
      "outputs": []
    },
    {
      "cell_type": "markdown",
      "metadata": {
        "id": "wzy6RPQKehg4"
      },
      "source": [
        "# Basics"
      ]
    },
    {
      "cell_type": "markdown",
      "metadata": {
        "id": "juaDD6JrYJFJ"
      },
      "source": [
        "Tensor should take ONLY 1 Argument"
      ]
    },
    {
      "cell_type": "code",
      "metadata": {
        "colab": {
          "base_uri": "https://localhost:8080/",
          "height": 158
        },
        "id": "pFISqeilX4UZ",
        "outputId": "bc82544a-fe41-4a61-dfd8-8dda8797650b"
      },
      "source": [
        "my_tensor = torch.tensor([1,2,3],[4,5,6])"
      ],
      "execution_count": null,
      "outputs": [
        {
          "output_type": "error",
          "ename": "TypeError",
          "evalue": "ignored",
          "traceback": [
            "\u001b[0;31m---------------------------------------------------------------------------\u001b[0m",
            "\u001b[0;31mTypeError\u001b[0m                                 Traceback (most recent call last)",
            "\u001b[0;32m<ipython-input-12-fac08510791b>\u001b[0m in \u001b[0;36m<module>\u001b[0;34m()\u001b[0m\n\u001b[0;32m----> 1\u001b[0;31m \u001b[0mmy_tensor\u001b[0m \u001b[0;34m=\u001b[0m \u001b[0mtorch\u001b[0m\u001b[0;34m.\u001b[0m\u001b[0mtensor\u001b[0m\u001b[0;34m(\u001b[0m\u001b[0;34m[\u001b[0m\u001b[0;36m1\u001b[0m\u001b[0;34m,\u001b[0m\u001b[0;36m2\u001b[0m\u001b[0;34m,\u001b[0m\u001b[0;36m3\u001b[0m\u001b[0;34m]\u001b[0m\u001b[0;34m,\u001b[0m\u001b[0;34m[\u001b[0m\u001b[0;36m4\u001b[0m\u001b[0;34m,\u001b[0m\u001b[0;36m5\u001b[0m\u001b[0;34m,\u001b[0m\u001b[0;36m6\u001b[0m\u001b[0;34m]\u001b[0m\u001b[0;34m)\u001b[0m\u001b[0;34m\u001b[0m\u001b[0;34m\u001b[0m\u001b[0m\n\u001b[0m",
            "\u001b[0;31mTypeError\u001b[0m: tensor() takes 1 positional argument but 2 were given"
          ]
        }
      ]
    },
    {
      "cell_type": "code",
      "metadata": {
        "colab": {
          "base_uri": "https://localhost:8080/"
        },
        "id": "lgnv9su3YAjT",
        "outputId": "86749d99-815b-47b3-efe4-e20377932b93"
      },
      "source": [
        "my_tensor = torch.tensor([[1,2,3],[4,5,6]])\n",
        "my_tensor"
      ],
      "execution_count": null,
      "outputs": [
        {
          "output_type": "execute_result",
          "data": {
            "text/plain": [
              "tensor([[1, 2, 3],\n",
              "        [4, 5, 6]])"
            ]
          },
          "metadata": {
            "tags": []
          },
          "execution_count": 13
        }
      ]
    },
    {
      "cell_type": "code",
      "metadata": {
        "colab": {
          "base_uri": "https://localhost:8080/"
        },
        "id": "RXb1nV8pYHd1",
        "outputId": "ffb5e17d-06d8-4753-b42f-6af01f34352b"
      },
      "source": [
        "my_tensor = torch.tensor([[1,2,3],[4,5,6]] ,dtype = torch.float32)\n",
        "my_tensor"
      ],
      "execution_count": null,
      "outputs": [
        {
          "output_type": "execute_result",
          "data": {
            "text/plain": [
              "tensor([[1., 2., 3.],\n",
              "        [4., 5., 6.]])"
            ]
          },
          "metadata": {
            "tags": []
          },
          "execution_count": 14
        }
      ]
    },
    {
      "cell_type": "code",
      "metadata": {
        "colab": {
          "base_uri": "https://localhost:8080/"
        },
        "id": "AucS-n-MYlT5",
        "outputId": "74786abb-95d8-4469-8d32-342b665689a0"
      },
      "source": [
        "device = \"cuda\" if torch.cuda.is_available() else \"cpu\"\n",
        "my_tensor = torch.tensor([[1,2,3],[4,5,6]] ,dtype = torch.float32, device=device)\n",
        "my_tensor"
      ],
      "execution_count": null,
      "outputs": [
        {
          "output_type": "execute_result",
          "data": {
            "text/plain": [
              "tensor([[1., 2., 3.],\n",
              "        [4., 5., 6.]], device='cuda:0')"
            ]
          },
          "metadata": {
            "tags": []
          },
          "execution_count": 15
        }
      ]
    },
    {
      "cell_type": "code",
      "metadata": {
        "colab": {
          "base_uri": "https://localhost:8080/"
        },
        "id": "qh0DCxTGZKT9",
        "outputId": "8cfe321e-9e8b-4bd4-9761-2ce54c6b97c2"
      },
      "source": [
        "\n",
        "my_tensor = torch.tensor([[1,2,3],[4,5,6]] ,dtype = torch.float32, device=device, requires_grad=True)\n",
        "my_tensor"
      ],
      "execution_count": null,
      "outputs": [
        {
          "output_type": "execute_result",
          "data": {
            "text/plain": [
              "tensor([[1., 2., 3.],\n",
              "        [4., 5., 6.]], device='cuda:0', requires_grad=True)"
            ]
          },
          "metadata": {
            "tags": []
          },
          "execution_count": 16
        }
      ]
    },
    {
      "cell_type": "code",
      "metadata": {
        "colab": {
          "base_uri": "https://localhost:8080/"
        },
        "id": "0ZH_onmtdXE2",
        "outputId": "ad053061-dc39-4786-f7d0-489edf498a7d"
      },
      "source": [
        "print(my_tensor.dtype)\n",
        "print(my_tensor.device)\n",
        "print(my_tensor.shape)"
      ],
      "execution_count": null,
      "outputs": [
        {
          "output_type": "stream",
          "text": [
            "torch.float32\n",
            "cuda:0\n",
            "torch.Size([2, 3])\n"
          ],
          "name": "stdout"
        }
      ]
    },
    {
      "cell_type": "markdown",
      "metadata": {
        "id": "U1lqXFX3edaW"
      },
      "source": [
        "# Torch Initialisation"
      ]
    },
    {
      "cell_type": "code",
      "metadata": {
        "colab": {
          "base_uri": "https://localhost:8080/"
        },
        "id": "OP6Z5RbeepgE",
        "outputId": "f07b9088-c5eb-412b-89bd-b65abbee6483"
      },
      "source": [
        "x = torch.empty(size = (3,3))\n",
        "x"
      ],
      "execution_count": null,
      "outputs": [
        {
          "output_type": "execute_result",
          "data": {
            "text/plain": [
              "tensor([[-1.3166e+29,  3.0922e-41,  3.3631e-44],\n",
              "        [ 0.0000e+00,         nan,  0.0000e+00],\n",
              "        [ 1.1578e+27,  1.1362e+30,  7.1547e+22]])"
            ]
          },
          "metadata": {
            "tags": []
          },
          "execution_count": 18
        }
      ]
    },
    {
      "cell_type": "code",
      "metadata": {
        "colab": {
          "base_uri": "https://localhost:8080/"
        },
        "id": "Xk_BQRFfexOF",
        "outputId": "1a35cf1f-f701-4d12-ad9a-849fc0a8ca86"
      },
      "source": [
        "x = torch.zeros(size = (3,3)) #OR x = torch.empty((3,3))\n",
        "x"
      ],
      "execution_count": null,
      "outputs": [
        {
          "output_type": "execute_result",
          "data": {
            "text/plain": [
              "tensor([[0., 0., 0.],\n",
              "        [0., 0., 0.],\n",
              "        [0., 0., 0.]])"
            ]
          },
          "metadata": {
            "tags": []
          },
          "execution_count": 19
        }
      ]
    },
    {
      "cell_type": "code",
      "metadata": {
        "colab": {
          "base_uri": "https://localhost:8080/"
        },
        "id": "U5wInuH8Gam1",
        "outputId": "c1522490-46f9-42e8-9aa2-9adfd1c04c0a"
      },
      "source": [
        "x = torch.empty((3,3))\n",
        "x"
      ],
      "execution_count": null,
      "outputs": [
        {
          "output_type": "execute_result",
          "data": {
            "text/plain": [
              "tensor([[-1.4251e+36,  3.0733e-41,  3.3631e-44],\n",
              "        [ 0.0000e+00,         nan,  3.0733e-41],\n",
              "        [ 1.1578e+27,  1.1362e+30,  7.1547e+22]])"
            ]
          },
          "metadata": {
            "tags": []
          },
          "execution_count": 3
        }
      ]
    },
    {
      "cell_type": "code",
      "metadata": {
        "colab": {
          "base_uri": "https://localhost:8080/"
        },
        "id": "08mK2IZ4e5N_",
        "outputId": "3ea754d0-f3d2-4f56-a41a-2f21a96d6da6"
      },
      "source": [
        "x = torch.ones((3,3))\n",
        "x"
      ],
      "execution_count": null,
      "outputs": [
        {
          "output_type": "execute_result",
          "data": {
            "text/plain": [
              "tensor([[1., 1., 1.],\n",
              "        [1., 1., 1.],\n",
              "        [1., 1., 1.]])"
            ]
          },
          "metadata": {
            "tags": []
          },
          "execution_count": 20
        }
      ]
    },
    {
      "cell_type": "code",
      "metadata": {
        "colab": {
          "base_uri": "https://localhost:8080/"
        },
        "id": "xcWHtaT4e9Qr",
        "outputId": "0f01e413-b897-433f-9c31-455b4846ab7d"
      },
      "source": [
        "x = torch.rand((3,3)) #UNIFORM DISTRIBUTION\n",
        "x"
      ],
      "execution_count": null,
      "outputs": [
        {
          "output_type": "execute_result",
          "data": {
            "text/plain": [
              "tensor([[0.2238, 0.8675, 0.5901],\n",
              "        [0.0357, 0.8331, 0.9299],\n",
              "        [0.9802, 0.5866, 0.7941]])"
            ]
          },
          "metadata": {
            "tags": []
          },
          "execution_count": 21
        }
      ]
    },
    {
      "cell_type": "code",
      "metadata": {
        "colab": {
          "base_uri": "https://localhost:8080/"
        },
        "id": "SXWHgvcrfBcu",
        "outputId": "e6c63a9c-2945-4382-8817-1838beb88868"
      },
      "source": [
        "x = torch.eye(3) # OR x = torch.eye((3,3)) # for identity matrix \n",
        "x"
      ],
      "execution_count": null,
      "outputs": [
        {
          "output_type": "execute_result",
          "data": {
            "text/plain": [
              "tensor([[1., 0., 0.],\n",
              "        [0., 1., 0.],\n",
              "        [0., 0., 1.]])"
            ]
          },
          "metadata": {
            "tags": []
          },
          "execution_count": 22
        }
      ]
    },
    {
      "cell_type": "code",
      "metadata": {
        "colab": {
          "base_uri": "https://localhost:8080/"
        },
        "id": "HPMtTWDNfg2D",
        "outputId": "1abf893c-c473-4fea-842a-0000d85303f4"
      },
      "source": [
        "x = torch.arange(start = 0, end = 10, step = 1)  #for getting values in range \n",
        "x"
      ],
      "execution_count": null,
      "outputs": [
        {
          "output_type": "execute_result",
          "data": {
            "text/plain": [
              "tensor([0, 1, 2, 3, 4, 5, 6, 7, 8, 9])"
            ]
          },
          "metadata": {
            "tags": []
          },
          "execution_count": 23
        }
      ]
    },
    {
      "cell_type": "code",
      "metadata": {
        "colab": {
          "base_uri": "https://localhost:8080/"
        },
        "id": "FjYqj63wf3yb",
        "outputId": "5078902a-4b3d-4c11-f0ef-502809b51c97"
      },
      "source": [
        "x = torch.linspace( 3,  10,  10) #start,end, steps  #linear space \n",
        "x"
      ],
      "execution_count": null,
      "outputs": [
        {
          "output_type": "execute_result",
          "data": {
            "text/plain": [
              "tensor([ 3.0000,  3.7778,  4.5556,  5.3333,  6.1111,  6.8889,  7.6667,  8.4444,\n",
              "         9.2222, 10.0000])"
            ]
          },
          "metadata": {
            "tags": []
          },
          "execution_count": 4
        }
      ]
    },
    {
      "cell_type": "code",
      "metadata": {
        "colab": {
          "base_uri": "https://localhost:8080/"
        },
        "id": "YjopePbrgRwF",
        "outputId": "2e7ef284-5d59-496b-e96a-e73c080a6b8e"
      },
      "source": [
        "x = torch.empty(size = (1,5)).normal_( mean = 0, std = 1)\n",
        "x"
      ],
      "execution_count": null,
      "outputs": [
        {
          "output_type": "execute_result",
          "data": {
            "text/plain": [
              "tensor([[-0.6455, -1.7216, -0.1668, -1.1562,  0.5247]])"
            ]
          },
          "metadata": {
            "tags": []
          },
          "execution_count": 27
        }
      ]
    },
    {
      "cell_type": "code",
      "metadata": {
        "colab": {
          "base_uri": "https://localhost:8080/"
        },
        "id": "_JS7uODxg2ok",
        "outputId": "163ad4b9-3453-47ba-e331-4bf6ba9ff41c"
      },
      "source": [
        "x = torch.empty(size = (3,3)).uniform_( 0, 1)\n",
        "x"
      ],
      "execution_count": null,
      "outputs": [
        {
          "output_type": "execute_result",
          "data": {
            "text/plain": [
              "tensor([[0.5319, 0.0499, 0.6945],\n",
              "        [0.7826, 0.7402, 0.2328],\n",
              "        [0.1461, 0.5970, 0.7123]])"
            ]
          },
          "metadata": {
            "tags": []
          },
          "execution_count": 28
        }
      ]
    },
    {
      "cell_type": "code",
      "metadata": {
        "colab": {
          "base_uri": "https://localhost:8080/"
        },
        "id": "-8VD1ShJg7PF",
        "outputId": "86096aa9-71f7-4a53-b665-4a742cc89ced"
      },
      "source": [
        "x = torch.diag(torch.rand(3))  #diagonal matrix with random values \n",
        "x"
      ],
      "execution_count": null,
      "outputs": [
        {
          "output_type": "execute_result",
          "data": {
            "text/plain": [
              "tensor([[0.7990, 0.0000, 0.0000],\n",
              "        [0.0000, 0.0718, 0.0000],\n",
              "        [0.0000, 0.0000, 0.2725]])"
            ]
          },
          "metadata": {
            "tags": []
          },
          "execution_count": 29
        }
      ]
    },
    {
      "cell_type": "markdown",
      "metadata": {
        "id": "_fKxRILBhfBF"
      },
      "source": [
        "# Initialize and convert Tensors to different types"
      ]
    },
    {
      "cell_type": "code",
      "metadata": {
        "colab": {
          "base_uri": "https://localhost:8080/"
        },
        "id": "ekjRRFIyhklR",
        "outputId": "74e63454-7fea-4026-dd28-a11eb1aa9579"
      },
      "source": [
        "tensor = torch.arange(4)\n",
        "tensor"
      ],
      "execution_count": null,
      "outputs": [
        {
          "output_type": "execute_result",
          "data": {
            "text/plain": [
              "tensor([0, 1, 2, 3])"
            ]
          },
          "metadata": {
            "tags": []
          },
          "execution_count": 3
        }
      ]
    },
    {
      "cell_type": "code",
      "metadata": {
        "colab": {
          "base_uri": "https://localhost:8080/"
        },
        "id": "-4S3pfx7Gg8c",
        "outputId": "128ac7eb-b17e-47c5-e4c5-79e7c491897b"
      },
      "source": [
        "print(tensor.bool())"
      ],
      "execution_count": null,
      "outputs": [
        {
          "output_type": "stream",
          "text": [
            "tensor([False,  True,  True,  True])\n"
          ],
          "name": "stdout"
        }
      ]
    },
    {
      "cell_type": "code",
      "metadata": {
        "colab": {
          "base_uri": "https://localhost:8080/"
        },
        "id": "-ojUVM5jGvxe",
        "outputId": "f735468b-06c2-43d0-8eb0-9a14b40ea9e2"
      },
      "source": [
        "print(tensor.short())  #int16"
      ],
      "execution_count": null,
      "outputs": [
        {
          "output_type": "stream",
          "text": [
            "tensor([0, 1, 2, 3], dtype=torch.int16)\n"
          ],
          "name": "stdout"
        }
      ]
    },
    {
      "cell_type": "code",
      "metadata": {
        "colab": {
          "base_uri": "https://localhost:8080/"
        },
        "id": "hyIHZVZWHXXA",
        "outputId": "fbc484bf-fb9a-4a04-c28e-51a1a683d84a"
      },
      "source": [
        "print(tensor.long())  #"
      ],
      "execution_count": null,
      "outputs": [
        {
          "output_type": "stream",
          "text": [
            "tensor([0, 1, 2, 3])\n"
          ],
          "name": "stdout"
        }
      ]
    },
    {
      "cell_type": "code",
      "metadata": {
        "colab": {
          "base_uri": "https://localhost:8080/"
        },
        "id": "ZKonnAv4HaAZ",
        "outputId": "51407a22-070b-4e02-ad91-768f6971c55f"
      },
      "source": [
        "print(tensor.half()) "
      ],
      "execution_count": null,
      "outputs": [
        {
          "output_type": "stream",
          "text": [
            "tensor([0., 1., 2., 3.], dtype=torch.float16)\n"
          ],
          "name": "stdout"
        }
      ]
    },
    {
      "cell_type": "code",
      "metadata": {
        "colab": {
          "base_uri": "https://localhost:8080/"
        },
        "id": "EBuFHTQAHcOl",
        "outputId": "bd190bfc-0c16-4c0b-987d-6443b2030b99"
      },
      "source": [
        "print(tensor.float())"
      ],
      "execution_count": null,
      "outputs": [
        {
          "output_type": "stream",
          "text": [
            "tensor([0., 1., 2., 3.])\n"
          ],
          "name": "stdout"
        }
      ]
    },
    {
      "cell_type": "code",
      "metadata": {
        "colab": {
          "base_uri": "https://localhost:8080/"
        },
        "id": "DYtZ5IHCIwyv",
        "outputId": "4e3b7471-8fa5-4469-bc8b-fcd8635d4e17"
      },
      "source": [
        "print(tensor.double()) "
      ],
      "execution_count": null,
      "outputs": [
        {
          "output_type": "stream",
          "text": [
            "tensor([0., 1., 2., 3.], dtype=torch.float64)\n"
          ],
          "name": "stdout"
        }
      ]
    },
    {
      "cell_type": "markdown",
      "metadata": {
        "id": "f5F1D5dyJLd_"
      },
      "source": [
        "# Numpy and Tensor Interconversion"
      ]
    },
    {
      "cell_type": "code",
      "metadata": {
        "colab": {
          "base_uri": "https://localhost:8080/"
        },
        "id": "DMwZS_NZJQgz",
        "outputId": "0c22e27d-26a1-43fc-a8e4-9621651ae3da"
      },
      "source": [
        "np_array = np.zeros((5,5))\n",
        "tensor = torch.from_numpy(np_array)\n",
        "tensor"
      ],
      "execution_count": null,
      "outputs": [
        {
          "output_type": "execute_result",
          "data": {
            "text/plain": [
              "tensor([[0., 0., 0., 0., 0.],\n",
              "        [0., 0., 0., 0., 0.],\n",
              "        [0., 0., 0., 0., 0.],\n",
              "        [0., 0., 0., 0., 0.],\n",
              "        [0., 0., 0., 0., 0.]], dtype=torch.float64)"
            ]
          },
          "metadata": {
            "tags": []
          },
          "execution_count": 33
        }
      ]
    },
    {
      "cell_type": "code",
      "metadata": {
        "colab": {
          "base_uri": "https://localhost:8080/"
        },
        "id": "E7ox7pJHJhDo",
        "outputId": "f5c5ca4c-28f6-4964-a0fb-4225b5064559"
      },
      "source": [
        "np_array_back = tensor.numpy()\n",
        "np_array_back"
      ],
      "execution_count": null,
      "outputs": [
        {
          "output_type": "execute_result",
          "data": {
            "text/plain": [
              "array([[0., 0., 0., 0., 0.],\n",
              "       [0., 0., 0., 0., 0.],\n",
              "       [0., 0., 0., 0., 0.],\n",
              "       [0., 0., 0., 0., 0.],\n",
              "       [0., 0., 0., 0., 0.]])"
            ]
          },
          "metadata": {
            "tags": []
          },
          "execution_count": 34
        }
      ]
    },
    {
      "cell_type": "markdown",
      "metadata": {
        "id": "YPuNB9MiKaKy"
      },
      "source": [
        "# Mathematics"
      ]
    },
    {
      "cell_type": "code",
      "metadata": {
        "colab": {
          "base_uri": "https://localhost:8080/"
        },
        "id": "bvJ8ht1zKeA-",
        "outputId": "d974e840-694a-428e-8b80-1f50c5d5bb8c"
      },
      "source": [
        "x = torch.tensor([1,2,3])\n",
        "y = torch.tensor([9,8,7])\n",
        "add = x + y\n",
        "sub = x - y\n",
        "div = torch.true_divide(x,y)  #different \n",
        "div"
      ],
      "execution_count": null,
      "outputs": [
        {
          "output_type": "execute_result",
          "data": {
            "text/plain": [
              "tensor([0.1111, 0.2500, 0.4286])"
            ]
          },
          "metadata": {
            "tags": []
          },
          "execution_count": 35
        }
      ]
    },
    {
      "cell_type": "code",
      "metadata": {
        "id": "n2MVsPERKuH0"
      },
      "source": [
        "t = torch.zeros(3)\n",
        "t.add_(x)   #inplace \n",
        "t += x #INPLACE ADDITION\n",
        "t = t + x # NORMAL ADDITION"
      ],
      "execution_count": null,
      "outputs": []
    },
    {
      "cell_type": "code",
      "metadata": {
        "colab": {
          "base_uri": "https://localhost:8080/"
        },
        "id": "t53NWaVdLVwr",
        "outputId": "a0acd6e7-246f-4911-a63c-999cd684eac7"
      },
      "source": [
        "z = x.pow(2) # OR x**2\n",
        "z"
      ],
      "execution_count": null,
      "outputs": [
        {
          "output_type": "execute_result",
          "data": {
            "text/plain": [
              "tensor([1, 4, 9])"
            ]
          },
          "metadata": {
            "tags": []
          },
          "execution_count": 38
        }
      ]
    },
    {
      "cell_type": "code",
      "metadata": {
        "colab": {
          "base_uri": "https://localhost:8080/"
        },
        "id": "tYG87I5kLYXn",
        "outputId": "a615c070-b115-4b78-da3b-2feca1c9078f"
      },
      "source": [
        "#MATRIX MULTIPLICATION\n",
        "a = torch.tensor([ 1, 2, 3])\n",
        "b = torch.tensor([ 10, 10, 10 ])\n",
        "x = a.matmul(b) # tensor.dot(a,b) same results\n",
        "x"
      ],
      "execution_count": null,
      "outputs": [
        {
          "output_type": "execute_result",
          "data": {
            "text/plain": [
              "tensor(60)"
            ]
          },
          "metadata": {
            "tags": []
          },
          "execution_count": 58
        }
      ]
    },
    {
      "cell_type": "code",
      "metadata": {
        "colab": {
          "base_uri": "https://localhost:8080/"
        },
        "id": "dPI2HUZKMBg8",
        "outputId": "cb20c3d8-ccd3-444a-9d0e-600cf7081dbf"
      },
      "source": [
        "x = a * b\n",
        "x"
      ],
      "execution_count": null,
      "outputs": [
        {
          "output_type": "execute_result",
          "data": {
            "text/plain": [
              "tensor([10, 20, 30])"
            ]
          },
          "metadata": {
            "tags": []
          },
          "execution_count": 46
        }
      ]
    },
    {
      "cell_type": "code",
      "metadata": {
        "colab": {
          "base_uri": "https://localhost:8080/"
        },
        "id": "aZ39Pf7WMlbw",
        "outputId": "4d1f6fed-0192-4478-eeb8-0a2a4cc1300e"
      },
      "source": [
        "a1 = torch.tensor(( [[ 1, 2, 3], [4,5,6]] ))\n",
        "b1 = torch.tensor(( [[ 10, 10, 10 ], [10, 10, 10], [10,10,10]] ))\n",
        "x = a1.matmul(b1)\n",
        "x"
      ],
      "execution_count": null,
      "outputs": [
        {
          "output_type": "execute_result",
          "data": {
            "text/plain": [
              "tensor([[ 60,  60,  60],\n",
              "        [150, 150, 150]])"
            ]
          },
          "metadata": {
            "tags": []
          },
          "execution_count": 56
        }
      ]
    },
    {
      "cell_type": "code",
      "metadata": {
        "colab": {
          "base_uri": "https://localhost:8080/"
        },
        "id": "ci3HK28aOFro",
        "outputId": "07df8f65-9df0-481c-bc0f-7a66adc17c6f"
      },
      "source": [
        "z = torch.dot(a,b)\n",
        "z"
      ],
      "execution_count": null,
      "outputs": [
        {
          "output_type": "execute_result",
          "data": {
            "text/plain": [
              "tensor(60)"
            ]
          },
          "metadata": {
            "tags": []
          },
          "execution_count": 59
        }
      ]
    },
    {
      "cell_type": "code",
      "metadata": {
        "colab": {
          "base_uri": "https://localhost:8080/"
        },
        "id": "VIPtvN9cOaxy",
        "outputId": "eed57729-47ef-458d-abd9-2a8756c88312"
      },
      "source": [
        "#BATCH MATRIX MULTIPLICATION------\n",
        "batch = 32\n",
        "n = 10\n",
        "m = 20\n",
        "p = 30\n",
        "\n",
        "tensor1 =  torch.rand((batch, n , m))\n",
        "tensor2 =  torch.rand((batch, m , p))\n",
        "out_bmm = torch.bmm(tensor1, tensor2) #(batch, n, p) \n",
        "out_bmm"
      ],
      "execution_count": null,
      "outputs": [
        {
          "output_type": "execute_result",
          "data": {
            "text/plain": [
              "tensor([[[5.2841, 6.4974, 4.7005,  ..., 4.2334, 5.7367, 4.4322],\n",
              "         [6.0167, 6.5573, 5.1242,  ..., 5.1060, 5.2405, 5.7768],\n",
              "         [5.3876, 5.3354, 4.0794,  ..., 4.0910, 4.9872, 4.8537],\n",
              "         ...,\n",
              "         [4.5558, 5.3013, 3.9398,  ..., 3.8358, 4.1816, 4.6959],\n",
              "         [4.0113, 4.0261, 3.5180,  ..., 3.4759, 3.9081, 3.5603],\n",
              "         [4.4290, 5.0949, 3.3845,  ..., 3.1234, 4.2113, 3.5151]],\n",
              "\n",
              "        [[4.2062, 2.4739, 3.5710,  ..., 5.3325, 3.1521, 3.2161],\n",
              "         [4.2566, 3.8457, 4.2890,  ..., 5.9183, 3.7412, 3.7897],\n",
              "         [5.4416, 4.1152, 5.0163,  ..., 6.3379, 4.6416, 4.2462],\n",
              "         ...,\n",
              "         [3.8184, 3.3203, 3.4310,  ..., 4.7826, 3.0118, 3.6018],\n",
              "         [4.9088, 3.9412, 4.3786,  ..., 5.9685, 4.0312, 3.6722],\n",
              "         [5.0284, 3.4006, 4.0117,  ..., 5.3349, 3.5502, 3.3198]],\n",
              "\n",
              "        [[5.5815, 5.6049, 5.5017,  ..., 5.3913, 4.2794, 5.0458],\n",
              "         [6.2882, 5.7974, 6.5759,  ..., 5.0175, 3.6790, 4.9477],\n",
              "         [5.7886, 6.3917, 5.9274,  ..., 5.1948, 4.2176, 5.6700],\n",
              "         ...,\n",
              "         [3.8235, 4.7305, 3.8940,  ..., 4.0147, 3.9422, 4.1097],\n",
              "         [5.3633, 5.4149, 5.7289,  ..., 5.3774, 3.9791, 5.2855],\n",
              "         [5.5177, 5.1622, 5.1433,  ..., 4.5194, 3.3973, 4.4206]],\n",
              "\n",
              "        ...,\n",
              "\n",
              "        [[5.9998, 5.9902, 5.9588,  ..., 5.8500, 8.1491, 5.6052],\n",
              "         [4.0695, 4.1787, 5.0029,  ..., 4.5916, 5.2030, 4.3483],\n",
              "         [4.9290, 5.5395, 6.8061,  ..., 5.7197, 6.9808, 5.0959],\n",
              "         ...,\n",
              "         [4.6554, 5.2274, 6.4627,  ..., 5.7305, 7.4648, 5.0323],\n",
              "         [4.3216, 5.0428, 5.2383,  ..., 5.5086, 6.6198, 4.9190],\n",
              "         [3.1862, 3.4364, 3.4831,  ..., 3.9386, 4.3232, 3.7727]],\n",
              "\n",
              "        [[3.9242, 5.0839, 3.7440,  ..., 3.7061, 4.0999, 2.7283],\n",
              "         [5.1163, 4.6563, 4.0684,  ..., 4.4071, 4.9834, 3.1415],\n",
              "         [5.6761, 6.6820, 5.4436,  ..., 5.9384, 6.0508, 4.0874],\n",
              "         ...,\n",
              "         [5.3762, 5.8944, 4.4517,  ..., 5.0685, 5.7595, 3.7509],\n",
              "         [5.9430, 6.5813, 4.9661,  ..., 5.2413, 5.1561, 4.3342],\n",
              "         [4.7512, 5.1813, 3.5676,  ..., 4.9769, 4.3836, 3.7466]],\n",
              "\n",
              "        [[6.2700, 6.6628, 5.4300,  ..., 5.0264, 6.0009, 5.4435],\n",
              "         [7.5984, 7.3487, 6.5793,  ..., 5.8641, 7.0943, 7.1050],\n",
              "         [3.7077, 4.1814, 3.6834,  ..., 2.9146, 3.8469, 3.7027],\n",
              "         ...,\n",
              "         [5.0203, 4.9899, 4.3711,  ..., 3.8927, 4.4650, 4.1289],\n",
              "         [4.3744, 4.6670, 4.6501,  ..., 4.1253, 4.4912, 4.3899],\n",
              "         [6.2965, 5.8319, 5.5656,  ..., 4.7371, 5.1006, 5.6936]]])"
            ]
          },
          "metadata": {
            "tags": []
          },
          "execution_count": 5
        }
      ]
    },
    {
      "cell_type": "code",
      "metadata": {
        "colab": {
          "base_uri": "https://localhost:8080/"
        },
        "id": "p8vBvCTZJriK",
        "outputId": "3ed5a60b-736d-4a6b-a7e0-816683914b30"
      },
      "source": [
        "out_bmm.shape\n"
      ],
      "execution_count": null,
      "outputs": [
        {
          "output_type": "execute_result",
          "data": {
            "text/plain": [
              "torch.Size([32, 10, 30])"
            ]
          },
          "metadata": {
            "tags": []
          },
          "execution_count": 6
        }
      ]
    },
    {
      "cell_type": "code",
      "metadata": {
        "colab": {
          "base_uri": "https://localhost:8080/"
        },
        "id": "q9E6DniOKDng",
        "outputId": "5bb24a7e-0531-46b0-84e9-515161fe6a34"
      },
      "source": [
        "tene=torch.rand((3,4,5))  #batch(no of pages), rows, columns\n",
        "tene"
      ],
      "execution_count": null,
      "outputs": [
        {
          "output_type": "execute_result",
          "data": {
            "text/plain": [
              "tensor([[[0.4956, 0.7167, 0.8379, 0.2499, 0.9660],\n",
              "         [0.3265, 0.1116, 0.0483, 0.8226, 0.8581],\n",
              "         [0.3472, 0.6151, 0.7838, 0.5548, 0.8751],\n",
              "         [0.0680, 0.7195, 0.1165, 0.4998, 0.3121]],\n",
              "\n",
              "        [[0.1965, 0.7468, 0.2388, 0.6612, 0.5893],\n",
              "         [0.0474, 0.6252, 0.7942, 0.8827, 0.4496],\n",
              "         [0.5020, 0.8408, 0.0775, 0.0331, 0.4681],\n",
              "         [0.0778, 0.1427, 0.5789, 0.1942, 0.5714]],\n",
              "\n",
              "        [[0.9399, 0.6320, 0.9744, 0.5162, 0.0059],\n",
              "         [0.2915, 0.2806, 0.0504, 0.9693, 0.5284],\n",
              "         [0.8870, 0.7607, 0.6468, 0.3001, 0.3339],\n",
              "         [0.7388, 0.4952, 0.4216, 0.8390, 0.0459]]])"
            ]
          },
          "metadata": {
            "tags": []
          },
          "execution_count": 7
        }
      ]
    },
    {
      "cell_type": "code",
      "metadata": {
        "colab": {
          "base_uri": "https://localhost:8080/"
        },
        "id": "N4PP596OPRzv",
        "outputId": "2ee14af5-7ca4-4279-bee6-7e050b2313d8"
      },
      "source": [
        "a1 = torch.tensor(( [[ 1, 2, 3], [4,5,6], [7,8,9]] ))\n",
        "print(a1)\n",
        "sum = torch.sum(a1,dim=0) #vertically top-bottom\n",
        "print(sum)\n",
        "sum = torch.sum(a1,dim=1) #horizontally left-right\n",
        "print(sum)\n",
        "#sum = torch.sum(a2,dim=2)\n",
        "#print(sum)"
      ],
      "execution_count": null,
      "outputs": [
        {
          "output_type": "stream",
          "text": [
            "tensor([[1, 2, 3],\n",
            "        [4, 5, 6],\n",
            "        [7, 8, 9]])\n",
            "tensor([12, 15, 18])\n",
            "tensor([ 6, 15, 24])\n"
          ],
          "name": "stdout"
        }
      ]
    },
    {
      "cell_type": "code",
      "metadata": {
        "colab": {
          "base_uri": "https://localhost:8080/"
        },
        "id": "LPhpKU6lLIaN",
        "outputId": "948b4956-6494-4135-ad28-67e00f3f694e"
      },
      "source": [
        "a1 = torch.tensor(( [[[ 1, 2, 3], [4,5,6], [7,8,9]],[[ 10, 20, 30], [40,50,60], [70,80,90]] ]))\n",
        "print(a1)\n",
        "sum = torch.sum(a1,dim=0) # 3rd dimension wise \n",
        "print('\\n',sum)\n",
        "sum = torch.sum(a1,dim=1) #vertically top-bottom\n",
        "print('\\n',sum)\n",
        "sum = torch.sum(a1,dim=2) #horizontally left-right\n",
        "print('\\n',sum)"
      ],
      "execution_count": null,
      "outputs": [
        {
          "output_type": "stream",
          "text": [
            "tensor([[[ 1,  2,  3],\n",
            "         [ 4,  5,  6],\n",
            "         [ 7,  8,  9]],\n",
            "\n",
            "        [[10, 20, 30],\n",
            "         [40, 50, 60],\n",
            "         [70, 80, 90]]])\n",
            "\n",
            " tensor([[11, 22, 33],\n",
            "        [44, 55, 66],\n",
            "        [77, 88, 99]])\n",
            "\n",
            " tensor([[ 12,  15,  18],\n",
            "        [120, 150, 180]])\n",
            "\n",
            " tensor([[  6,  15,  24],\n",
            "        [ 60, 150, 240]])\n"
          ],
          "name": "stdout"
        }
      ]
    },
    {
      "cell_type": "code",
      "metadata": {
        "colab": {
          "base_uri": "https://localhost:8080/"
        },
        "id": "n-280AomQa4g",
        "outputId": "838241b0-14c5-49f4-fad7-26153cd49d66"
      },
      "source": [
        "#MAX\n",
        "values, indices = torch.max(a1, dim=0)\n",
        "print(values, indices)"
      ],
      "execution_count": null,
      "outputs": [
        {
          "output_type": "stream",
          "text": [
            "tensor([7, 8, 9]) tensor([2, 2, 2])\n"
          ],
          "name": "stdout"
        }
      ]
    },
    {
      "cell_type": "code",
      "metadata": {
        "colab": {
          "base_uri": "https://localhost:8080/",
          "height": 175
        },
        "id": "jX5AfIWmRVT-",
        "outputId": "ca2aa499-bbe4-4c62-de7a-7e4dbfedafca"
      },
      "source": [
        "mean = torch.mean(a1,dim = 0) #a1 should be float\n",
        "mean"
      ],
      "execution_count": null,
      "outputs": [
        {
          "output_type": "error",
          "ename": "RuntimeError",
          "evalue": "ignored",
          "traceback": [
            "\u001b[0;31m---------------------------------------------------------------------------\u001b[0m",
            "\u001b[0;31mRuntimeError\u001b[0m                              Traceback (most recent call last)",
            "\u001b[0;32m<ipython-input-70-4e94d1ff201b>\u001b[0m in \u001b[0;36m<module>\u001b[0;34m()\u001b[0m\n\u001b[0;32m----> 1\u001b[0;31m \u001b[0mmean\u001b[0m \u001b[0;34m=\u001b[0m \u001b[0mtorch\u001b[0m\u001b[0;34m.\u001b[0m\u001b[0mmean\u001b[0m\u001b[0;34m(\u001b[0m\u001b[0ma1\u001b[0m\u001b[0;34m,\u001b[0m\u001b[0mdim\u001b[0m \u001b[0;34m=\u001b[0m \u001b[0;36m0\u001b[0m\u001b[0;34m)\u001b[0m\u001b[0;34m\u001b[0m\u001b[0;34m\u001b[0m\u001b[0m\n\u001b[0m\u001b[1;32m      2\u001b[0m \u001b[0mmean\u001b[0m\u001b[0;34m\u001b[0m\u001b[0;34m\u001b[0m\u001b[0m\n",
            "\u001b[0;31mRuntimeError\u001b[0m: Can only calculate the mean of floating types. Got Long instead."
          ]
        }
      ]
    },
    {
      "cell_type": "code",
      "metadata": {
        "colab": {
          "base_uri": "https://localhost:8080/"
        },
        "id": "7oWCx-AjR69X",
        "outputId": "9608db8d-47b1-4c3e-c160-d5dee01c10f3"
      },
      "source": [
        "mean = torch.mean(a1.float(),dim = 0)\n",
        "mean"
      ],
      "execution_count": null,
      "outputs": [
        {
          "output_type": "execute_result",
          "data": {
            "text/plain": [
              "tensor([4., 5., 6.])"
            ]
          },
          "metadata": {
            "tags": []
          },
          "execution_count": 71
        }
      ]
    },
    {
      "cell_type": "code",
      "metadata": {
        "colab": {
          "base_uri": "https://localhost:8080/"
        },
        "id": "WPF2QdivSDnx",
        "outputId": "b8ba2f9c-4c28-4ac3-cbfc-c92b586d9843"
      },
      "source": [
        "sorted_a1, indices = torch.sort(a1, descending=True)\n",
        "print(a1,'\\n', sorted_a1,'\\n', indices)"
      ],
      "execution_count": null,
      "outputs": [
        {
          "output_type": "stream",
          "text": [
            "tensor([[1, 2, 3],\n",
            "        [4, 5, 6],\n",
            "        [7, 8, 9]]) \n",
            " tensor([[3, 2, 1],\n",
            "        [6, 5, 4],\n",
            "        [9, 8, 7]]) \n",
            " tensor([[2, 1, 0],\n",
            "        [2, 1, 0],\n",
            "        [2, 1, 0]])\n"
          ],
          "name": "stdout"
        }
      ]
    },
    {
      "cell_type": "code",
      "metadata": {
        "colab": {
          "base_uri": "https://localhost:8080/"
        },
        "id": "WHmZpe70SXo0",
        "outputId": "438e42cc-01bf-44f5-b100-f68f4f1fdd8a"
      },
      "source": [
        "z = torch.clamp(a1, min = 3, max = 8) # min value - below that all min , max - all above max set to max\n",
        "z"
      ],
      "execution_count": null,
      "outputs": [
        {
          "output_type": "execute_result",
          "data": {
            "text/plain": [
              "tensor([[[3, 3, 3],\n",
              "         [4, 5, 6],\n",
              "         [7, 8, 8]],\n",
              "\n",
              "        [[3, 3, 3],\n",
              "         [4, 5, 6],\n",
              "         [7, 8, 8]]])"
            ]
          },
          "metadata": {
            "tags": []
          },
          "execution_count": 11
        }
      ]
    },
    {
      "cell_type": "code",
      "metadata": {
        "id": "LgYXuhY_TB8s"
      },
      "source": [
        ""
      ],
      "execution_count": null,
      "outputs": []
    },
    {
      "cell_type": "markdown",
      "metadata": {
        "id": "njtJdgfeYB0s"
      },
      "source": [
        "#Batch Indexing"
      ]
    },
    {
      "cell_type": "code",
      "metadata": {
        "colab": {
          "base_uri": "https://localhost:8080/"
        },
        "id": "DbPFfhXrYEPK",
        "outputId": "7e859842-ecf0-4f91-bf85-9f0bd58adb89"
      },
      "source": [
        "batch_size = 10\n",
        "features = 25\n",
        "x = torch.rand(batch_size, features)\n",
        "x"
      ],
      "execution_count": null,
      "outputs": [
        {
          "output_type": "execute_result",
          "data": {
            "text/plain": [
              "tensor([[0.1233, 0.7616, 0.2860, 0.3810, 0.2315, 0.0934, 0.0859, 0.0848, 0.5353,\n",
              "         0.5407, 0.7639, 0.3725, 0.8877, 0.7014, 0.2788, 0.4184, 0.9879, 0.5155,\n",
              "         0.6070, 0.5926, 0.6255, 0.0871, 0.5081, 0.0912, 0.0087],\n",
              "        [0.6630, 0.0073, 0.6622, 0.3281, 0.2814, 0.0640, 0.7587, 0.2742, 0.7908,\n",
              "         0.5693, 0.5132, 0.0506, 0.5501, 0.5096, 0.8167, 0.6739, 0.0034, 0.5665,\n",
              "         0.2167, 0.9020, 0.4173, 0.0255, 0.7566, 0.1186, 0.5642],\n",
              "        [0.9391, 0.2618, 0.8121, 0.7745, 0.1985, 0.9600, 0.5855, 0.2491, 0.0096,\n",
              "         0.1526, 0.2860, 0.6275, 0.8537, 0.4389, 0.5719, 0.7720, 0.9964, 0.0383,\n",
              "         0.7094, 0.0945, 0.7530, 0.9171, 0.0718, 0.8014, 0.0109],\n",
              "        [0.2761, 0.7304, 0.3388, 0.0443, 0.0391, 0.8253, 0.8288, 0.7623, 0.8417,\n",
              "         0.6676, 0.6609, 0.5478, 0.4323, 0.9565, 0.6630, 0.6117, 0.7722, 0.3480,\n",
              "         0.7256, 0.2970, 0.1895, 0.9253, 0.5987, 0.7206, 0.4352],\n",
              "        [0.0216, 0.3211, 0.5846, 0.3701, 0.4889, 0.4918, 0.3811, 0.3921, 0.9409,\n",
              "         0.3666, 0.4763, 0.5637, 0.4926, 0.7216, 0.5460, 0.4594, 0.8378, 0.0264,\n",
              "         0.9996, 0.9514, 0.0277, 0.4376, 0.7897, 0.8979, 0.1680],\n",
              "        [0.6656, 0.9672, 0.1465, 0.4542, 0.6832, 0.4475, 0.4385, 0.3435, 0.8370,\n",
              "         0.4402, 0.1385, 0.8941, 0.8278, 0.4975, 0.7204, 0.8780, 0.7364, 0.3913,\n",
              "         0.7684, 0.1367, 0.0481, 0.9357, 0.7204, 0.4857, 0.7013],\n",
              "        [0.5036, 0.9328, 0.6436, 0.1489, 0.8159, 0.7235, 0.7583, 0.7336, 0.5776,\n",
              "         0.4483, 0.6050, 0.7671, 0.8445, 0.3553, 0.6660, 0.9825, 0.1070, 0.2885,\n",
              "         0.1007, 0.1577, 0.7256, 0.5901, 0.1178, 0.0752, 0.0486],\n",
              "        [0.7971, 0.1553, 0.9619, 0.7415, 0.0722, 0.7185, 0.2455, 0.2826, 0.8908,\n",
              "         0.2225, 0.7299, 0.8282, 0.4781, 0.3954, 0.1824, 0.7122, 0.5662, 0.7840,\n",
              "         0.3679, 0.6034, 0.6534, 0.4477, 0.9894, 0.6380, 0.2757],\n",
              "        [0.6361, 0.3763, 0.7092, 0.5823, 0.5113, 0.5625, 0.8322, 0.3399, 0.7177,\n",
              "         0.6702, 0.5400, 0.9571, 0.1204, 0.2670, 0.8533, 0.2407, 0.2787, 0.4221,\n",
              "         0.6527, 0.9245, 0.6133, 0.3577, 0.1932, 0.8633, 0.0411],\n",
              "        [0.5399, 0.8596, 0.5482, 0.0368, 0.9051, 0.5252, 0.0829, 0.2097, 0.7822,\n",
              "         0.0276, 0.6361, 0.4338, 0.8025, 0.3248, 0.4979, 0.5917, 0.4542, 0.5032,\n",
              "         0.9178, 0.1083, 0.8539, 0.2327, 0.8758, 0.5324, 0.4466]])"
            ]
          },
          "metadata": {
            "tags": []
          },
          "execution_count": 84
        }
      ]
    },
    {
      "cell_type": "code",
      "metadata": {
        "colab": {
          "base_uri": "https://localhost:8080/"
        },
        "id": "UoWgUU5LYei5",
        "outputId": "eb9b6521-95b8-4da4-ee78-c2831090d63b"
      },
      "source": [
        "x = torch.arange(10,20)\n",
        "print(x)\n",
        "print(x[(x<12) | (x > 18)])"
      ],
      "execution_count": null,
      "outputs": [
        {
          "output_type": "stream",
          "text": [
            "tensor([10, 11, 12, 13, 14, 15, 16, 17, 18, 19])\n",
            "tensor([10, 11, 19])\n"
          ],
          "name": "stdout"
        }
      ]
    },
    {
      "cell_type": "code",
      "metadata": {
        "colab": {
          "base_uri": "https://localhost:8080/"
        },
        "id": "pQXkioRTbuFI",
        "outputId": "e79897a7-aa29-40dc-d1de-aea113f2e0bf"
      },
      "source": [
        "x[[2,4,6]]   #for having multiple values, giving multiple indices as list of list"
      ],
      "execution_count": null,
      "outputs": [
        {
          "output_type": "execute_result",
          "data": {
            "text/plain": [
              "tensor([12, 14, 16])"
            ]
          },
          "metadata": {
            "tags": []
          },
          "execution_count": 87
        }
      ]
    },
    {
      "cell_type": "code",
      "metadata": {
        "colab": {
          "base_uri": "https://localhost:8080/"
        },
        "id": "XYelTd6FrSOZ",
        "outputId": "a562ca97-2605-495f-c334-201a9b7136ea"
      },
      "source": [
        "x"
      ],
      "execution_count": null,
      "outputs": [
        {
          "output_type": "execute_result",
          "data": {
            "text/plain": [
              "tensor([10, 11, 12, 13, 14, 15, 16, 17, 18, 19])"
            ]
          },
          "metadata": {
            "tags": []
          },
          "execution_count": 89
        }
      ]
    },
    {
      "cell_type": "code",
      "metadata": {
        "colab": {
          "base_uri": "https://localhost:8080/"
        },
        "id": "ewkHCTa4rDah",
        "outputId": "30634b65-a30f-4856-b975-fe544549ee6e"
      },
      "source": [
        "x[[2]]  "
      ],
      "execution_count": null,
      "outputs": [
        {
          "output_type": "execute_result",
          "data": {
            "text/plain": [
              "tensor([12])"
            ]
          },
          "metadata": {
            "tags": []
          },
          "execution_count": 90
        }
      ]
    },
    {
      "cell_type": "code",
      "metadata": {
        "colab": {
          "base_uri": "https://localhost:8080/"
        },
        "id": "mW6zRpkgrZ_b",
        "outputId": "5cb8f644-89fe-4f93-ce31-61b9f2959ab1"
      },
      "source": [
        "x[2]  #will fetch only one scalar value "
      ],
      "execution_count": null,
      "outputs": [
        {
          "output_type": "execute_result",
          "data": {
            "text/plain": [
              "tensor(12)"
            ]
          },
          "metadata": {
            "tags": []
          },
          "execution_count": 91
        }
      ]
    },
    {
      "cell_type": "code",
      "metadata": {
        "colab": {
          "base_uri": "https://localhost:8080/"
        },
        "id": "e2neP0hBrarp",
        "outputId": "89bdc93c-d8df-4673-e257-28aaa3a3ec77"
      },
      "source": [
        "x[x.remainder(2)==0]"
      ],
      "execution_count": null,
      "outputs": [
        {
          "output_type": "execute_result",
          "data": {
            "text/plain": [
              "tensor([10, 12, 14, 16, 18])"
            ]
          },
          "metadata": {
            "tags": []
          },
          "execution_count": 92
        }
      ]
    },
    {
      "cell_type": "code",
      "metadata": {
        "colab": {
          "base_uri": "https://localhost:8080/"
        },
        "id": "J-KeBIMUr8DA",
        "outputId": "457e4009-4a00-4769-c524-a1fef75db626"
      },
      "source": [
        "torch.where(x>12,x,x*2)    #condition, if true, if false"
      ],
      "execution_count": null,
      "outputs": [
        {
          "output_type": "execute_result",
          "data": {
            "text/plain": [
              "tensor([20, 22, 24, 13, 14, 15, 16, 17, 18, 19])"
            ]
          },
          "metadata": {
            "tags": []
          },
          "execution_count": 97
        }
      ]
    },
    {
      "cell_type": "code",
      "metadata": {
        "colab": {
          "base_uri": "https://localhost:8080/"
        },
        "id": "3K0XQYXcsSLI",
        "outputId": "6f7fbd0b-bc99-4872-a29d-b1ac20d18888"
      },
      "source": [
        "torch.tensor([1,1,2,2,2,3,3,1,1,1,1,2]).unique()"
      ],
      "execution_count": null,
      "outputs": [
        {
          "output_type": "execute_result",
          "data": {
            "text/plain": [
              "tensor([1, 2, 3])"
            ]
          },
          "metadata": {
            "tags": []
          },
          "execution_count": 98
        }
      ]
    },
    {
      "cell_type": "code",
      "metadata": {
        "colab": {
          "base_uri": "https://localhost:8080/"
        },
        "id": "Y5W8Tz9etAA8",
        "outputId": "b1f35000-3967-4a98-e156-e5d6f537e5d1"
      },
      "source": [
        "x.ndimension()"
      ],
      "execution_count": null,
      "outputs": [
        {
          "output_type": "execute_result",
          "data": {
            "text/plain": [
              "1"
            ]
          },
          "metadata": {
            "tags": []
          },
          "execution_count": 100
        }
      ]
    },
    {
      "cell_type": "markdown",
      "metadata": {
        "id": "AoeBeLsvteEu"
      },
      "source": [
        "#Reshaping Tensor"
      ]
    },
    {
      "cell_type": "code",
      "metadata": {
        "id": "o9maolYEtgnm",
        "colab": {
          "base_uri": "https://localhost:8080/"
        },
        "outputId": "d42e98e6-9890-4374-ac58-e4868396f3f8"
      },
      "source": [
        "x = torch.arange(9)\n",
        "xr = x.view(3,3) #work for contiguous memory\n",
        "xr"
      ],
      "execution_count": null,
      "outputs": [
        {
          "output_type": "execute_result",
          "data": {
            "text/plain": [
              "tensor([[0, 1, 2],\n",
              "        [3, 4, 5],\n",
              "        [6, 7, 8]])"
            ]
          },
          "metadata": {
            "tags": []
          },
          "execution_count": 2
        }
      ]
    },
    {
      "cell_type": "code",
      "metadata": {
        "colab": {
          "base_uri": "https://localhost:8080/"
        },
        "id": "jZtwS6bev6qs",
        "outputId": "cbbd580a-e22e-4de8-9d86-5bc18edc5d87"
      },
      "source": [
        "xr = x.reshape(3,3) #works everytime but not efficient as view , but for safe option use reshape\n",
        "xr"
      ],
      "execution_count": null,
      "outputs": [
        {
          "output_type": "execute_result",
          "data": {
            "text/plain": [
              "tensor([[0, 1, 2],\n",
              "        [3, 4, 5],\n",
              "        [6, 7, 8]])"
            ]
          },
          "metadata": {
            "tags": []
          },
          "execution_count": 3
        }
      ]
    },
    {
      "cell_type": "code",
      "metadata": {
        "colab": {
          "base_uri": "https://localhost:8080/"
        },
        "id": "wipB_-uRwQny",
        "outputId": "9cbb2337-597b-4bfa-a23d-88f39efa341c"
      },
      "source": [
        "x1  = torch.rand(2,5)\n",
        "print(x1)\n",
        "x2  = torch.rand(2,5)\n",
        "print(x2)\n",
        "torch.cat((x1,x2), dim = 1)"
      ],
      "execution_count": null,
      "outputs": [
        {
          "output_type": "stream",
          "text": [
            "tensor([[0.2207, 0.9993, 0.3529, 0.1001, 0.1405],\n",
            "        [0.6020, 0.8278, 0.9696, 0.9187, 0.8104]])\n",
            "tensor([[0.0092, 0.1624, 0.4763, 0.2403, 0.4159],\n",
            "        [0.7968, 0.8187, 0.0274, 0.9850, 0.7813]])\n"
          ],
          "name": "stdout"
        },
        {
          "output_type": "execute_result",
          "data": {
            "text/plain": [
              "tensor([[0.2207, 0.9993, 0.3529, 0.1001, 0.1405, 0.0092, 0.1624, 0.4763, 0.2403,\n",
              "         0.4159],\n",
              "        [0.6020, 0.8278, 0.9696, 0.9187, 0.8104, 0.7968, 0.8187, 0.0274, 0.9850,\n",
              "         0.7813]])"
            ]
          },
          "metadata": {
            "tags": []
          },
          "execution_count": 23
        }
      ]
    },
    {
      "cell_type": "code",
      "metadata": {
        "colab": {
          "base_uri": "https://localhost:8080/"
        },
        "id": "dG8KhRlFPGoA",
        "outputId": "5b91e3e5-871f-48bf-959c-be3f3ee014af"
      },
      "source": [
        "x1  = torch.arange(2)\n",
        "x2  = torch.arange(2)\n",
        "torch.cat((x1,x2), dim = 0)"
      ],
      "execution_count": null,
      "outputs": [
        {
          "output_type": "execute_result",
          "data": {
            "text/plain": [
              "tensor([0, 1, 0, 1])"
            ]
          },
          "metadata": {
            "tags": []
          },
          "execution_count": 18
        }
      ]
    },
    {
      "cell_type": "code",
      "metadata": {
        "colab": {
          "base_uri": "https://localhost:8080/"
        },
        "id": "g_IVx9OSxRw9",
        "outputId": "55b04890-cc83-4aa9-a526-5b6e079342b9"
      },
      "source": [
        "#flatten the matrix\n",
        "z = x1.reshape(-1)  #2x5--> 1x10\n",
        "z"
      ],
      "execution_count": null,
      "outputs": [
        {
          "output_type": "execute_result",
          "data": {
            "text/plain": [
              "tensor([0.2207, 0.9993, 0.3529, 0.1001, 0.1405, 0.6020, 0.8278, 0.9696, 0.9187,\n",
              "        0.8104])"
            ]
          },
          "metadata": {
            "tags": []
          },
          "execution_count": 24
        }
      ]
    },
    {
      "cell_type": "code",
      "metadata": {
        "colab": {
          "base_uri": "https://localhost:8080/"
        },
        "id": "xeNfMiubxj7K",
        "outputId": "e634ef1a-e3d2-4e15-d54f-02e156696c4b"
      },
      "source": [
        "z.shape"
      ],
      "execution_count": null,
      "outputs": [
        {
          "output_type": "execute_result",
          "data": {
            "text/plain": [
              "torch.Size([10])"
            ]
          },
          "metadata": {
            "tags": []
          },
          "execution_count": 8
        }
      ]
    },
    {
      "cell_type": "code",
      "metadata": {
        "colab": {
          "base_uri": "https://localhost:8080/"
        },
        "id": "uYZXIR0sxqLP",
        "outputId": "02f6bccd-c5e0-4eb0-df42-c3c42b6deb9d"
      },
      "source": [
        "#IMPORTANT WITH BATCH\n",
        "batch = 64\n",
        "x = torch.rand(batch,2,5)\n",
        "y = x.reshape(batch,-1) #i.e. when i dont want to touch batch\n",
        "y.shape"
      ],
      "execution_count": null,
      "outputs": [
        {
          "output_type": "execute_result",
          "data": {
            "text/plain": [
              "torch.Size([64, 10])"
            ]
          },
          "metadata": {
            "tags": []
          },
          "execution_count": 9
        }
      ]
    },
    {
      "cell_type": "code",
      "metadata": {
        "colab": {
          "base_uri": "https://localhost:8080/"
        },
        "id": "W1xMXVejxm29",
        "outputId": "15800754-1b8b-4220-9801-b2f091ce67e0"
      },
      "source": [
        "#IMPORTANT CHANGING THE AXIS\n",
        "z = x.permute(0,2,1)\n",
        "z.shape"
      ],
      "execution_count": null,
      "outputs": [
        {
          "output_type": "execute_result",
          "data": {
            "text/plain": [
              "torch.Size([64, 5, 2])"
            ]
          },
          "metadata": {
            "tags": []
          },
          "execution_count": 10
        }
      ]
    },
    {
      "cell_type": "code",
      "metadata": {
        "colab": {
          "base_uri": "https://localhost:8080/"
        },
        "id": "UiCs8H2cyoWk",
        "outputId": "32af33e2-5819-4070-d13c-34faa1ef1b81"
      },
      "source": [
        "#IMPORTANT UNSQUEEZE\n",
        "x = torch.arange(10) #shape -> [10]\n",
        "print(x)\n",
        "print('\\n',x.shape)\n",
        "\n",
        "z=x.unsqueeze(0)\n",
        "print('\\n',x.unsqueeze(0).shape) #at 0th index\n",
        "print('\\n',z) \n",
        "\n",
        "y=x.unsqueeze(1)\n",
        "print('\\n',x.unsqueeze(1).shape) #at 1th index\n",
        "print(y)\n",
        "\n",
        "z = x.unsqueeze(0).unsqueeze(1)\n",
        "print(z)\n",
        "print('\\n',x.unsqueeze(0).unsqueeze(1).shape) #at 0th and 1th index\n",
        "\n",
        "#Now we dont want 1th index\n",
        "z = z.squeeze(1)\n",
        "print(z.shape)"
      ],
      "execution_count": null,
      "outputs": [
        {
          "output_type": "stream",
          "text": [
            "tensor([0, 1, 2, 3, 4, 5, 6, 7, 8, 9])\n",
            "\n",
            " torch.Size([10])\n",
            "\n",
            " torch.Size([1, 10])\n",
            "\n",
            " tensor([[0, 1, 2, 3, 4, 5, 6, 7, 8, 9]])\n",
            "\n",
            " torch.Size([10, 1])\n",
            "tensor([[0],\n",
            "        [1],\n",
            "        [2],\n",
            "        [3],\n",
            "        [4],\n",
            "        [5],\n",
            "        [6],\n",
            "        [7],\n",
            "        [8],\n",
            "        [9]])\n",
            "tensor([[[0, 1, 2, 3, 4, 5, 6, 7, 8, 9]]])\n",
            "\n",
            " torch.Size([1, 1, 10])\n",
            "torch.Size([1, 10])\n"
          ],
          "name": "stdout"
        }
      ]
    }
  ]
}