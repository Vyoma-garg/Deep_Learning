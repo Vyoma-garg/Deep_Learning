{
  "nbformat": 4,
  "nbformat_minor": 0,
  "metadata": {
    "colab": {
      "name": "4_BatchGD_SGD_Minibatch.ipynb",
      "provenance": [],
      "authorship_tag": "ABX9TyPJoGHWNbGS2E3dlzntrwaG",
      "include_colab_link": true
    },
    "kernelspec": {
      "name": "python3",
      "display_name": "Python 3"
    },
    "language_info": {
      "name": "python"
    }
  },
  "cells": [
    {
      "cell_type": "markdown",
      "metadata": {
        "id": "view-in-github",
        "colab_type": "text"
      },
      "source": [
        "<a href=\"https://colab.research.google.com/github/Vyoma-garg/Deep_Learning/blob/main/4_BatchGD_SGD_Minibatch.ipynb\" target=\"_parent\"><img src=\"https://colab.research.google.com/assets/colab-badge.svg\" alt=\"Open In Colab\"/></a>"
      ]
    },
    {
      "cell_type": "markdown",
      "source": [
        "# Batch Gradient Descent "
      ],
      "metadata": {
        "id": "EwyOCQtqN7mz"
      }
    },
    {
      "cell_type": "code",
      "source": [
        "import numpy as np\n",
        "import tensorflow as tf\n",
        "from tensorflow import keras\n",
        "import pandas as pd\n",
        "from matplotlib import pyplot as plt\n",
        "%matplotlib inline\n",
        "from sklearn.model_selection import train_test_split"
      ],
      "metadata": {
        "id": "XM2pBrnl3UPL"
      },
      "execution_count": 1,
      "outputs": []
    },
    {
      "cell_type": "code",
      "execution_count": 2,
      "metadata": {
        "colab": {
          "base_uri": "https://localhost:8080/",
          "height": 677
        },
        "id": "D6N8wZ5f5uHE",
        "outputId": "72c5eb7c-1c3c-4147-f6ae-82a3786d8ff7"
      },
      "outputs": [
        {
          "output_type": "execute_result",
          "data": {
            "text/html": [
              "\n",
              "  <div id=\"df-3da1d00a-6dbb-44cf-a75a-f2685058998f\">\n",
              "    <div class=\"colab-df-container\">\n",
              "      <div>\n",
              "<style scoped>\n",
              "    .dataframe tbody tr th:only-of-type {\n",
              "        vertical-align: middle;\n",
              "    }\n",
              "\n",
              "    .dataframe tbody tr th {\n",
              "        vertical-align: top;\n",
              "    }\n",
              "\n",
              "    .dataframe thead th {\n",
              "        text-align: right;\n",
              "    }\n",
              "</style>\n",
              "<table border=\"1\" class=\"dataframe\">\n",
              "  <thead>\n",
              "    <tr style=\"text-align: right;\">\n",
              "      <th></th>\n",
              "      <th>area</th>\n",
              "      <th>bedrooms</th>\n",
              "      <th>price</th>\n",
              "    </tr>\n",
              "  </thead>\n",
              "  <tbody>\n",
              "    <tr>\n",
              "      <th>0</th>\n",
              "      <td>1056</td>\n",
              "      <td>2</td>\n",
              "      <td>39.07</td>\n",
              "    </tr>\n",
              "    <tr>\n",
              "      <th>1</th>\n",
              "      <td>2600</td>\n",
              "      <td>4</td>\n",
              "      <td>120.00</td>\n",
              "    </tr>\n",
              "    <tr>\n",
              "      <th>2</th>\n",
              "      <td>1440</td>\n",
              "      <td>3</td>\n",
              "      <td>62.00</td>\n",
              "    </tr>\n",
              "    <tr>\n",
              "      <th>3</th>\n",
              "      <td>1521</td>\n",
              "      <td>3</td>\n",
              "      <td>75.00</td>\n",
              "    </tr>\n",
              "    <tr>\n",
              "      <th>4</th>\n",
              "      <td>1200</td>\n",
              "      <td>2</td>\n",
              "      <td>51.00</td>\n",
              "    </tr>\n",
              "    <tr>\n",
              "      <th>5</th>\n",
              "      <td>1170</td>\n",
              "      <td>2</td>\n",
              "      <td>38.00</td>\n",
              "    </tr>\n",
              "    <tr>\n",
              "      <th>6</th>\n",
              "      <td>2732</td>\n",
              "      <td>4</td>\n",
              "      <td>135.00</td>\n",
              "    </tr>\n",
              "    <tr>\n",
              "      <th>7</th>\n",
              "      <td>3300</td>\n",
              "      <td>4</td>\n",
              "      <td>155.00</td>\n",
              "    </tr>\n",
              "    <tr>\n",
              "      <th>8</th>\n",
              "      <td>1310</td>\n",
              "      <td>3</td>\n",
              "      <td>50.00</td>\n",
              "    </tr>\n",
              "    <tr>\n",
              "      <th>9</th>\n",
              "      <td>3700</td>\n",
              "      <td>5</td>\n",
              "      <td>167.00</td>\n",
              "    </tr>\n",
              "    <tr>\n",
              "      <th>10</th>\n",
              "      <td>1800</td>\n",
              "      <td>3</td>\n",
              "      <td>82.00</td>\n",
              "    </tr>\n",
              "    <tr>\n",
              "      <th>11</th>\n",
              "      <td>2785</td>\n",
              "      <td>4</td>\n",
              "      <td>140.00</td>\n",
              "    </tr>\n",
              "    <tr>\n",
              "      <th>12</th>\n",
              "      <td>1000</td>\n",
              "      <td>2</td>\n",
              "      <td>38.00</td>\n",
              "    </tr>\n",
              "    <tr>\n",
              "      <th>13</th>\n",
              "      <td>1100</td>\n",
              "      <td>2</td>\n",
              "      <td>40.00</td>\n",
              "    </tr>\n",
              "    <tr>\n",
              "      <th>14</th>\n",
              "      <td>2250</td>\n",
              "      <td>3</td>\n",
              "      <td>101.00</td>\n",
              "    </tr>\n",
              "    <tr>\n",
              "      <th>15</th>\n",
              "      <td>1175</td>\n",
              "      <td>2</td>\n",
              "      <td>42.00</td>\n",
              "    </tr>\n",
              "    <tr>\n",
              "      <th>16</th>\n",
              "      <td>1180</td>\n",
              "      <td>3</td>\n",
              "      <td>48.00</td>\n",
              "    </tr>\n",
              "    <tr>\n",
              "      <th>17</th>\n",
              "      <td>1540</td>\n",
              "      <td>3</td>\n",
              "      <td>60.00</td>\n",
              "    </tr>\n",
              "    <tr>\n",
              "      <th>18</th>\n",
              "      <td>2770</td>\n",
              "      <td>3</td>\n",
              "      <td>102.00</td>\n",
              "    </tr>\n",
              "    <tr>\n",
              "      <th>19</th>\n",
              "      <td>800</td>\n",
              "      <td>1</td>\n",
              "      <td>32.00</td>\n",
              "    </tr>\n",
              "  </tbody>\n",
              "</table>\n",
              "</div>\n",
              "      <button class=\"colab-df-convert\" onclick=\"convertToInteractive('df-3da1d00a-6dbb-44cf-a75a-f2685058998f')\"\n",
              "              title=\"Convert this dataframe to an interactive table.\"\n",
              "              style=\"display:none;\">\n",
              "        \n",
              "  <svg xmlns=\"http://www.w3.org/2000/svg\" height=\"24px\"viewBox=\"0 0 24 24\"\n",
              "       width=\"24px\">\n",
              "    <path d=\"M0 0h24v24H0V0z\" fill=\"none\"/>\n",
              "    <path d=\"M18.56 5.44l.94 2.06.94-2.06 2.06-.94-2.06-.94-.94-2.06-.94 2.06-2.06.94zm-11 1L8.5 8.5l.94-2.06 2.06-.94-2.06-.94L8.5 2.5l-.94 2.06-2.06.94zm10 10l.94 2.06.94-2.06 2.06-.94-2.06-.94-.94-2.06-.94 2.06-2.06.94z\"/><path d=\"M17.41 7.96l-1.37-1.37c-.4-.4-.92-.59-1.43-.59-.52 0-1.04.2-1.43.59L10.3 9.45l-7.72 7.72c-.78.78-.78 2.05 0 2.83L4 21.41c.39.39.9.59 1.41.59.51 0 1.02-.2 1.41-.59l7.78-7.78 2.81-2.81c.8-.78.8-2.07 0-2.86zM5.41 20L4 18.59l7.72-7.72 1.47 1.35L5.41 20z\"/>\n",
              "  </svg>\n",
              "      </button>\n",
              "      \n",
              "  <style>\n",
              "    .colab-df-container {\n",
              "      display:flex;\n",
              "      flex-wrap:wrap;\n",
              "      gap: 12px;\n",
              "    }\n",
              "\n",
              "    .colab-df-convert {\n",
              "      background-color: #E8F0FE;\n",
              "      border: none;\n",
              "      border-radius: 50%;\n",
              "      cursor: pointer;\n",
              "      display: none;\n",
              "      fill: #1967D2;\n",
              "      height: 32px;\n",
              "      padding: 0 0 0 0;\n",
              "      width: 32px;\n",
              "    }\n",
              "\n",
              "    .colab-df-convert:hover {\n",
              "      background-color: #E2EBFA;\n",
              "      box-shadow: 0px 1px 2px rgba(60, 64, 67, 0.3), 0px 1px 3px 1px rgba(60, 64, 67, 0.15);\n",
              "      fill: #174EA6;\n",
              "    }\n",
              "\n",
              "    [theme=dark] .colab-df-convert {\n",
              "      background-color: #3B4455;\n",
              "      fill: #D2E3FC;\n",
              "    }\n",
              "\n",
              "    [theme=dark] .colab-df-convert:hover {\n",
              "      background-color: #434B5C;\n",
              "      box-shadow: 0px 1px 3px 1px rgba(0, 0, 0, 0.15);\n",
              "      filter: drop-shadow(0px 1px 2px rgba(0, 0, 0, 0.3));\n",
              "      fill: #FFFFFF;\n",
              "    }\n",
              "  </style>\n",
              "\n",
              "      <script>\n",
              "        const buttonEl =\n",
              "          document.querySelector('#df-3da1d00a-6dbb-44cf-a75a-f2685058998f button.colab-df-convert');\n",
              "        buttonEl.style.display =\n",
              "          google.colab.kernel.accessAllowed ? 'block' : 'none';\n",
              "\n",
              "        async function convertToInteractive(key) {\n",
              "          const element = document.querySelector('#df-3da1d00a-6dbb-44cf-a75a-f2685058998f');\n",
              "          const dataTable =\n",
              "            await google.colab.kernel.invokeFunction('convertToInteractive',\n",
              "                                                     [key], {});\n",
              "          if (!dataTable) return;\n",
              "\n",
              "          const docLinkHtml = 'Like what you see? Visit the ' +\n",
              "            '<a target=\"_blank\" href=https://colab.research.google.com/notebooks/data_table.ipynb>data table notebook</a>'\n",
              "            + ' to learn more about interactive tables.';\n",
              "          element.innerHTML = '';\n",
              "          dataTable['output_type'] = 'display_data';\n",
              "          await google.colab.output.renderOutput(dataTable, element);\n",
              "          const docLink = document.createElement('div');\n",
              "          docLink.innerHTML = docLinkHtml;\n",
              "          element.appendChild(docLink);\n",
              "        }\n",
              "      </script>\n",
              "    </div>\n",
              "  </div>\n",
              "  "
            ],
            "text/plain": [
              "    area  bedrooms   price\n",
              "0   1056         2   39.07\n",
              "1   2600         4  120.00\n",
              "2   1440         3   62.00\n",
              "3   1521         3   75.00\n",
              "4   1200         2   51.00\n",
              "5   1170         2   38.00\n",
              "6   2732         4  135.00\n",
              "7   3300         4  155.00\n",
              "8   1310         3   50.00\n",
              "9   3700         5  167.00\n",
              "10  1800         3   82.00\n",
              "11  2785         4  140.00\n",
              "12  1000         2   38.00\n",
              "13  1100         2   40.00\n",
              "14  2250         3  101.00\n",
              "15  1175         2   42.00\n",
              "16  1180         3   48.00\n",
              "17  1540         3   60.00\n",
              "18  2770         3  102.00\n",
              "19   800         1   32.00"
            ]
          },
          "metadata": {},
          "execution_count": 2
        }
      ],
      "source": [
        "url='https://raw.githubusercontent.com/codebasics/deep-learning-keras-tf-tutorial/master/8_sgd_vs_gd/homeprices_banglore.csv'\n",
        "df=pd.read_csv(url)\n",
        "df"
      ]
    },
    {
      "cell_type": "code",
      "source": [
        "from sklearn import preprocessing\n",
        "\n",
        "sx= preprocessing.MinMaxScaler()\n",
        "sy= preprocessing.MinMaxScaler()\n",
        "\n",
        "x_scaled = sx.fit_transform(df.drop('price', axis='columns'))\n",
        "x_scaled\n"
      ],
      "metadata": {
        "colab": {
          "base_uri": "https://localhost:8080/"
        },
        "id": "krNkLKrP30we",
        "outputId": "1428a439-0c4f-4527-e5d4-cfa8409bab3e"
      },
      "execution_count": 3,
      "outputs": [
        {
          "output_type": "execute_result",
          "data": {
            "text/plain": [
              "array([[0.08827586, 0.25      ],\n",
              "       [0.62068966, 0.75      ],\n",
              "       [0.22068966, 0.5       ],\n",
              "       [0.24862069, 0.5       ],\n",
              "       [0.13793103, 0.25      ],\n",
              "       [0.12758621, 0.25      ],\n",
              "       [0.6662069 , 0.75      ],\n",
              "       [0.86206897, 0.75      ],\n",
              "       [0.17586207, 0.5       ],\n",
              "       [1.        , 1.        ],\n",
              "       [0.34482759, 0.5       ],\n",
              "       [0.68448276, 0.75      ],\n",
              "       [0.06896552, 0.25      ],\n",
              "       [0.10344828, 0.25      ],\n",
              "       [0.5       , 0.5       ],\n",
              "       [0.12931034, 0.25      ],\n",
              "       [0.13103448, 0.5       ],\n",
              "       [0.25517241, 0.5       ],\n",
              "       [0.67931034, 0.5       ],\n",
              "       [0.        , 0.        ]])"
            ]
          },
          "metadata": {},
          "execution_count": 3
        }
      ]
    },
    {
      "cell_type": "code",
      "source": [
        "x_scaled.shape, y_scaled.shape"
      ],
      "metadata": {
        "colab": {
          "base_uri": "https://localhost:8080/"
        },
        "id": "FuHhbbnz6PWw",
        "outputId": "38561bad-80a9-4d0c-bdfc-c708fc368a5e"
      },
      "execution_count": 12,
      "outputs": [
        {
          "output_type": "execute_result",
          "data": {
            "text/plain": [
              "((20, 2), (20, 1))"
            ]
          },
          "metadata": {},
          "execution_count": 12
        }
      ]
    },
    {
      "cell_type": "code",
      "source": [
        "y_scaled = sy.fit_transform(df['price'].values.reshape(df.shape[0],1))  #(20,) --> (20,1)\n",
        "y_scaled"
      ],
      "metadata": {
        "colab": {
          "base_uri": "https://localhost:8080/"
        },
        "id": "YLuE6Xcq5JQo",
        "outputId": "2168141e-d1f5-4585-fe19-adee801efe88"
      },
      "execution_count": 10,
      "outputs": [
        {
          "output_type": "execute_result",
          "data": {
            "text/plain": [
              "array([[0.05237037],\n",
              "       [0.65185185],\n",
              "       [0.22222222],\n",
              "       [0.31851852],\n",
              "       [0.14074074],\n",
              "       [0.04444444],\n",
              "       [0.76296296],\n",
              "       [0.91111111],\n",
              "       [0.13333333],\n",
              "       [1.        ],\n",
              "       [0.37037037],\n",
              "       [0.8       ],\n",
              "       [0.04444444],\n",
              "       [0.05925926],\n",
              "       [0.51111111],\n",
              "       [0.07407407],\n",
              "       [0.11851852],\n",
              "       [0.20740741],\n",
              "       [0.51851852],\n",
              "       [0.        ]])"
            ]
          },
          "metadata": {},
          "execution_count": 10
        }
      ]
    },
    {
      "cell_type": "code",
      "source": [
        "np.ones(shape=2)"
      ],
      "metadata": {
        "colab": {
          "base_uri": "https://localhost:8080/"
        },
        "id": "80oWMCZb6u8v",
        "outputId": "2e303818-854d-4093-be77-4310254a1f20"
      },
      "execution_count": 13,
      "outputs": [
        {
          "output_type": "execute_result",
          "data": {
            "text/plain": [
              "array([1., 1.])"
            ]
          },
          "metadata": {},
          "execution_count": 13
        }
      ]
    },
    {
      "cell_type": "code",
      "source": [
        "def batch_gradient(x,y_true, epochs, learning_rate=0.01):\n",
        "  number_features=x.shape[1]\n",
        "\n",
        "  w=np.ones(shape=number_features)\n",
        "  b=0\n",
        "  total_samples=x.shape[0]\n",
        "  \n",
        "  epoch_list=[]\n",
        "  cost_list=[]\n",
        "\n",
        "  for i in range(epochs):\n",
        "    y_predicted= np.dot(w, x_scaled.T) + b # w1 x area + w2 x bedrooms +bias\n",
        "    \n",
        "    w_grad= -(2/total_samples) * (x.T.dot(y_true-y_predicted))\n",
        "    b_grad= -(2/total_samples) * np.sum(y_true-y_predicted)\n",
        "\n",
        "    w= w - learning_rate* w_grad\n",
        "    b= b - learning_rate* b_grad\n",
        " \n",
        "    cost= np.mean(np.square(y_true- y_predicted))   #mse\n",
        "    \n",
        "    if i%10==0:\n",
        "  \n",
        "      epoch_list.append(i)\n",
        "      cost_list.append(cost)\n",
        "    \n",
        "  return w,b,cost,epoch_list, cost_list\n",
        "\n",
        "\n",
        "w,b,cost,epoch_list, cost_list = batch_gradient(x_scaled, y_scaled.reshape(y_scaled.shape[0],), 500 )\n",
        "\n",
        "w,b,cost"
      ],
      "metadata": {
        "colab": {
          "base_uri": "https://localhost:8080/"
        },
        "id": "j_lYAZzS58fi",
        "outputId": "32718a08-a620-4a37-cfbb-50418dc1174d"
      },
      "execution_count": 41,
      "outputs": [
        {
          "output_type": "execute_result",
          "data": {
            "text/plain": [
              "(array([0.70712464, 0.67456527]), -0.23034857438407427, 0.0068641890429808105)"
            ]
          },
          "metadata": {},
          "execution_count": 41
        }
      ]
    },
    {
      "cell_type": "code",
      "source": [
        "plt.xlabel('epoch')\n",
        "plt.ylabel('cost')\n",
        "plt.plot(epoch_list, cost_list)"
      ],
      "metadata": {
        "colab": {
          "base_uri": "https://localhost:8080/",
          "height": 296
        },
        "id": "2IJNASrS-j6h",
        "outputId": "11855e0c-254d-427d-d634-82cfa7afac9b"
      },
      "execution_count": 23,
      "outputs": [
        {
          "output_type": "execute_result",
          "data": {
            "text/plain": [
              "[<matplotlib.lines.Line2D at 0x7fdb20ec1150>]"
            ]
          },
          "metadata": {},
          "execution_count": 23
        },
        {
          "output_type": "display_data",
          "data": {
            "image/png": "[encoded data removed]",
            "text/plain": [
              "<Figure size 432x288 with 1 Axes>"
            ]
          },
          "metadata": {
            "needs_background": "light"
          }
        }
      ]
    },
    {
      "cell_type": "code",
      "source": [
        "sy.inverse_transform([[1,0]])  #--> max is 167, min is 32\n"
      ],
      "metadata": {
        "colab": {
          "base_uri": "https://localhost:8080/"
        },
        "id": "Ltw0N1xUBS7C",
        "outputId": "58aecf2d-00f3-45ca-cbf7-8e0f30d55b85"
      },
      "execution_count": 28,
      "outputs": [
        {
          "output_type": "execute_result",
          "data": {
            "text/plain": [
              "array([[167.,  32.]])"
            ]
          },
          "metadata": {},
          "execution_count": 28
        }
      ]
    },
    {
      "cell_type": "code",
      "source": [
        "def predict(area, beadrooms, w, b):\n",
        "  x_scaled= sx.transform([[area, beadrooms]])[0]\n",
        "  scaled_price= w[0]* x_scaled[0] + w[1]* x_scaled[1] +b\n",
        "\n",
        "  return sy.inverse_transform([[scaled_price]])[0][0]\n",
        "\n",
        "predict(2600, 4, w, b)\n"
      ],
      "metadata": {
        "colab": {
          "base_uri": "https://localhost:8080/"
        },
        "id": "mkDzO922AArH",
        "outputId": "710c47bc-fbe1-4be8-ca77-9607c0974579"
      },
      "execution_count": 37,
      "outputs": [
        {
          "output_type": "stream",
          "name": "stderr",
          "text": [
            "/usr/local/lib/python3.7/dist-packages/sklearn/base.py:446: UserWarning: X does not have valid feature names, but MinMaxScaler was fitted with feature names\n",
            "  \"X does not have valid feature names, but\"\n"
          ]
        },
        {
          "output_type": "execute_result",
          "data": {
            "text/plain": [
              "128.45484403267596"
            ]
          },
          "metadata": {},
          "execution_count": 37
        }
      ]
    },
    {
      "cell_type": "markdown",
      "source": [
        "# Stochastic Gradient Descent"
      ],
      "metadata": {
        "id": "4E60n-rQEgfE"
      }
    },
    {
      "cell_type": "code",
      "source": [
        "import random \n",
        "random.randint(0,6)"
      ],
      "metadata": {
        "colab": {
          "base_uri": "https://localhost:8080/"
        },
        "id": "2KyxwQB6-xZB",
        "outputId": "aba88014-851e-4dd8-df3e-62293d19f72c"
      },
      "execution_count": 38,
      "outputs": [
        {
          "output_type": "execute_result",
          "data": {
            "text/plain": [
              "3"
            ]
          },
          "metadata": {},
          "execution_count": 38
        }
      ]
    },
    {
      "cell_type": "code",
      "source": [
        "def batch_gradient(x,y_true, epochs, learning_rate=0.01):\n",
        "  number_features=x.shape[1]\n",
        "\n",
        "  w=np.ones(shape=number_features)\n",
        "  b=0\n",
        "  total_samples=x.shape[0]\n",
        "  \n",
        "  epoch_list=[]\n",
        "  cost_list=[]\n",
        "\n",
        "  for i in range(epochs):\n",
        "    random_index= random.randint(0, total_samples-1)\n",
        "    sample_x= x[random_index]\n",
        "    sample_y= y_true[random_index]\n",
        "\n",
        "    y_predicted= np.dot(w, sample_x.T) + b # w1 x area + w2 x bedrooms +bias\n",
        "    \n",
        "    w_grad= -(2/total_samples) * (sample_x.T.dot(sample_y-y_predicted))\n",
        "    b_grad= -(2/total_samples) * np.sum(sample_y-y_predicted)\n",
        "\n",
        "    w= w - learning_rate* w_grad\n",
        "    b= b - learning_rate* b_grad\n",
        " \n",
        "    cost= np.mean(np.square(sample_y- y_predicted))   #mse\n",
        "    \n",
        "    if i%100==0:\n",
        "  \n",
        "      epoch_list.append(i)\n",
        "      cost_list.append(cost)\n",
        "    \n",
        "  return w,b,cost,epoch_list, cost_list\n",
        "\n",
        "\n",
        "w_sgd,b_sgd,cost_sgd,epoch_list_sgd, cost_list_sgd = batch_gradient(x_scaled, y_scaled.reshape(y_scaled.shape[0],), 10000 )\n",
        "\n",
        "w_sgd,b_sgd,cost_sgd  #takes more number of epochs "
      ],
      "metadata": {
        "colab": {
          "base_uri": "https://localhost:8080/"
        },
        "id": "uyVkGNG6EpDv",
        "outputId": "30c45f2f-f9c4-4881-bcd0-cbd7b751c718"
      },
      "execution_count": 55,
      "outputs": [
        {
          "output_type": "execute_result",
          "data": {
            "text/plain": [
              "(array([0.70663022, 0.67574147]), -0.22953192725761093, 0.010812573473271709)"
            ]
          },
          "metadata": {},
          "execution_count": 55
        }
      ]
    },
    {
      "cell_type": "code",
      "source": [
        "w,b,cost"
      ],
      "metadata": {
        "colab": {
          "base_uri": "https://localhost:8080/"
        },
        "id": "VKndcyQsFJzJ",
        "outputId": "867941ef-7dd1-4c59-85c0-415c042a1e0b"
      },
      "execution_count": 42,
      "outputs": [
        {
          "output_type": "execute_result",
          "data": {
            "text/plain": [
              "(array([0.70712464, 0.67456527]), -0.23034857438407427, 0.0068641890429808105)"
            ]
          },
          "metadata": {},
          "execution_count": 42
        }
      ]
    },
    {
      "cell_type": "code",
      "source": [
        "plt.xlabel('epoch')\n",
        "plt.ylabel('cost')\n",
        "plt.plot(epoch_list_sgd, cost_list_sgd)"
      ],
      "metadata": {
        "colab": {
          "base_uri": "https://localhost:8080/",
          "height": 296
        },
        "id": "LeFXtHQmFmhu",
        "outputId": "98b636b5-2534-48b1-fb8c-4c9d426c4d8b"
      },
      "execution_count": 56,
      "outputs": [
        {
          "output_type": "execute_result",
          "data": {
            "text/plain": [
              "[<matplotlib.lines.Line2D at 0x7fdb20b5d750>]"
            ]
          },
          "metadata": {},
          "execution_count": 56
        },
        {
          "output_type": "display_data",
          "data": {
            "image/png": "[encoded data removed]",
            "text/plain": [
              "<Figure size 432x288 with 1 Axes>"
            ]
          },
          "metadata": {
            "needs_background": "light"
          }
        }
      ]
    },
    {
      "cell_type": "code",
      "source": [
        "predict(2600,4, w_sgd, b_sgd)"
      ],
      "metadata": {
        "colab": {
          "base_uri": "https://localhost:8080/"
        },
        "id": "ORb3-rgyGQC6",
        "outputId": "43913741-ca7d-4f39-bb92-07427aa61da4"
      },
      "execution_count": 57,
      "outputs": [
        {
          "output_type": "stream",
          "name": "stderr",
          "text": [
            "/usr/local/lib/python3.7/dist-packages/sklearn/base.py:446: UserWarning: X does not have valid feature names, but MinMaxScaler was fitted with feature names\n",
            "  \"X does not have valid feature names, but\"\n"
          ]
        },
        {
          "output_type": "execute_result",
          "data": {
            "text/plain": [
              "128.64275236304658"
            ]
          },
          "metadata": {},
          "execution_count": 57
        }
      ]
    },
    {
      "cell_type": "markdown",
      "source": [
        "# Mini Batch Gradient"
      ],
      "metadata": {
        "id": "M1DYiqX0MR5n"
      }
    },
    {
      "cell_type": "code",
      "source": [
        "np.random.permutation(20)"
      ],
      "metadata": {
        "colab": {
          "base_uri": "https://localhost:8080/"
        },
        "id": "Yaw-2_QnMUp8",
        "outputId": "37b1fb8e-cca3-4c12-e9db-79dd9fd69ded"
      },
      "execution_count": 58,
      "outputs": [
        {
          "output_type": "execute_result",
          "data": {
            "text/plain": [
              "array([12,  0,  8,  9, 13,  3, 10, 16, 15,  7, 17,  2, 14,  4,  6, 11, 18,\n",
              "       19,  5,  1])"
            ]
          },
          "metadata": {},
          "execution_count": 58
        }
      ]
    },
    {
      "cell_type": "code",
      "source": [
        "def batch_gradient(x,y_true, epochs,batch_size = 5, learning_rate=0.01):\n",
        "  number_features=x.shape[1]\n",
        "\n",
        "  w=np.ones(shape=number_features)\n",
        "  b=0\n",
        "  total_samples=x.shape[0]\n",
        "  \n",
        "  epoch_list=[]\n",
        "  cost_list=[]\n",
        "\n",
        "  if batch_size > total_samples: # In this case mini batch becomes same as batch gradient descent\n",
        "        batch_size = total_samples\n",
        "  \n",
        "  num_batches = int(total_samples/batch_size)\n",
        "\n",
        "  for i in range(epochs):\n",
        "    random_indices = np.random.permutation(total_samples)\n",
        "    X_tmp = x[random_indices]\n",
        "    y_tmp = y_true[random_indices]\n",
        "        \n",
        "    for j in range(0,total_samples,batch_size):\n",
        "        Xj = X_tmp[j:j+batch_size]\n",
        "        yj = y_tmp[j:j+batch_size]\n",
        "        y_predicted = np.dot(w, Xj.T) + b\n",
        "        \n",
        "        w_grad = -(2/len(Xj))*(Xj.T.dot(yj-y_predicted))\n",
        "        b_grad = -(2/len(Xj))*np.sum(yj-y_predicted)\n",
        "        \n",
        "        w = w - learning_rate * w_grad\n",
        "        b = b - learning_rate * b_grad\n",
        "            \n",
        "        cost = np.mean(np.square(yj-y_predicted)) # MSE \n",
        "\n",
        "    if i%10==0:\n",
        "\n",
        "      epoch_list.append(i)\n",
        "      cost_list.append(cost)\n",
        "    \n",
        "  return w,b,cost,epoch_list, cost_list\n",
        "\n",
        "\n",
        "w_mb,b_mb,cost_mb,epoch_list_mb, cost_list_mb = batch_gradient(x_scaled, y_scaled.reshape(y_scaled.shape[0],), 100 )\n",
        "\n",
        "w_mb,b_mb,cost_mb  #not more epochs needed"
      ],
      "metadata": {
        "colab": {
          "base_uri": "https://localhost:8080/"
        },
        "id": "GoHBSzU2MVr2",
        "outputId": "e12d6970-8e91-4327-a345-11c1b0105929"
      },
      "execution_count": 65,
      "outputs": [
        {
          "output_type": "execute_result",
          "data": {
            "text/plain": [
              "(array([0.72454537, 0.69436606]), -0.24772488313355656, 0.005121598433656307)"
            ]
          },
          "metadata": {},
          "execution_count": 65
        }
      ]
    },
    {
      "cell_type": "code",
      "source": [
        "w,b,cost"
      ],
      "metadata": {
        "colab": {
          "base_uri": "https://localhost:8080/"
        },
        "id": "wE5m_YzqNf6X",
        "outputId": "ce72a9ce-f065-42d7-cc9e-0eb281df2881"
      },
      "execution_count": 63,
      "outputs": [
        {
          "output_type": "execute_result",
          "data": {
            "text/plain": [
              "(array([0.70712464, 0.67456527]), -0.23034857438407427, 0.0068641890429808105)"
            ]
          },
          "metadata": {},
          "execution_count": 63
        }
      ]
    },
    {
      "cell_type": "code",
      "source": [
        "plt.xlabel(\"epoch\")\n",
        "plt.ylabel(\"cost\")\n",
        "plt.plot(epoch_list_mb,cost_list_mb)"
      ],
      "metadata": {
        "colab": {
          "base_uri": "https://localhost:8080/",
          "height": 296
        },
        "id": "FRz4JkLONQmI",
        "outputId": "ffaabd36-736b-4de5-866c-f026594648c0"
      },
      "execution_count": 66,
      "outputs": [
        {
          "output_type": "execute_result",
          "data": {
            "text/plain": [
              "[<matplotlib.lines.Line2D at 0x7fdb20a57810>]"
            ]
          },
          "metadata": {},
          "execution_count": 66
        },
        {
          "output_type": "display_data",
          "data": {
            "image/png": "[encoded data removed]",
            "text/plain": [
              "<Figure size 432x288 with 1 Axes>"
            ]
          },
          "metadata": {
            "needs_background": "light"
          }
        }
      ]
    },
    {
      "cell_type": "code",
      "source": [
        "predict(2600,4, w_mb, b_mb)"
      ],
      "metadata": {
        "colab": {
          "base_uri": "https://localhost:8080/"
        },
        "id": "0R1QsgwCNTx9",
        "outputId": "93665675-c160-4682-ecdd-a8f44c9e4008"
      },
      "execution_count": 67,
      "outputs": [
        {
          "output_type": "stream",
          "name": "stderr",
          "text": [
            "/usr/local/lib/python3.7/dist-packages/sklearn/base.py:446: UserWarning: X does not have valid feature names, but MinMaxScaler was fitted with feature names\n",
            "  \"X does not have valid feature names, but\"\n"
          ]
        },
        {
          "output_type": "execute_result",
          "data": {
            "text/plain": [
              "129.57360937518632"
            ]
          },
          "metadata": {},
          "execution_count": 67
        }
      ]
    }
  ]
}
